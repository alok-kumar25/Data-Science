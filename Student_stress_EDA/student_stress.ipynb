{
 "cells": [
  {
   "cell_type": "code",
   "execution_count": 1,
   "id": "3162652b-b8d7-4bd4-ad07-b5411583e1c1",
   "metadata": {},
   "outputs": [],
   "source": [
    "import pandas as pd\n",
    "import numpy as np\n",
    "import matplotlib.pyplot as plt\n",
    "import seaborn as sns"
   ]
  },
  {
   "cell_type": "code",
   "execution_count": 2,
   "id": "f7effa5b-3784-47fa-8ec7-9e68a6abdc24",
   "metadata": {},
   "outputs": [],
   "source": [
    "df=pd.read_csv(\"C:\\\\python\\\\Student_stress_prediction\\\\Student_attitude_and_behavior.csv\")"
   ]
  },
  {
   "cell_type": "code",
   "execution_count": 3,
   "id": "aa671b39-daf5-4149-840e-64a600b08b1a",
   "metadata": {},
   "outputs": [
    {
     "data": {
      "text/html": [
       "<div>\n",
       "<style scoped>\n",
       "    .dataframe tbody tr th:only-of-type {\n",
       "        vertical-align: middle;\n",
       "    }\n",
       "\n",
       "    .dataframe tbody tr th {\n",
       "        vertical-align: top;\n",
       "    }\n",
       "\n",
       "    .dataframe thead th {\n",
       "        text-align: right;\n",
       "    }\n",
       "</style>\n",
       "<table border=\"1\" class=\"dataframe\">\n",
       "  <thead>\n",
       "    <tr style=\"text-align: right;\">\n",
       "      <th></th>\n",
       "      <th>Certification Course</th>\n",
       "      <th>Gender</th>\n",
       "      <th>Department</th>\n",
       "      <th>Height(CM)</th>\n",
       "      <th>Weight(KG)</th>\n",
       "      <th>10th Mark</th>\n",
       "      <th>12th Mark</th>\n",
       "      <th>college mark</th>\n",
       "      <th>hobbies</th>\n",
       "      <th>daily studing time</th>\n",
       "      <th>prefer to study in</th>\n",
       "      <th>salary expectation</th>\n",
       "      <th>Do you like your degree?</th>\n",
       "      <th>willingness to pursue a career based on their degree</th>\n",
       "      <th>social medai &amp; video</th>\n",
       "      <th>Travelling Time</th>\n",
       "      <th>Stress Level</th>\n",
       "      <th>Financial Status</th>\n",
       "      <th>part-time job</th>\n",
       "    </tr>\n",
       "  </thead>\n",
       "  <tbody>\n",
       "    <tr>\n",
       "      <th>0</th>\n",
       "      <td>No</td>\n",
       "      <td>Male</td>\n",
       "      <td>BCA</td>\n",
       "      <td>100.0</td>\n",
       "      <td>58.0</td>\n",
       "      <td>79.0</td>\n",
       "      <td>64.0</td>\n",
       "      <td>80.0</td>\n",
       "      <td>Video Games</td>\n",
       "      <td>0 - 30 minute</td>\n",
       "      <td>Morning</td>\n",
       "      <td>40000</td>\n",
       "      <td>No</td>\n",
       "      <td>50%</td>\n",
       "      <td>1.30 - 2 hour</td>\n",
       "      <td>30 - 60 minutes</td>\n",
       "      <td>Bad</td>\n",
       "      <td>Bad</td>\n",
       "      <td>No</td>\n",
       "    </tr>\n",
       "    <tr>\n",
       "      <th>1</th>\n",
       "      <td>No</td>\n",
       "      <td>Female</td>\n",
       "      <td>BCA</td>\n",
       "      <td>90.0</td>\n",
       "      <td>40.0</td>\n",
       "      <td>70.0</td>\n",
       "      <td>80.0</td>\n",
       "      <td>70.0</td>\n",
       "      <td>Cinema</td>\n",
       "      <td>30 - 60 minute</td>\n",
       "      <td>Morning</td>\n",
       "      <td>15000</td>\n",
       "      <td>Yes</td>\n",
       "      <td>75%</td>\n",
       "      <td>1 - 1.30 hour</td>\n",
       "      <td>0 - 30 minutes</td>\n",
       "      <td>Bad</td>\n",
       "      <td>Bad</td>\n",
       "      <td>No</td>\n",
       "    </tr>\n",
       "    <tr>\n",
       "      <th>2</th>\n",
       "      <td>Yes</td>\n",
       "      <td>Male</td>\n",
       "      <td>BCA</td>\n",
       "      <td>159.0</td>\n",
       "      <td>78.0</td>\n",
       "      <td>71.0</td>\n",
       "      <td>61.0</td>\n",
       "      <td>55.0</td>\n",
       "      <td>Cinema</td>\n",
       "      <td>1 - 2 Hour</td>\n",
       "      <td>Anytime</td>\n",
       "      <td>13000</td>\n",
       "      <td>Yes</td>\n",
       "      <td>50%</td>\n",
       "      <td>More than 2 hour</td>\n",
       "      <td>30 - 60 minutes</td>\n",
       "      <td>Awful</td>\n",
       "      <td>Bad</td>\n",
       "      <td>No</td>\n",
       "    </tr>\n",
       "    <tr>\n",
       "      <th>3</th>\n",
       "      <td>Yes</td>\n",
       "      <td>Female</td>\n",
       "      <td>BCA</td>\n",
       "      <td>147.0</td>\n",
       "      <td>20.0</td>\n",
       "      <td>70.0</td>\n",
       "      <td>59.0</td>\n",
       "      <td>58.0</td>\n",
       "      <td>Reading books</td>\n",
       "      <td>1 - 2 Hour</td>\n",
       "      <td>Anytime</td>\n",
       "      <td>1500000</td>\n",
       "      <td>No</td>\n",
       "      <td>50%</td>\n",
       "      <td>1.30 - 2 hour</td>\n",
       "      <td>0 - 30 minutes</td>\n",
       "      <td>Bad</td>\n",
       "      <td>good</td>\n",
       "      <td>No</td>\n",
       "    </tr>\n",
       "    <tr>\n",
       "      <th>4</th>\n",
       "      <td>No</td>\n",
       "      <td>Male</td>\n",
       "      <td>BCA</td>\n",
       "      <td>170.0</td>\n",
       "      <td>54.0</td>\n",
       "      <td>40.0</td>\n",
       "      <td>65.0</td>\n",
       "      <td>30.0</td>\n",
       "      <td>Video Games</td>\n",
       "      <td>30 - 60 minute</td>\n",
       "      <td>Morning</td>\n",
       "      <td>50000</td>\n",
       "      <td>Yes</td>\n",
       "      <td>25%</td>\n",
       "      <td>1.30 - 2 hour</td>\n",
       "      <td>30 - 60 minutes</td>\n",
       "      <td>Good</td>\n",
       "      <td>good</td>\n",
       "      <td>No</td>\n",
       "    </tr>\n",
       "  </tbody>\n",
       "</table>\n",
       "</div>"
      ],
      "text/plain": [
       "  Certification Course  Gender Department  Height(CM)  Weight(KG)  10th Mark  \\\n",
       "0                   No    Male        BCA       100.0        58.0       79.0   \n",
       "1                   No  Female        BCA        90.0        40.0       70.0   \n",
       "2                  Yes    Male        BCA       159.0        78.0       71.0   \n",
       "3                  Yes  Female        BCA       147.0        20.0       70.0   \n",
       "4                   No    Male        BCA       170.0        54.0       40.0   \n",
       "\n",
       "   12th Mark  college mark        hobbies daily studing time  \\\n",
       "0       64.0          80.0    Video Games      0 - 30 minute   \n",
       "1       80.0          70.0         Cinema     30 - 60 minute   \n",
       "2       61.0          55.0         Cinema         1 - 2 Hour   \n",
       "3       59.0          58.0  Reading books         1 - 2 Hour   \n",
       "4       65.0          30.0    Video Games     30 - 60 minute   \n",
       "\n",
       "  prefer to study in  salary expectation Do you like your degree?  \\\n",
       "0            Morning               40000                       No   \n",
       "1            Morning               15000                      Yes   \n",
       "2            Anytime               13000                      Yes   \n",
       "3            Anytime             1500000                       No   \n",
       "4            Morning               50000                      Yes   \n",
       "\n",
       "  willingness to pursue a career based on their degree   social medai & video  \\\n",
       "0                                                50%            1.30 - 2 hour   \n",
       "1                                                75%            1 - 1.30 hour   \n",
       "2                                                50%         More than 2 hour   \n",
       "3                                                50%            1.30 - 2 hour   \n",
       "4                                                25%            1.30 - 2 hour   \n",
       "\n",
       "  Travelling Time  Stress Level  Financial Status part-time job  \n",
       "0  30 - 60 minutes           Bad              Bad            No  \n",
       "1   0 - 30 minutes           Bad              Bad            No  \n",
       "2  30 - 60 minutes         Awful              Bad            No  \n",
       "3   0 - 30 minutes           Bad             good            No  \n",
       "4  30 - 60 minutes          Good             good            No  "
      ]
     },
     "execution_count": 3,
     "metadata": {},
     "output_type": "execute_result"
    }
   ],
   "source": [
    "df.head()"
   ]
  },
  {
   "cell_type": "markdown",
   "id": "bff3c73f-c620-4a08-a4e3-d5297148687a",
   "metadata": {},
   "source": [
    "## Data Transformation"
   ]
  },
  {
   "cell_type": "markdown",
   "id": "c0abf771-f5c3-43df-a338-735574d96c56",
   "metadata": {},
   "source": [
    "### Renaming the columns"
   ]
  },
  {
   "cell_type": "code",
   "execution_count": 4,
   "id": "2408e86a-d357-46c9-a5bb-e4e1f9c3ecec",
   "metadata": {},
   "outputs": [],
   "source": [
    "df.rename(columns={\"Certification Course\":\"certification\",\"Gender\":\"gender\",\n",
    "                   \"Department\":\"dep\",\"Height(CM)\":\"height\",\"Weight(KG)\":\"weight\",\n",
    "                   \"10th Mark\":\"mark10th\",\"12th Mark\":\"mark12th\",\"college mark\":\"collegemark\",\n",
    "                   \"daily studing time\":\"studytime\",\"prefer to study in\":\"prefertime\",\"salary expectation\":\"salexpect\",\n",
    "                   \"Do you like your degree?\":\"likedegree\",\"willingness to pursue a career based on their degree  \":\"carrer_willing\",\n",
    "                   \"social medai & video\":\"smtime\",\"Travelling Time \":\"travel\",\"Stress Level \":\"stress\",\"Financial Status\":\"financial\",\n",
    "                   \"part-time job\":\"parttime\"\n",
    "                  },inplace=True)"
   ]
  },
  {
   "cell_type": "code",
   "execution_count": 5,
   "id": "cc43e94d-1fe9-4fe2-a50a-52a960f6150f",
   "metadata": {},
   "outputs": [
    {
     "data": {
      "text/html": [
       "<div>\n",
       "<style scoped>\n",
       "    .dataframe tbody tr th:only-of-type {\n",
       "        vertical-align: middle;\n",
       "    }\n",
       "\n",
       "    .dataframe tbody tr th {\n",
       "        vertical-align: top;\n",
       "    }\n",
       "\n",
       "    .dataframe thead th {\n",
       "        text-align: right;\n",
       "    }\n",
       "</style>\n",
       "<table border=\"1\" class=\"dataframe\">\n",
       "  <thead>\n",
       "    <tr style=\"text-align: right;\">\n",
       "      <th></th>\n",
       "      <th>certification</th>\n",
       "      <th>gender</th>\n",
       "      <th>dep</th>\n",
       "      <th>height</th>\n",
       "      <th>weight</th>\n",
       "      <th>mark10th</th>\n",
       "      <th>mark12th</th>\n",
       "      <th>collegemark</th>\n",
       "      <th>hobbies</th>\n",
       "      <th>studytime</th>\n",
       "      <th>prefertime</th>\n",
       "      <th>salexpect</th>\n",
       "      <th>likedegree</th>\n",
       "      <th>carrer_willing</th>\n",
       "      <th>smtime</th>\n",
       "      <th>travel</th>\n",
       "      <th>stress</th>\n",
       "      <th>financial</th>\n",
       "      <th>parttime</th>\n",
       "    </tr>\n",
       "  </thead>\n",
       "  <tbody>\n",
       "    <tr>\n",
       "      <th>0</th>\n",
       "      <td>No</td>\n",
       "      <td>Male</td>\n",
       "      <td>BCA</td>\n",
       "      <td>100.0</td>\n",
       "      <td>58.0</td>\n",
       "      <td>79.0</td>\n",
       "      <td>64.0</td>\n",
       "      <td>80.0</td>\n",
       "      <td>Video Games</td>\n",
       "      <td>0 - 30 minute</td>\n",
       "      <td>Morning</td>\n",
       "      <td>40000</td>\n",
       "      <td>No</td>\n",
       "      <td>50%</td>\n",
       "      <td>1.30 - 2 hour</td>\n",
       "      <td>30 - 60 minutes</td>\n",
       "      <td>Bad</td>\n",
       "      <td>Bad</td>\n",
       "      <td>No</td>\n",
       "    </tr>\n",
       "    <tr>\n",
       "      <th>1</th>\n",
       "      <td>No</td>\n",
       "      <td>Female</td>\n",
       "      <td>BCA</td>\n",
       "      <td>90.0</td>\n",
       "      <td>40.0</td>\n",
       "      <td>70.0</td>\n",
       "      <td>80.0</td>\n",
       "      <td>70.0</td>\n",
       "      <td>Cinema</td>\n",
       "      <td>30 - 60 minute</td>\n",
       "      <td>Morning</td>\n",
       "      <td>15000</td>\n",
       "      <td>Yes</td>\n",
       "      <td>75%</td>\n",
       "      <td>1 - 1.30 hour</td>\n",
       "      <td>0 - 30 minutes</td>\n",
       "      <td>Bad</td>\n",
       "      <td>Bad</td>\n",
       "      <td>No</td>\n",
       "    </tr>\n",
       "    <tr>\n",
       "      <th>2</th>\n",
       "      <td>Yes</td>\n",
       "      <td>Male</td>\n",
       "      <td>BCA</td>\n",
       "      <td>159.0</td>\n",
       "      <td>78.0</td>\n",
       "      <td>71.0</td>\n",
       "      <td>61.0</td>\n",
       "      <td>55.0</td>\n",
       "      <td>Cinema</td>\n",
       "      <td>1 - 2 Hour</td>\n",
       "      <td>Anytime</td>\n",
       "      <td>13000</td>\n",
       "      <td>Yes</td>\n",
       "      <td>50%</td>\n",
       "      <td>More than 2 hour</td>\n",
       "      <td>30 - 60 minutes</td>\n",
       "      <td>Awful</td>\n",
       "      <td>Bad</td>\n",
       "      <td>No</td>\n",
       "    </tr>\n",
       "    <tr>\n",
       "      <th>3</th>\n",
       "      <td>Yes</td>\n",
       "      <td>Female</td>\n",
       "      <td>BCA</td>\n",
       "      <td>147.0</td>\n",
       "      <td>20.0</td>\n",
       "      <td>70.0</td>\n",
       "      <td>59.0</td>\n",
       "      <td>58.0</td>\n",
       "      <td>Reading books</td>\n",
       "      <td>1 - 2 Hour</td>\n",
       "      <td>Anytime</td>\n",
       "      <td>1500000</td>\n",
       "      <td>No</td>\n",
       "      <td>50%</td>\n",
       "      <td>1.30 - 2 hour</td>\n",
       "      <td>0 - 30 minutes</td>\n",
       "      <td>Bad</td>\n",
       "      <td>good</td>\n",
       "      <td>No</td>\n",
       "    </tr>\n",
       "    <tr>\n",
       "      <th>4</th>\n",
       "      <td>No</td>\n",
       "      <td>Male</td>\n",
       "      <td>BCA</td>\n",
       "      <td>170.0</td>\n",
       "      <td>54.0</td>\n",
       "      <td>40.0</td>\n",
       "      <td>65.0</td>\n",
       "      <td>30.0</td>\n",
       "      <td>Video Games</td>\n",
       "      <td>30 - 60 minute</td>\n",
       "      <td>Morning</td>\n",
       "      <td>50000</td>\n",
       "      <td>Yes</td>\n",
       "      <td>25%</td>\n",
       "      <td>1.30 - 2 hour</td>\n",
       "      <td>30 - 60 minutes</td>\n",
       "      <td>Good</td>\n",
       "      <td>good</td>\n",
       "      <td>No</td>\n",
       "    </tr>\n",
       "  </tbody>\n",
       "</table>\n",
       "</div>"
      ],
      "text/plain": [
       "  certification  gender  dep  height  weight  mark10th  mark12th  collegemark  \\\n",
       "0            No    Male  BCA   100.0    58.0      79.0      64.0         80.0   \n",
       "1            No  Female  BCA    90.0    40.0      70.0      80.0         70.0   \n",
       "2           Yes    Male  BCA   159.0    78.0      71.0      61.0         55.0   \n",
       "3           Yes  Female  BCA   147.0    20.0      70.0      59.0         58.0   \n",
       "4            No    Male  BCA   170.0    54.0      40.0      65.0         30.0   \n",
       "\n",
       "         hobbies       studytime prefertime  salexpect likedegree  \\\n",
       "0    Video Games   0 - 30 minute    Morning      40000         No   \n",
       "1         Cinema  30 - 60 minute    Morning      15000        Yes   \n",
       "2         Cinema      1 - 2 Hour    Anytime      13000        Yes   \n",
       "3  Reading books      1 - 2 Hour    Anytime    1500000         No   \n",
       "4    Video Games  30 - 60 minute    Morning      50000        Yes   \n",
       "\n",
       "  carrer_willing            smtime           travel stress financial parttime  \n",
       "0            50%     1.30 - 2 hour  30 - 60 minutes    Bad       Bad       No  \n",
       "1            75%     1 - 1.30 hour   0 - 30 minutes    Bad       Bad       No  \n",
       "2            50%  More than 2 hour  30 - 60 minutes  Awful       Bad       No  \n",
       "3            50%     1.30 - 2 hour   0 - 30 minutes    Bad      good       No  \n",
       "4            25%     1.30 - 2 hour  30 - 60 minutes   Good      good       No  "
      ]
     },
     "execution_count": 5,
     "metadata": {},
     "output_type": "execute_result"
    }
   ],
   "source": [
    "df.head()"
   ]
  },
  {
   "cell_type": "code",
   "execution_count": 6,
   "id": "b30684ec-6dc1-433e-b8ca-4970af037c96",
   "metadata": {},
   "outputs": [
    {
     "name": "stdout",
     "output_type": "stream",
     "text": [
      "<class 'pandas.core.frame.DataFrame'>\n",
      "RangeIndex: 235 entries, 0 to 234\n",
      "Data columns (total 19 columns):\n",
      " #   Column          Non-Null Count  Dtype  \n",
      "---  ------          --------------  -----  \n",
      " 0   certification   235 non-null    object \n",
      " 1   gender          235 non-null    object \n",
      " 2   dep             235 non-null    object \n",
      " 3   height          235 non-null    float64\n",
      " 4   weight          235 non-null    float64\n",
      " 5   mark10th        235 non-null    float64\n",
      " 6   mark12th        235 non-null    float64\n",
      " 7   collegemark     235 non-null    float64\n",
      " 8   hobbies         235 non-null    object \n",
      " 9   studytime       235 non-null    object \n",
      " 10  prefertime      235 non-null    object \n",
      " 11  salexpect       235 non-null    int64  \n",
      " 12  likedegree      235 non-null    object \n",
      " 13  carrer_willing  235 non-null    object \n",
      " 14  smtime          235 non-null    object \n",
      " 15  travel          235 non-null    object \n",
      " 16  stress          235 non-null    object \n",
      " 17  financial       235 non-null    object \n",
      " 18  parttime        235 non-null    object \n",
      "dtypes: float64(5), int64(1), object(13)\n",
      "memory usage: 35.0+ KB\n"
     ]
    }
   ],
   "source": [
    "df.info()"
   ]
  },
  {
   "cell_type": "code",
   "execution_count": 7,
   "id": "cf7a974b-e3e7-44a7-ba5f-25aa4154f049",
   "metadata": {},
   "outputs": [
    {
     "data": {
      "text/plain": [
       "0"
      ]
     },
     "execution_count": 7,
     "metadata": {},
     "output_type": "execute_result"
    }
   ],
   "source": [
    "df.duplicated().sum()"
   ]
  },
  {
   "cell_type": "code",
   "execution_count": 8,
   "id": "1d9fd351-2544-4618-999e-2382af822a2d",
   "metadata": {},
   "outputs": [
    {
     "data": {
      "text/html": [
       "<div>\n",
       "<style scoped>\n",
       "    .dataframe tbody tr th:only-of-type {\n",
       "        vertical-align: middle;\n",
       "    }\n",
       "\n",
       "    .dataframe tbody tr th {\n",
       "        vertical-align: top;\n",
       "    }\n",
       "\n",
       "    .dataframe thead th {\n",
       "        text-align: right;\n",
       "    }\n",
       "</style>\n",
       "<table border=\"1\" class=\"dataframe\">\n",
       "  <thead>\n",
       "    <tr style=\"text-align: right;\">\n",
       "      <th></th>\n",
       "      <th>certification</th>\n",
       "      <th>gender</th>\n",
       "      <th>dep</th>\n",
       "      <th>height</th>\n",
       "      <th>weight</th>\n",
       "      <th>mark10th</th>\n",
       "      <th>mark12th</th>\n",
       "      <th>collegemark</th>\n",
       "      <th>hobbies</th>\n",
       "      <th>studytime</th>\n",
       "      <th>prefertime</th>\n",
       "      <th>salexpect</th>\n",
       "      <th>likedegree</th>\n",
       "      <th>carrer_willing</th>\n",
       "      <th>smtime</th>\n",
       "      <th>travel</th>\n",
       "      <th>stress</th>\n",
       "      <th>financial</th>\n",
       "      <th>parttime</th>\n",
       "    </tr>\n",
       "  </thead>\n",
       "  <tbody>\n",
       "    <tr>\n",
       "      <th>0</th>\n",
       "      <td>No</td>\n",
       "      <td>Male</td>\n",
       "      <td>BCA</td>\n",
       "      <td>100.0</td>\n",
       "      <td>58.0</td>\n",
       "      <td>79.0</td>\n",
       "      <td>64.0</td>\n",
       "      <td>80.0</td>\n",
       "      <td>Video Games</td>\n",
       "      <td>0 - 30 minute</td>\n",
       "      <td>Morning</td>\n",
       "      <td>40000</td>\n",
       "      <td>No</td>\n",
       "      <td>50%</td>\n",
       "      <td>1.30 - 2 hour</td>\n",
       "      <td>30 - 60 minutes</td>\n",
       "      <td>Bad</td>\n",
       "      <td>Bad</td>\n",
       "      <td>No</td>\n",
       "    </tr>\n",
       "    <tr>\n",
       "      <th>1</th>\n",
       "      <td>No</td>\n",
       "      <td>Female</td>\n",
       "      <td>BCA</td>\n",
       "      <td>90.0</td>\n",
       "      <td>40.0</td>\n",
       "      <td>70.0</td>\n",
       "      <td>80.0</td>\n",
       "      <td>70.0</td>\n",
       "      <td>Cinema</td>\n",
       "      <td>30 - 60 minute</td>\n",
       "      <td>Morning</td>\n",
       "      <td>15000</td>\n",
       "      <td>Yes</td>\n",
       "      <td>75%</td>\n",
       "      <td>1 - 1.30 hour</td>\n",
       "      <td>0 - 30 minutes</td>\n",
       "      <td>Bad</td>\n",
       "      <td>Bad</td>\n",
       "      <td>No</td>\n",
       "    </tr>\n",
       "    <tr>\n",
       "      <th>2</th>\n",
       "      <td>Yes</td>\n",
       "      <td>Male</td>\n",
       "      <td>BCA</td>\n",
       "      <td>159.0</td>\n",
       "      <td>78.0</td>\n",
       "      <td>71.0</td>\n",
       "      <td>61.0</td>\n",
       "      <td>55.0</td>\n",
       "      <td>Cinema</td>\n",
       "      <td>1 - 2 Hour</td>\n",
       "      <td>Anytime</td>\n",
       "      <td>13000</td>\n",
       "      <td>Yes</td>\n",
       "      <td>50%</td>\n",
       "      <td>More than 2 hour</td>\n",
       "      <td>30 - 60 minutes</td>\n",
       "      <td>Awful</td>\n",
       "      <td>Bad</td>\n",
       "      <td>No</td>\n",
       "    </tr>\n",
       "    <tr>\n",
       "      <th>3</th>\n",
       "      <td>Yes</td>\n",
       "      <td>Female</td>\n",
       "      <td>BCA</td>\n",
       "      <td>147.0</td>\n",
       "      <td>20.0</td>\n",
       "      <td>70.0</td>\n",
       "      <td>59.0</td>\n",
       "      <td>58.0</td>\n",
       "      <td>Reading books</td>\n",
       "      <td>1 - 2 Hour</td>\n",
       "      <td>Anytime</td>\n",
       "      <td>1500000</td>\n",
       "      <td>No</td>\n",
       "      <td>50%</td>\n",
       "      <td>1.30 - 2 hour</td>\n",
       "      <td>0 - 30 minutes</td>\n",
       "      <td>Bad</td>\n",
       "      <td>good</td>\n",
       "      <td>No</td>\n",
       "    </tr>\n",
       "    <tr>\n",
       "      <th>4</th>\n",
       "      <td>No</td>\n",
       "      <td>Male</td>\n",
       "      <td>BCA</td>\n",
       "      <td>170.0</td>\n",
       "      <td>54.0</td>\n",
       "      <td>40.0</td>\n",
       "      <td>65.0</td>\n",
       "      <td>30.0</td>\n",
       "      <td>Video Games</td>\n",
       "      <td>30 - 60 minute</td>\n",
       "      <td>Morning</td>\n",
       "      <td>50000</td>\n",
       "      <td>Yes</td>\n",
       "      <td>25%</td>\n",
       "      <td>1.30 - 2 hour</td>\n",
       "      <td>30 - 60 minutes</td>\n",
       "      <td>Good</td>\n",
       "      <td>good</td>\n",
       "      <td>No</td>\n",
       "    </tr>\n",
       "  </tbody>\n",
       "</table>\n",
       "</div>"
      ],
      "text/plain": [
       "  certification  gender  dep  height  weight  mark10th  mark12th  collegemark  \\\n",
       "0            No    Male  BCA   100.0    58.0      79.0      64.0         80.0   \n",
       "1            No  Female  BCA    90.0    40.0      70.0      80.0         70.0   \n",
       "2           Yes    Male  BCA   159.0    78.0      71.0      61.0         55.0   \n",
       "3           Yes  Female  BCA   147.0    20.0      70.0      59.0         58.0   \n",
       "4            No    Male  BCA   170.0    54.0      40.0      65.0         30.0   \n",
       "\n",
       "         hobbies       studytime prefertime  salexpect likedegree  \\\n",
       "0    Video Games   0 - 30 minute    Morning      40000         No   \n",
       "1         Cinema  30 - 60 minute    Morning      15000        Yes   \n",
       "2         Cinema      1 - 2 Hour    Anytime      13000        Yes   \n",
       "3  Reading books      1 - 2 Hour    Anytime    1500000         No   \n",
       "4    Video Games  30 - 60 minute    Morning      50000        Yes   \n",
       "\n",
       "  carrer_willing            smtime           travel stress financial parttime  \n",
       "0            50%     1.30 - 2 hour  30 - 60 minutes    Bad       Bad       No  \n",
       "1            75%     1 - 1.30 hour   0 - 30 minutes    Bad       Bad       No  \n",
       "2            50%  More than 2 hour  30 - 60 minutes  Awful       Bad       No  \n",
       "3            50%     1.30 - 2 hour   0 - 30 minutes    Bad      good       No  \n",
       "4            25%     1.30 - 2 hour  30 - 60 minutes   Good      good       No  "
      ]
     },
     "execution_count": 8,
     "metadata": {},
     "output_type": "execute_result"
    }
   ],
   "source": [
    "df.head()"
   ]
  },
  {
   "cell_type": "markdown",
   "id": "86c1fc26-8fb5-460b-ac0a-c6f5903dcb9c",
   "metadata": {},
   "source": [
    "### Studytime\n",
    "here have created a fuction and it extracts the hours/minutes and return average \\\n",
    "This also coverts hours into minutes"
   ]
  },
  {
   "cell_type": "code",
   "execution_count": 9,
   "id": "734380cf-f7e7-4598-9d59-84666aa20ba6",
   "metadata": {},
   "outputs": [
    {
     "data": {
      "text/plain": [
       "array(['0 - 30 minute', '30 - 60 minute', '1 - 2 Hour', '2 - 3 hour',\n",
       "       '3 - 4 hour', 'More Than 4 hour'], dtype=object)"
      ]
     },
     "execution_count": 9,
     "metadata": {},
     "output_type": "execute_result"
    }
   ],
   "source": [
    "df[\"studytime\"].unique()"
   ]
  },
  {
   "cell_type": "code",
   "execution_count": 10,
   "id": "a5046261-5083-40bd-9796-a9badb18b6f1",
   "metadata": {},
   "outputs": [],
   "source": [
    "def studyTime(x):\n",
    "    x=x.split()\n",
    "    time =[]\n",
    "    for i in x:\n",
    "        if i.isnumeric():\n",
    "            time.append(int(i))\n",
    "    if len(time) == 1:\n",
    "        return time[0]*60\n",
    "    elif len(time) == 2 and ((\"Hour\" in x) or (\"hour\" in x)):\n",
    "        return ((time[0]*60 + time[1]*60)/2)\n",
    "    elif len(time) == 2:\n",
    "        return (sum(time)/len(time))\n",
    "    "
   ]
  },
  {
   "cell_type": "code",
   "execution_count": 11,
   "id": "5e67e397-901d-4c0f-b452-cdcedd8ba204",
   "metadata": {},
   "outputs": [],
   "source": [
    "df[\"studytime\"]=df[\"studytime\"].apply(studyTime)"
   ]
  },
  {
   "cell_type": "code",
   "execution_count": 12,
   "id": "59bdbf7b-d489-4b5f-9252-6b0d0cec085c",
   "metadata": {},
   "outputs": [
    {
     "data": {
      "text/html": [
       "<div>\n",
       "<style scoped>\n",
       "    .dataframe tbody tr th:only-of-type {\n",
       "        vertical-align: middle;\n",
       "    }\n",
       "\n",
       "    .dataframe tbody tr th {\n",
       "        vertical-align: top;\n",
       "    }\n",
       "\n",
       "    .dataframe thead th {\n",
       "        text-align: right;\n",
       "    }\n",
       "</style>\n",
       "<table border=\"1\" class=\"dataframe\">\n",
       "  <thead>\n",
       "    <tr style=\"text-align: right;\">\n",
       "      <th></th>\n",
       "      <th>certification</th>\n",
       "      <th>gender</th>\n",
       "      <th>dep</th>\n",
       "      <th>height</th>\n",
       "      <th>weight</th>\n",
       "      <th>mark10th</th>\n",
       "      <th>mark12th</th>\n",
       "      <th>collegemark</th>\n",
       "      <th>hobbies</th>\n",
       "      <th>studytime</th>\n",
       "      <th>prefertime</th>\n",
       "      <th>salexpect</th>\n",
       "      <th>likedegree</th>\n",
       "      <th>carrer_willing</th>\n",
       "      <th>smtime</th>\n",
       "      <th>travel</th>\n",
       "      <th>stress</th>\n",
       "      <th>financial</th>\n",
       "      <th>parttime</th>\n",
       "    </tr>\n",
       "  </thead>\n",
       "  <tbody>\n",
       "    <tr>\n",
       "      <th>0</th>\n",
       "      <td>No</td>\n",
       "      <td>Male</td>\n",
       "      <td>BCA</td>\n",
       "      <td>100.0</td>\n",
       "      <td>58.0</td>\n",
       "      <td>79.0</td>\n",
       "      <td>64.0</td>\n",
       "      <td>80.0</td>\n",
       "      <td>Video Games</td>\n",
       "      <td>15.0</td>\n",
       "      <td>Morning</td>\n",
       "      <td>40000</td>\n",
       "      <td>No</td>\n",
       "      <td>50%</td>\n",
       "      <td>1.30 - 2 hour</td>\n",
       "      <td>30 - 60 minutes</td>\n",
       "      <td>Bad</td>\n",
       "      <td>Bad</td>\n",
       "      <td>No</td>\n",
       "    </tr>\n",
       "    <tr>\n",
       "      <th>1</th>\n",
       "      <td>No</td>\n",
       "      <td>Female</td>\n",
       "      <td>BCA</td>\n",
       "      <td>90.0</td>\n",
       "      <td>40.0</td>\n",
       "      <td>70.0</td>\n",
       "      <td>80.0</td>\n",
       "      <td>70.0</td>\n",
       "      <td>Cinema</td>\n",
       "      <td>45.0</td>\n",
       "      <td>Morning</td>\n",
       "      <td>15000</td>\n",
       "      <td>Yes</td>\n",
       "      <td>75%</td>\n",
       "      <td>1 - 1.30 hour</td>\n",
       "      <td>0 - 30 minutes</td>\n",
       "      <td>Bad</td>\n",
       "      <td>Bad</td>\n",
       "      <td>No</td>\n",
       "    </tr>\n",
       "    <tr>\n",
       "      <th>2</th>\n",
       "      <td>Yes</td>\n",
       "      <td>Male</td>\n",
       "      <td>BCA</td>\n",
       "      <td>159.0</td>\n",
       "      <td>78.0</td>\n",
       "      <td>71.0</td>\n",
       "      <td>61.0</td>\n",
       "      <td>55.0</td>\n",
       "      <td>Cinema</td>\n",
       "      <td>90.0</td>\n",
       "      <td>Anytime</td>\n",
       "      <td>13000</td>\n",
       "      <td>Yes</td>\n",
       "      <td>50%</td>\n",
       "      <td>More than 2 hour</td>\n",
       "      <td>30 - 60 minutes</td>\n",
       "      <td>Awful</td>\n",
       "      <td>Bad</td>\n",
       "      <td>No</td>\n",
       "    </tr>\n",
       "    <tr>\n",
       "      <th>3</th>\n",
       "      <td>Yes</td>\n",
       "      <td>Female</td>\n",
       "      <td>BCA</td>\n",
       "      <td>147.0</td>\n",
       "      <td>20.0</td>\n",
       "      <td>70.0</td>\n",
       "      <td>59.0</td>\n",
       "      <td>58.0</td>\n",
       "      <td>Reading books</td>\n",
       "      <td>90.0</td>\n",
       "      <td>Anytime</td>\n",
       "      <td>1500000</td>\n",
       "      <td>No</td>\n",
       "      <td>50%</td>\n",
       "      <td>1.30 - 2 hour</td>\n",
       "      <td>0 - 30 minutes</td>\n",
       "      <td>Bad</td>\n",
       "      <td>good</td>\n",
       "      <td>No</td>\n",
       "    </tr>\n",
       "    <tr>\n",
       "      <th>4</th>\n",
       "      <td>No</td>\n",
       "      <td>Male</td>\n",
       "      <td>BCA</td>\n",
       "      <td>170.0</td>\n",
       "      <td>54.0</td>\n",
       "      <td>40.0</td>\n",
       "      <td>65.0</td>\n",
       "      <td>30.0</td>\n",
       "      <td>Video Games</td>\n",
       "      <td>45.0</td>\n",
       "      <td>Morning</td>\n",
       "      <td>50000</td>\n",
       "      <td>Yes</td>\n",
       "      <td>25%</td>\n",
       "      <td>1.30 - 2 hour</td>\n",
       "      <td>30 - 60 minutes</td>\n",
       "      <td>Good</td>\n",
       "      <td>good</td>\n",
       "      <td>No</td>\n",
       "    </tr>\n",
       "  </tbody>\n",
       "</table>\n",
       "</div>"
      ],
      "text/plain": [
       "  certification  gender  dep  height  weight  mark10th  mark12th  collegemark  \\\n",
       "0            No    Male  BCA   100.0    58.0      79.0      64.0         80.0   \n",
       "1            No  Female  BCA    90.0    40.0      70.0      80.0         70.0   \n",
       "2           Yes    Male  BCA   159.0    78.0      71.0      61.0         55.0   \n",
       "3           Yes  Female  BCA   147.0    20.0      70.0      59.0         58.0   \n",
       "4            No    Male  BCA   170.0    54.0      40.0      65.0         30.0   \n",
       "\n",
       "         hobbies  studytime prefertime  salexpect likedegree carrer_willing  \\\n",
       "0    Video Games       15.0    Morning      40000         No            50%   \n",
       "1         Cinema       45.0    Morning      15000        Yes            75%   \n",
       "2         Cinema       90.0    Anytime      13000        Yes            50%   \n",
       "3  Reading books       90.0    Anytime    1500000         No            50%   \n",
       "4    Video Games       45.0    Morning      50000        Yes            25%   \n",
       "\n",
       "             smtime           travel stress financial parttime  \n",
       "0     1.30 - 2 hour  30 - 60 minutes    Bad       Bad       No  \n",
       "1     1 - 1.30 hour   0 - 30 minutes    Bad       Bad       No  \n",
       "2  More than 2 hour  30 - 60 minutes  Awful       Bad       No  \n",
       "3     1.30 - 2 hour   0 - 30 minutes    Bad      good       No  \n",
       "4     1.30 - 2 hour  30 - 60 minutes   Good      good       No  "
      ]
     },
     "execution_count": 12,
     "metadata": {},
     "output_type": "execute_result"
    }
   ],
   "source": [
    "df.head()"
   ]
  },
  {
   "cell_type": "markdown",
   "id": "c7e772f8-bafe-4088-a3cb-40497a511a60",
   "metadata": {},
   "source": [
    "### carrer_willing \n",
    "here i have removed the % sign and changed the datatype to folat"
   ]
  },
  {
   "cell_type": "code",
   "execution_count": 13,
   "id": "ae9948c0-7e57-4466-9ff2-7bff69224963",
   "metadata": {},
   "outputs": [],
   "source": [
    "df[\"carrer_willing\"] = df[\"carrer_willing\"].str.replace(\"%\",\"\")"
   ]
  },
  {
   "cell_type": "code",
   "execution_count": 14,
   "id": "3b6eb350-31c3-450b-81c9-d5bb55d617e6",
   "metadata": {},
   "outputs": [],
   "source": [
    "df[\"carrer_willing\"] = df[\"carrer_willing\"].astype(\"float\")"
   ]
  },
  {
   "cell_type": "code",
   "execution_count": 15,
   "id": "684bbcd4-f3bb-4b82-bbed-f5595f1f1d7e",
   "metadata": {},
   "outputs": [
    {
     "data": {
      "text/html": [
       "<div>\n",
       "<style scoped>\n",
       "    .dataframe tbody tr th:only-of-type {\n",
       "        vertical-align: middle;\n",
       "    }\n",
       "\n",
       "    .dataframe tbody tr th {\n",
       "        vertical-align: top;\n",
       "    }\n",
       "\n",
       "    .dataframe thead th {\n",
       "        text-align: right;\n",
       "    }\n",
       "</style>\n",
       "<table border=\"1\" class=\"dataframe\">\n",
       "  <thead>\n",
       "    <tr style=\"text-align: right;\">\n",
       "      <th></th>\n",
       "      <th>certification</th>\n",
       "      <th>gender</th>\n",
       "      <th>dep</th>\n",
       "      <th>height</th>\n",
       "      <th>weight</th>\n",
       "      <th>mark10th</th>\n",
       "      <th>mark12th</th>\n",
       "      <th>collegemark</th>\n",
       "      <th>hobbies</th>\n",
       "      <th>studytime</th>\n",
       "      <th>prefertime</th>\n",
       "      <th>salexpect</th>\n",
       "      <th>likedegree</th>\n",
       "      <th>carrer_willing</th>\n",
       "      <th>smtime</th>\n",
       "      <th>travel</th>\n",
       "      <th>stress</th>\n",
       "      <th>financial</th>\n",
       "      <th>parttime</th>\n",
       "    </tr>\n",
       "  </thead>\n",
       "  <tbody>\n",
       "    <tr>\n",
       "      <th>0</th>\n",
       "      <td>No</td>\n",
       "      <td>Male</td>\n",
       "      <td>BCA</td>\n",
       "      <td>100.0</td>\n",
       "      <td>58.0</td>\n",
       "      <td>79.0</td>\n",
       "      <td>64.0</td>\n",
       "      <td>80.0</td>\n",
       "      <td>Video Games</td>\n",
       "      <td>15.0</td>\n",
       "      <td>Morning</td>\n",
       "      <td>40000</td>\n",
       "      <td>No</td>\n",
       "      <td>50.0</td>\n",
       "      <td>1.30 - 2 hour</td>\n",
       "      <td>30 - 60 minutes</td>\n",
       "      <td>Bad</td>\n",
       "      <td>Bad</td>\n",
       "      <td>No</td>\n",
       "    </tr>\n",
       "    <tr>\n",
       "      <th>1</th>\n",
       "      <td>No</td>\n",
       "      <td>Female</td>\n",
       "      <td>BCA</td>\n",
       "      <td>90.0</td>\n",
       "      <td>40.0</td>\n",
       "      <td>70.0</td>\n",
       "      <td>80.0</td>\n",
       "      <td>70.0</td>\n",
       "      <td>Cinema</td>\n",
       "      <td>45.0</td>\n",
       "      <td>Morning</td>\n",
       "      <td>15000</td>\n",
       "      <td>Yes</td>\n",
       "      <td>75.0</td>\n",
       "      <td>1 - 1.30 hour</td>\n",
       "      <td>0 - 30 minutes</td>\n",
       "      <td>Bad</td>\n",
       "      <td>Bad</td>\n",
       "      <td>No</td>\n",
       "    </tr>\n",
       "    <tr>\n",
       "      <th>2</th>\n",
       "      <td>Yes</td>\n",
       "      <td>Male</td>\n",
       "      <td>BCA</td>\n",
       "      <td>159.0</td>\n",
       "      <td>78.0</td>\n",
       "      <td>71.0</td>\n",
       "      <td>61.0</td>\n",
       "      <td>55.0</td>\n",
       "      <td>Cinema</td>\n",
       "      <td>90.0</td>\n",
       "      <td>Anytime</td>\n",
       "      <td>13000</td>\n",
       "      <td>Yes</td>\n",
       "      <td>50.0</td>\n",
       "      <td>More than 2 hour</td>\n",
       "      <td>30 - 60 minutes</td>\n",
       "      <td>Awful</td>\n",
       "      <td>Bad</td>\n",
       "      <td>No</td>\n",
       "    </tr>\n",
       "    <tr>\n",
       "      <th>3</th>\n",
       "      <td>Yes</td>\n",
       "      <td>Female</td>\n",
       "      <td>BCA</td>\n",
       "      <td>147.0</td>\n",
       "      <td>20.0</td>\n",
       "      <td>70.0</td>\n",
       "      <td>59.0</td>\n",
       "      <td>58.0</td>\n",
       "      <td>Reading books</td>\n",
       "      <td>90.0</td>\n",
       "      <td>Anytime</td>\n",
       "      <td>1500000</td>\n",
       "      <td>No</td>\n",
       "      <td>50.0</td>\n",
       "      <td>1.30 - 2 hour</td>\n",
       "      <td>0 - 30 minutes</td>\n",
       "      <td>Bad</td>\n",
       "      <td>good</td>\n",
       "      <td>No</td>\n",
       "    </tr>\n",
       "    <tr>\n",
       "      <th>4</th>\n",
       "      <td>No</td>\n",
       "      <td>Male</td>\n",
       "      <td>BCA</td>\n",
       "      <td>170.0</td>\n",
       "      <td>54.0</td>\n",
       "      <td>40.0</td>\n",
       "      <td>65.0</td>\n",
       "      <td>30.0</td>\n",
       "      <td>Video Games</td>\n",
       "      <td>45.0</td>\n",
       "      <td>Morning</td>\n",
       "      <td>50000</td>\n",
       "      <td>Yes</td>\n",
       "      <td>25.0</td>\n",
       "      <td>1.30 - 2 hour</td>\n",
       "      <td>30 - 60 minutes</td>\n",
       "      <td>Good</td>\n",
       "      <td>good</td>\n",
       "      <td>No</td>\n",
       "    </tr>\n",
       "  </tbody>\n",
       "</table>\n",
       "</div>"
      ],
      "text/plain": [
       "  certification  gender  dep  height  weight  mark10th  mark12th  collegemark  \\\n",
       "0            No    Male  BCA   100.0    58.0      79.0      64.0         80.0   \n",
       "1            No  Female  BCA    90.0    40.0      70.0      80.0         70.0   \n",
       "2           Yes    Male  BCA   159.0    78.0      71.0      61.0         55.0   \n",
       "3           Yes  Female  BCA   147.0    20.0      70.0      59.0         58.0   \n",
       "4            No    Male  BCA   170.0    54.0      40.0      65.0         30.0   \n",
       "\n",
       "         hobbies  studytime prefertime  salexpect likedegree  carrer_willing  \\\n",
       "0    Video Games       15.0    Morning      40000         No            50.0   \n",
       "1         Cinema       45.0    Morning      15000        Yes            75.0   \n",
       "2         Cinema       90.0    Anytime      13000        Yes            50.0   \n",
       "3  Reading books       90.0    Anytime    1500000         No            50.0   \n",
       "4    Video Games       45.0    Morning      50000        Yes            25.0   \n",
       "\n",
       "             smtime           travel stress financial parttime  \n",
       "0     1.30 - 2 hour  30 - 60 minutes    Bad       Bad       No  \n",
       "1     1 - 1.30 hour   0 - 30 minutes    Bad       Bad       No  \n",
       "2  More than 2 hour  30 - 60 minutes  Awful       Bad       No  \n",
       "3     1.30 - 2 hour   0 - 30 minutes    Bad      good       No  \n",
       "4     1.30 - 2 hour  30 - 60 minutes   Good      good       No  "
      ]
     },
     "execution_count": 15,
     "metadata": {},
     "output_type": "execute_result"
    }
   ],
   "source": [
    "df.head()"
   ]
  },
  {
   "cell_type": "markdown",
   "id": "229ec582-bf11-4a6c-b03a-00a76efd7197",
   "metadata": {},
   "source": [
    "### smtime \n",
    "here i have just updated the same function and it does the job"
   ]
  },
  {
   "cell_type": "code",
   "execution_count": 16,
   "id": "0d417a25-af05-4497-ac3e-5ed0f5a1e168",
   "metadata": {},
   "outputs": [
    {
     "data": {
      "text/plain": [
       "array(['1.30 - 2 hour', '1 - 1.30 hour', 'More than 2 hour',\n",
       "       '30 - 60 Minute', '1 - 30 Minute', '0 Minute'], dtype=object)"
      ]
     },
     "execution_count": 16,
     "metadata": {},
     "output_type": "execute_result"
    }
   ],
   "source": [
    "# smtime\n",
    "df[\"smtime\"].unique()"
   ]
  },
  {
   "cell_type": "code",
   "execution_count": 17,
   "id": "a28844e1-752f-4d32-bed8-a4dfcba18b23",
   "metadata": {},
   "outputs": [],
   "source": [
    "def socialTime(x):\n",
    "    x=x.split()\n",
    "    time =[]\n",
    "    for i in x:\n",
    "        try:\n",
    "            time.append(float(i))\n",
    "        except ValueError:\n",
    "            pass\n",
    "    if len(time) == 1:\n",
    "        return time[0]*60\n",
    "    elif len(time) == 2 and ((\"Hour\" in x) or (\"hour\" in x)):\n",
    "        return (((time[0]*60) + (time[1]*60))/2)\n",
    "    elif len(time) == 2:\n",
    "        return (sum(time)/len(time))\n",
    "    "
   ]
  },
  {
   "cell_type": "code",
   "execution_count": 18,
   "id": "84dc9eb4-570a-44b3-8e52-c904b8d1ebd9",
   "metadata": {},
   "outputs": [],
   "source": [
    "df[\"smtime\"] = df[\"smtime\"].apply(socialTime)"
   ]
  },
  {
   "cell_type": "code",
   "execution_count": 19,
   "id": "22a0c903-8b1e-4510-9d29-603db761f487",
   "metadata": {},
   "outputs": [
    {
     "data": {
      "text/html": [
       "<div>\n",
       "<style scoped>\n",
       "    .dataframe tbody tr th:only-of-type {\n",
       "        vertical-align: middle;\n",
       "    }\n",
       "\n",
       "    .dataframe tbody tr th {\n",
       "        vertical-align: top;\n",
       "    }\n",
       "\n",
       "    .dataframe thead th {\n",
       "        text-align: right;\n",
       "    }\n",
       "</style>\n",
       "<table border=\"1\" class=\"dataframe\">\n",
       "  <thead>\n",
       "    <tr style=\"text-align: right;\">\n",
       "      <th></th>\n",
       "      <th>certification</th>\n",
       "      <th>gender</th>\n",
       "      <th>dep</th>\n",
       "      <th>height</th>\n",
       "      <th>weight</th>\n",
       "      <th>mark10th</th>\n",
       "      <th>mark12th</th>\n",
       "      <th>collegemark</th>\n",
       "      <th>hobbies</th>\n",
       "      <th>studytime</th>\n",
       "      <th>prefertime</th>\n",
       "      <th>salexpect</th>\n",
       "      <th>likedegree</th>\n",
       "      <th>carrer_willing</th>\n",
       "      <th>smtime</th>\n",
       "      <th>travel</th>\n",
       "      <th>stress</th>\n",
       "      <th>financial</th>\n",
       "      <th>parttime</th>\n",
       "    </tr>\n",
       "  </thead>\n",
       "  <tbody>\n",
       "    <tr>\n",
       "      <th>0</th>\n",
       "      <td>No</td>\n",
       "      <td>Male</td>\n",
       "      <td>BCA</td>\n",
       "      <td>100.0</td>\n",
       "      <td>58.0</td>\n",
       "      <td>79.0</td>\n",
       "      <td>64.0</td>\n",
       "      <td>80.0</td>\n",
       "      <td>Video Games</td>\n",
       "      <td>15.0</td>\n",
       "      <td>Morning</td>\n",
       "      <td>40000</td>\n",
       "      <td>No</td>\n",
       "      <td>50.0</td>\n",
       "      <td>99.0</td>\n",
       "      <td>30 - 60 minutes</td>\n",
       "      <td>Bad</td>\n",
       "      <td>Bad</td>\n",
       "      <td>No</td>\n",
       "    </tr>\n",
       "    <tr>\n",
       "      <th>1</th>\n",
       "      <td>No</td>\n",
       "      <td>Female</td>\n",
       "      <td>BCA</td>\n",
       "      <td>90.0</td>\n",
       "      <td>40.0</td>\n",
       "      <td>70.0</td>\n",
       "      <td>80.0</td>\n",
       "      <td>70.0</td>\n",
       "      <td>Cinema</td>\n",
       "      <td>45.0</td>\n",
       "      <td>Morning</td>\n",
       "      <td>15000</td>\n",
       "      <td>Yes</td>\n",
       "      <td>75.0</td>\n",
       "      <td>69.0</td>\n",
       "      <td>0 - 30 minutes</td>\n",
       "      <td>Bad</td>\n",
       "      <td>Bad</td>\n",
       "      <td>No</td>\n",
       "    </tr>\n",
       "    <tr>\n",
       "      <th>2</th>\n",
       "      <td>Yes</td>\n",
       "      <td>Male</td>\n",
       "      <td>BCA</td>\n",
       "      <td>159.0</td>\n",
       "      <td>78.0</td>\n",
       "      <td>71.0</td>\n",
       "      <td>61.0</td>\n",
       "      <td>55.0</td>\n",
       "      <td>Cinema</td>\n",
       "      <td>90.0</td>\n",
       "      <td>Anytime</td>\n",
       "      <td>13000</td>\n",
       "      <td>Yes</td>\n",
       "      <td>50.0</td>\n",
       "      <td>120.0</td>\n",
       "      <td>30 - 60 minutes</td>\n",
       "      <td>Awful</td>\n",
       "      <td>Bad</td>\n",
       "      <td>No</td>\n",
       "    </tr>\n",
       "    <tr>\n",
       "      <th>3</th>\n",
       "      <td>Yes</td>\n",
       "      <td>Female</td>\n",
       "      <td>BCA</td>\n",
       "      <td>147.0</td>\n",
       "      <td>20.0</td>\n",
       "      <td>70.0</td>\n",
       "      <td>59.0</td>\n",
       "      <td>58.0</td>\n",
       "      <td>Reading books</td>\n",
       "      <td>90.0</td>\n",
       "      <td>Anytime</td>\n",
       "      <td>1500000</td>\n",
       "      <td>No</td>\n",
       "      <td>50.0</td>\n",
       "      <td>99.0</td>\n",
       "      <td>0 - 30 minutes</td>\n",
       "      <td>Bad</td>\n",
       "      <td>good</td>\n",
       "      <td>No</td>\n",
       "    </tr>\n",
       "    <tr>\n",
       "      <th>4</th>\n",
       "      <td>No</td>\n",
       "      <td>Male</td>\n",
       "      <td>BCA</td>\n",
       "      <td>170.0</td>\n",
       "      <td>54.0</td>\n",
       "      <td>40.0</td>\n",
       "      <td>65.0</td>\n",
       "      <td>30.0</td>\n",
       "      <td>Video Games</td>\n",
       "      <td>45.0</td>\n",
       "      <td>Morning</td>\n",
       "      <td>50000</td>\n",
       "      <td>Yes</td>\n",
       "      <td>25.0</td>\n",
       "      <td>99.0</td>\n",
       "      <td>30 - 60 minutes</td>\n",
       "      <td>Good</td>\n",
       "      <td>good</td>\n",
       "      <td>No</td>\n",
       "    </tr>\n",
       "  </tbody>\n",
       "</table>\n",
       "</div>"
      ],
      "text/plain": [
       "  certification  gender  dep  height  weight  mark10th  mark12th  collegemark  \\\n",
       "0            No    Male  BCA   100.0    58.0      79.0      64.0         80.0   \n",
       "1            No  Female  BCA    90.0    40.0      70.0      80.0         70.0   \n",
       "2           Yes    Male  BCA   159.0    78.0      71.0      61.0         55.0   \n",
       "3           Yes  Female  BCA   147.0    20.0      70.0      59.0         58.0   \n",
       "4            No    Male  BCA   170.0    54.0      40.0      65.0         30.0   \n",
       "\n",
       "         hobbies  studytime prefertime  salexpect likedegree  carrer_willing  \\\n",
       "0    Video Games       15.0    Morning      40000         No            50.0   \n",
       "1         Cinema       45.0    Morning      15000        Yes            75.0   \n",
       "2         Cinema       90.0    Anytime      13000        Yes            50.0   \n",
       "3  Reading books       90.0    Anytime    1500000         No            50.0   \n",
       "4    Video Games       45.0    Morning      50000        Yes            25.0   \n",
       "\n",
       "   smtime           travel stress financial parttime  \n",
       "0    99.0  30 - 60 minutes    Bad       Bad       No  \n",
       "1    69.0   0 - 30 minutes    Bad       Bad       No  \n",
       "2   120.0  30 - 60 minutes  Awful       Bad       No  \n",
       "3    99.0   0 - 30 minutes    Bad      good       No  \n",
       "4    99.0  30 - 60 minutes   Good      good       No  "
      ]
     },
     "execution_count": 19,
     "metadata": {},
     "output_type": "execute_result"
    }
   ],
   "source": [
    "df.head()"
   ]
  },
  {
   "cell_type": "code",
   "execution_count": 20,
   "id": "ec279dfa-50f6-4db9-abc8-da79fd7f3a39",
   "metadata": {},
   "outputs": [
    {
     "data": {
      "text/plain": [
       "array(['30 - 60 minutes', '0 - 30 minutes', '1 - 1.30 hour',\n",
       "       '2 - 2.30 hour', '1.30 - 2 hour', 'more than 3 hour',\n",
       "       '2.30 - 3 hour'], dtype=object)"
      ]
     },
     "execution_count": 20,
     "metadata": {},
     "output_type": "execute_result"
    }
   ],
   "source": [
    "# travel\n",
    "df[\"travel\"].unique()"
   ]
  },
  {
   "cell_type": "code",
   "execution_count": 21,
   "id": "678eeb4e-bbd4-412b-b816-e37fa1f9a0ed",
   "metadata": {},
   "outputs": [],
   "source": [
    "# my socialTime function will work for this column so i will apply that to this column\n",
    "df[\"travel\"]=df[\"travel\"].apply(socialTime)"
   ]
  },
  {
   "cell_type": "code",
   "execution_count": 22,
   "id": "c4a532e6-b4ca-4513-8f24-dcfb79ef5115",
   "metadata": {},
   "outputs": [
    {
     "data": {
      "text/html": [
       "<div>\n",
       "<style scoped>\n",
       "    .dataframe tbody tr th:only-of-type {\n",
       "        vertical-align: middle;\n",
       "    }\n",
       "\n",
       "    .dataframe tbody tr th {\n",
       "        vertical-align: top;\n",
       "    }\n",
       "\n",
       "    .dataframe thead th {\n",
       "        text-align: right;\n",
       "    }\n",
       "</style>\n",
       "<table border=\"1\" class=\"dataframe\">\n",
       "  <thead>\n",
       "    <tr style=\"text-align: right;\">\n",
       "      <th></th>\n",
       "      <th>certification</th>\n",
       "      <th>gender</th>\n",
       "      <th>dep</th>\n",
       "      <th>height</th>\n",
       "      <th>weight</th>\n",
       "      <th>mark10th</th>\n",
       "      <th>mark12th</th>\n",
       "      <th>collegemark</th>\n",
       "      <th>hobbies</th>\n",
       "      <th>studytime</th>\n",
       "      <th>prefertime</th>\n",
       "      <th>salexpect</th>\n",
       "      <th>likedegree</th>\n",
       "      <th>carrer_willing</th>\n",
       "      <th>smtime</th>\n",
       "      <th>travel</th>\n",
       "      <th>stress</th>\n",
       "      <th>financial</th>\n",
       "      <th>parttime</th>\n",
       "    </tr>\n",
       "  </thead>\n",
       "  <tbody>\n",
       "    <tr>\n",
       "      <th>0</th>\n",
       "      <td>No</td>\n",
       "      <td>Male</td>\n",
       "      <td>BCA</td>\n",
       "      <td>100.0</td>\n",
       "      <td>58.0</td>\n",
       "      <td>79.0</td>\n",
       "      <td>64.0</td>\n",
       "      <td>80.0</td>\n",
       "      <td>Video Games</td>\n",
       "      <td>15.0</td>\n",
       "      <td>Morning</td>\n",
       "      <td>40000</td>\n",
       "      <td>No</td>\n",
       "      <td>50.0</td>\n",
       "      <td>99.0</td>\n",
       "      <td>45.0</td>\n",
       "      <td>Bad</td>\n",
       "      <td>Bad</td>\n",
       "      <td>No</td>\n",
       "    </tr>\n",
       "    <tr>\n",
       "      <th>1</th>\n",
       "      <td>No</td>\n",
       "      <td>Female</td>\n",
       "      <td>BCA</td>\n",
       "      <td>90.0</td>\n",
       "      <td>40.0</td>\n",
       "      <td>70.0</td>\n",
       "      <td>80.0</td>\n",
       "      <td>70.0</td>\n",
       "      <td>Cinema</td>\n",
       "      <td>45.0</td>\n",
       "      <td>Morning</td>\n",
       "      <td>15000</td>\n",
       "      <td>Yes</td>\n",
       "      <td>75.0</td>\n",
       "      <td>69.0</td>\n",
       "      <td>15.0</td>\n",
       "      <td>Bad</td>\n",
       "      <td>Bad</td>\n",
       "      <td>No</td>\n",
       "    </tr>\n",
       "    <tr>\n",
       "      <th>2</th>\n",
       "      <td>Yes</td>\n",
       "      <td>Male</td>\n",
       "      <td>BCA</td>\n",
       "      <td>159.0</td>\n",
       "      <td>78.0</td>\n",
       "      <td>71.0</td>\n",
       "      <td>61.0</td>\n",
       "      <td>55.0</td>\n",
       "      <td>Cinema</td>\n",
       "      <td>90.0</td>\n",
       "      <td>Anytime</td>\n",
       "      <td>13000</td>\n",
       "      <td>Yes</td>\n",
       "      <td>50.0</td>\n",
       "      <td>120.0</td>\n",
       "      <td>45.0</td>\n",
       "      <td>Awful</td>\n",
       "      <td>Bad</td>\n",
       "      <td>No</td>\n",
       "    </tr>\n",
       "    <tr>\n",
       "      <th>3</th>\n",
       "      <td>Yes</td>\n",
       "      <td>Female</td>\n",
       "      <td>BCA</td>\n",
       "      <td>147.0</td>\n",
       "      <td>20.0</td>\n",
       "      <td>70.0</td>\n",
       "      <td>59.0</td>\n",
       "      <td>58.0</td>\n",
       "      <td>Reading books</td>\n",
       "      <td>90.0</td>\n",
       "      <td>Anytime</td>\n",
       "      <td>1500000</td>\n",
       "      <td>No</td>\n",
       "      <td>50.0</td>\n",
       "      <td>99.0</td>\n",
       "      <td>15.0</td>\n",
       "      <td>Bad</td>\n",
       "      <td>good</td>\n",
       "      <td>No</td>\n",
       "    </tr>\n",
       "    <tr>\n",
       "      <th>4</th>\n",
       "      <td>No</td>\n",
       "      <td>Male</td>\n",
       "      <td>BCA</td>\n",
       "      <td>170.0</td>\n",
       "      <td>54.0</td>\n",
       "      <td>40.0</td>\n",
       "      <td>65.0</td>\n",
       "      <td>30.0</td>\n",
       "      <td>Video Games</td>\n",
       "      <td>45.0</td>\n",
       "      <td>Morning</td>\n",
       "      <td>50000</td>\n",
       "      <td>Yes</td>\n",
       "      <td>25.0</td>\n",
       "      <td>99.0</td>\n",
       "      <td>45.0</td>\n",
       "      <td>Good</td>\n",
       "      <td>good</td>\n",
       "      <td>No</td>\n",
       "    </tr>\n",
       "  </tbody>\n",
       "</table>\n",
       "</div>"
      ],
      "text/plain": [
       "  certification  gender  dep  height  weight  mark10th  mark12th  collegemark  \\\n",
       "0            No    Male  BCA   100.0    58.0      79.0      64.0         80.0   \n",
       "1            No  Female  BCA    90.0    40.0      70.0      80.0         70.0   \n",
       "2           Yes    Male  BCA   159.0    78.0      71.0      61.0         55.0   \n",
       "3           Yes  Female  BCA   147.0    20.0      70.0      59.0         58.0   \n",
       "4            No    Male  BCA   170.0    54.0      40.0      65.0         30.0   \n",
       "\n",
       "         hobbies  studytime prefertime  salexpect likedegree  carrer_willing  \\\n",
       "0    Video Games       15.0    Morning      40000         No            50.0   \n",
       "1         Cinema       45.0    Morning      15000        Yes            75.0   \n",
       "2         Cinema       90.0    Anytime      13000        Yes            50.0   \n",
       "3  Reading books       90.0    Anytime    1500000         No            50.0   \n",
       "4    Video Games       45.0    Morning      50000        Yes            25.0   \n",
       "\n",
       "   smtime  travel stress financial parttime  \n",
       "0    99.0    45.0    Bad       Bad       No  \n",
       "1    69.0    15.0    Bad       Bad       No  \n",
       "2   120.0    45.0  Awful       Bad       No  \n",
       "3    99.0    15.0    Bad      good       No  \n",
       "4    99.0    45.0   Good      good       No  "
      ]
     },
     "execution_count": 22,
     "metadata": {},
     "output_type": "execute_result"
    }
   ],
   "source": [
    "df.head()"
   ]
  },
  {
   "cell_type": "code",
   "execution_count": 23,
   "id": "c35ea0b9-a051-4c75-955f-e3362d4ac430",
   "metadata": {},
   "outputs": [
    {
     "name": "stdout",
     "output_type": "stream",
     "text": [
      "<class 'pandas.core.frame.DataFrame'>\n",
      "RangeIndex: 235 entries, 0 to 234\n",
      "Data columns (total 19 columns):\n",
      " #   Column          Non-Null Count  Dtype  \n",
      "---  ------          --------------  -----  \n",
      " 0   certification   235 non-null    object \n",
      " 1   gender          235 non-null    object \n",
      " 2   dep             235 non-null    object \n",
      " 3   height          235 non-null    float64\n",
      " 4   weight          235 non-null    float64\n",
      " 5   mark10th        235 non-null    float64\n",
      " 6   mark12th        235 non-null    float64\n",
      " 7   collegemark     235 non-null    float64\n",
      " 8   hobbies         235 non-null    object \n",
      " 9   studytime       235 non-null    float64\n",
      " 10  prefertime      235 non-null    object \n",
      " 11  salexpect       235 non-null    int64  \n",
      " 12  likedegree      235 non-null    object \n",
      " 13  carrer_willing  235 non-null    float64\n",
      " 14  smtime          235 non-null    float64\n",
      " 15  travel          235 non-null    float64\n",
      " 16  stress          235 non-null    object \n",
      " 17  financial       235 non-null    object \n",
      " 18  parttime        235 non-null    object \n",
      "dtypes: float64(9), int64(1), object(9)\n",
      "memory usage: 35.0+ KB\n"
     ]
    }
   ],
   "source": [
    "df.info()"
   ]
  },
  {
   "cell_type": "code",
   "execution_count": 24,
   "id": "00810259-5b4b-4665-b3fb-1ed53747cbfd",
   "metadata": {},
   "outputs": [],
   "source": [
    "# I have handeled the datatypes and I can move to EDA"
   ]
  },
  {
   "cell_type": "markdown",
   "id": "6605de18-5b75-4ee8-a3d9-45e0bff2376b",
   "metadata": {},
   "source": [
    "# EDA"
   ]
  },
  {
   "cell_type": "code",
   "execution_count": 25,
   "id": "d766c611-56cf-45c9-b1cd-a04c2c5a8bf6",
   "metadata": {},
   "outputs": [
    {
     "data": {
      "text/html": [
       "<div>\n",
       "<style scoped>\n",
       "    .dataframe tbody tr th:only-of-type {\n",
       "        vertical-align: middle;\n",
       "    }\n",
       "\n",
       "    .dataframe tbody tr th {\n",
       "        vertical-align: top;\n",
       "    }\n",
       "\n",
       "    .dataframe thead th {\n",
       "        text-align: right;\n",
       "    }\n",
       "</style>\n",
       "<table border=\"1\" class=\"dataframe\">\n",
       "  <thead>\n",
       "    <tr style=\"text-align: right;\">\n",
       "      <th></th>\n",
       "      <th>certification</th>\n",
       "      <th>gender</th>\n",
       "      <th>dep</th>\n",
       "      <th>height</th>\n",
       "      <th>weight</th>\n",
       "      <th>mark10th</th>\n",
       "      <th>mark12th</th>\n",
       "      <th>collegemark</th>\n",
       "      <th>hobbies</th>\n",
       "      <th>studytime</th>\n",
       "      <th>prefertime</th>\n",
       "      <th>salexpect</th>\n",
       "      <th>likedegree</th>\n",
       "      <th>carrer_willing</th>\n",
       "      <th>smtime</th>\n",
       "      <th>travel</th>\n",
       "      <th>stress</th>\n",
       "      <th>financial</th>\n",
       "      <th>parttime</th>\n",
       "    </tr>\n",
       "  </thead>\n",
       "  <tbody>\n",
       "    <tr>\n",
       "      <th>0</th>\n",
       "      <td>No</td>\n",
       "      <td>Male</td>\n",
       "      <td>BCA</td>\n",
       "      <td>100.0</td>\n",
       "      <td>58.0</td>\n",
       "      <td>79.0</td>\n",
       "      <td>64.0</td>\n",
       "      <td>80.0</td>\n",
       "      <td>Video Games</td>\n",
       "      <td>15.0</td>\n",
       "      <td>Morning</td>\n",
       "      <td>40000</td>\n",
       "      <td>No</td>\n",
       "      <td>50.0</td>\n",
       "      <td>99.0</td>\n",
       "      <td>45.0</td>\n",
       "      <td>Bad</td>\n",
       "      <td>Bad</td>\n",
       "      <td>No</td>\n",
       "    </tr>\n",
       "    <tr>\n",
       "      <th>1</th>\n",
       "      <td>No</td>\n",
       "      <td>Female</td>\n",
       "      <td>BCA</td>\n",
       "      <td>90.0</td>\n",
       "      <td>40.0</td>\n",
       "      <td>70.0</td>\n",
       "      <td>80.0</td>\n",
       "      <td>70.0</td>\n",
       "      <td>Cinema</td>\n",
       "      <td>45.0</td>\n",
       "      <td>Morning</td>\n",
       "      <td>15000</td>\n",
       "      <td>Yes</td>\n",
       "      <td>75.0</td>\n",
       "      <td>69.0</td>\n",
       "      <td>15.0</td>\n",
       "      <td>Bad</td>\n",
       "      <td>Bad</td>\n",
       "      <td>No</td>\n",
       "    </tr>\n",
       "    <tr>\n",
       "      <th>2</th>\n",
       "      <td>Yes</td>\n",
       "      <td>Male</td>\n",
       "      <td>BCA</td>\n",
       "      <td>159.0</td>\n",
       "      <td>78.0</td>\n",
       "      <td>71.0</td>\n",
       "      <td>61.0</td>\n",
       "      <td>55.0</td>\n",
       "      <td>Cinema</td>\n",
       "      <td>90.0</td>\n",
       "      <td>Anytime</td>\n",
       "      <td>13000</td>\n",
       "      <td>Yes</td>\n",
       "      <td>50.0</td>\n",
       "      <td>120.0</td>\n",
       "      <td>45.0</td>\n",
       "      <td>Awful</td>\n",
       "      <td>Bad</td>\n",
       "      <td>No</td>\n",
       "    </tr>\n",
       "    <tr>\n",
       "      <th>3</th>\n",
       "      <td>Yes</td>\n",
       "      <td>Female</td>\n",
       "      <td>BCA</td>\n",
       "      <td>147.0</td>\n",
       "      <td>20.0</td>\n",
       "      <td>70.0</td>\n",
       "      <td>59.0</td>\n",
       "      <td>58.0</td>\n",
       "      <td>Reading books</td>\n",
       "      <td>90.0</td>\n",
       "      <td>Anytime</td>\n",
       "      <td>1500000</td>\n",
       "      <td>No</td>\n",
       "      <td>50.0</td>\n",
       "      <td>99.0</td>\n",
       "      <td>15.0</td>\n",
       "      <td>Bad</td>\n",
       "      <td>good</td>\n",
       "      <td>No</td>\n",
       "    </tr>\n",
       "    <tr>\n",
       "      <th>4</th>\n",
       "      <td>No</td>\n",
       "      <td>Male</td>\n",
       "      <td>BCA</td>\n",
       "      <td>170.0</td>\n",
       "      <td>54.0</td>\n",
       "      <td>40.0</td>\n",
       "      <td>65.0</td>\n",
       "      <td>30.0</td>\n",
       "      <td>Video Games</td>\n",
       "      <td>45.0</td>\n",
       "      <td>Morning</td>\n",
       "      <td>50000</td>\n",
       "      <td>Yes</td>\n",
       "      <td>25.0</td>\n",
       "      <td>99.0</td>\n",
       "      <td>45.0</td>\n",
       "      <td>Good</td>\n",
       "      <td>good</td>\n",
       "      <td>No</td>\n",
       "    </tr>\n",
       "  </tbody>\n",
       "</table>\n",
       "</div>"
      ],
      "text/plain": [
       "  certification  gender  dep  height  weight  mark10th  mark12th  collegemark  \\\n",
       "0            No    Male  BCA   100.0    58.0      79.0      64.0         80.0   \n",
       "1            No  Female  BCA    90.0    40.0      70.0      80.0         70.0   \n",
       "2           Yes    Male  BCA   159.0    78.0      71.0      61.0         55.0   \n",
       "3           Yes  Female  BCA   147.0    20.0      70.0      59.0         58.0   \n",
       "4            No    Male  BCA   170.0    54.0      40.0      65.0         30.0   \n",
       "\n",
       "         hobbies  studytime prefertime  salexpect likedegree  carrer_willing  \\\n",
       "0    Video Games       15.0    Morning      40000         No            50.0   \n",
       "1         Cinema       45.0    Morning      15000        Yes            75.0   \n",
       "2         Cinema       90.0    Anytime      13000        Yes            50.0   \n",
       "3  Reading books       90.0    Anytime    1500000         No            50.0   \n",
       "4    Video Games       45.0    Morning      50000        Yes            25.0   \n",
       "\n",
       "   smtime  travel stress financial parttime  \n",
       "0    99.0    45.0    Bad       Bad       No  \n",
       "1    69.0    15.0    Bad       Bad       No  \n",
       "2   120.0    45.0  Awful       Bad       No  \n",
       "3    99.0    15.0    Bad      good       No  \n",
       "4    99.0    45.0   Good      good       No  "
      ]
     },
     "execution_count": 25,
     "metadata": {},
     "output_type": "execute_result"
    }
   ],
   "source": [
    "df.head()"
   ]
  },
  {
   "cell_type": "code",
   "execution_count": 26,
   "id": "b07127c9-919f-49a9-bf9a-86bab9113f4e",
   "metadata": {},
   "outputs": [
    {
     "data": {
      "text/plain": [
       "<Axes: xlabel='certification'>"
      ]
     },
     "execution_count": 26,
     "metadata": {},
     "output_type": "execute_result"
    },
    {
     "data": {
      "image/png": "[encoded data removed]",
      "text/plain": [
       "<Figure size 640x480 with 1 Axes>"
      ]
     },
     "metadata": {},
     "output_type": "display_data"
    }
   ],
   "source": [
    "df[\"certification\"].value_counts().plot(kind=\"bar\")\n",
    "# There are more students who are doing cerification course"
   ]
  },
  {
   "cell_type": "code",
   "execution_count": 27,
   "id": "a325d7e3-f51d-40df-9d77-d21bff0d6667",
   "metadata": {},
   "outputs": [
    {
     "data": {
      "text/plain": [
       "<Axes: xlabel='gender'>"
      ]
     },
     "execution_count": 27,
     "metadata": {},
     "output_type": "execute_result"
    },
    {
     "data": {
      "image/png": "[encoded data removed]",
      "text/plain": [
       "<Figure size 640x480 with 1 Axes>"
      ]
     },
     "metadata": {},
     "output_type": "display_data"
    }
   ],
   "source": [
    "#gender\n",
    "df[\"gender\"].value_counts().plot(kind='bar')\n",
    "#There are more males than females in this dataset"
   ]
  },
  {
   "cell_type": "code",
   "execution_count": 28,
   "id": "9c900799-9fee-45a6-a6de-25cd997389b2",
   "metadata": {},
   "outputs": [
    {
     "data": {
      "text/plain": [
       "<Axes: xlabel='gender,certification'>"
      ]
     },
     "execution_count": 28,
     "metadata": {},
     "output_type": "execute_result"
    },
    {
     "data": {
      "image/png": "[encoded data removed]",
      "text/plain": [
       "<Figure size 640x480 with 1 Axes>"
      ]
     },
     "metadata": {},
     "output_type": "display_data"
    }
   ],
   "source": [
    "# Gender vs certification\n",
    "df.groupby(\"gender\").certification.value_counts().plot(kind=\"bar\")"
   ]
  },
  {
   "cell_type": "code",
   "execution_count": 29,
   "id": "1bf84554-b634-4bee-bbc1-49c4a2e1744d",
   "metadata": {},
   "outputs": [
    {
     "data": {
      "text/html": [
       "<div>\n",
       "<style scoped>\n",
       "    .dataframe tbody tr th:only-of-type {\n",
       "        vertical-align: middle;\n",
       "    }\n",
       "\n",
       "    .dataframe tbody tr th {\n",
       "        vertical-align: top;\n",
       "    }\n",
       "\n",
       "    .dataframe thead th {\n",
       "        text-align: right;\n",
       "    }\n",
       "</style>\n",
       "<table border=\"1\" class=\"dataframe\">\n",
       "  <thead>\n",
       "    <tr style=\"text-align: right;\">\n",
       "      <th></th>\n",
       "      <th>certification</th>\n",
       "      <th>gender</th>\n",
       "      <th>dep</th>\n",
       "      <th>height</th>\n",
       "      <th>weight</th>\n",
       "      <th>mark10th</th>\n",
       "      <th>mark12th</th>\n",
       "      <th>collegemark</th>\n",
       "      <th>hobbies</th>\n",
       "      <th>studytime</th>\n",
       "      <th>prefertime</th>\n",
       "      <th>salexpect</th>\n",
       "      <th>likedegree</th>\n",
       "      <th>carrer_willing</th>\n",
       "      <th>smtime</th>\n",
       "      <th>travel</th>\n",
       "      <th>stress</th>\n",
       "      <th>financial</th>\n",
       "      <th>parttime</th>\n",
       "    </tr>\n",
       "  </thead>\n",
       "  <tbody>\n",
       "    <tr>\n",
       "      <th>0</th>\n",
       "      <td>No</td>\n",
       "      <td>Male</td>\n",
       "      <td>BCA</td>\n",
       "      <td>100.0</td>\n",
       "      <td>58.0</td>\n",
       "      <td>79.0</td>\n",
       "      <td>64.0</td>\n",
       "      <td>80.0</td>\n",
       "      <td>Video Games</td>\n",
       "      <td>15.0</td>\n",
       "      <td>Morning</td>\n",
       "      <td>40000</td>\n",
       "      <td>No</td>\n",
       "      <td>50.0</td>\n",
       "      <td>99.0</td>\n",
       "      <td>45.0</td>\n",
       "      <td>Bad</td>\n",
       "      <td>Bad</td>\n",
       "      <td>No</td>\n",
       "    </tr>\n",
       "    <tr>\n",
       "      <th>1</th>\n",
       "      <td>No</td>\n",
       "      <td>Female</td>\n",
       "      <td>BCA</td>\n",
       "      <td>90.0</td>\n",
       "      <td>40.0</td>\n",
       "      <td>70.0</td>\n",
       "      <td>80.0</td>\n",
       "      <td>70.0</td>\n",
       "      <td>Cinema</td>\n",
       "      <td>45.0</td>\n",
       "      <td>Morning</td>\n",
       "      <td>15000</td>\n",
       "      <td>Yes</td>\n",
       "      <td>75.0</td>\n",
       "      <td>69.0</td>\n",
       "      <td>15.0</td>\n",
       "      <td>Bad</td>\n",
       "      <td>Bad</td>\n",
       "      <td>No</td>\n",
       "    </tr>\n",
       "    <tr>\n",
       "      <th>2</th>\n",
       "      <td>Yes</td>\n",
       "      <td>Male</td>\n",
       "      <td>BCA</td>\n",
       "      <td>159.0</td>\n",
       "      <td>78.0</td>\n",
       "      <td>71.0</td>\n",
       "      <td>61.0</td>\n",
       "      <td>55.0</td>\n",
       "      <td>Cinema</td>\n",
       "      <td>90.0</td>\n",
       "      <td>Anytime</td>\n",
       "      <td>13000</td>\n",
       "      <td>Yes</td>\n",
       "      <td>50.0</td>\n",
       "      <td>120.0</td>\n",
       "      <td>45.0</td>\n",
       "      <td>Awful</td>\n",
       "      <td>Bad</td>\n",
       "      <td>No</td>\n",
       "    </tr>\n",
       "    <tr>\n",
       "      <th>3</th>\n",
       "      <td>Yes</td>\n",
       "      <td>Female</td>\n",
       "      <td>BCA</td>\n",
       "      <td>147.0</td>\n",
       "      <td>20.0</td>\n",
       "      <td>70.0</td>\n",
       "      <td>59.0</td>\n",
       "      <td>58.0</td>\n",
       "      <td>Reading books</td>\n",
       "      <td>90.0</td>\n",
       "      <td>Anytime</td>\n",
       "      <td>1500000</td>\n",
       "      <td>No</td>\n",
       "      <td>50.0</td>\n",
       "      <td>99.0</td>\n",
       "      <td>15.0</td>\n",
       "      <td>Bad</td>\n",
       "      <td>good</td>\n",
       "      <td>No</td>\n",
       "    </tr>\n",
       "    <tr>\n",
       "      <th>4</th>\n",
       "      <td>No</td>\n",
       "      <td>Male</td>\n",
       "      <td>BCA</td>\n",
       "      <td>170.0</td>\n",
       "      <td>54.0</td>\n",
       "      <td>40.0</td>\n",
       "      <td>65.0</td>\n",
       "      <td>30.0</td>\n",
       "      <td>Video Games</td>\n",
       "      <td>45.0</td>\n",
       "      <td>Morning</td>\n",
       "      <td>50000</td>\n",
       "      <td>Yes</td>\n",
       "      <td>25.0</td>\n",
       "      <td>99.0</td>\n",
       "      <td>45.0</td>\n",
       "      <td>Good</td>\n",
       "      <td>good</td>\n",
       "      <td>No</td>\n",
       "    </tr>\n",
       "  </tbody>\n",
       "</table>\n",
       "</div>"
      ],
      "text/plain": [
       "  certification  gender  dep  height  weight  mark10th  mark12th  collegemark  \\\n",
       "0            No    Male  BCA   100.0    58.0      79.0      64.0         80.0   \n",
       "1            No  Female  BCA    90.0    40.0      70.0      80.0         70.0   \n",
       "2           Yes    Male  BCA   159.0    78.0      71.0      61.0         55.0   \n",
       "3           Yes  Female  BCA   147.0    20.0      70.0      59.0         58.0   \n",
       "4            No    Male  BCA   170.0    54.0      40.0      65.0         30.0   \n",
       "\n",
       "         hobbies  studytime prefertime  salexpect likedegree  carrer_willing  \\\n",
       "0    Video Games       15.0    Morning      40000         No            50.0   \n",
       "1         Cinema       45.0    Morning      15000        Yes            75.0   \n",
       "2         Cinema       90.0    Anytime      13000        Yes            50.0   \n",
       "3  Reading books       90.0    Anytime    1500000         No            50.0   \n",
       "4    Video Games       45.0    Morning      50000        Yes            25.0   \n",
       "\n",
       "   smtime  travel stress financial parttime  \n",
       "0    99.0    45.0    Bad       Bad       No  \n",
       "1    69.0    15.0    Bad       Bad       No  \n",
       "2   120.0    45.0  Awful       Bad       No  \n",
       "3    99.0    15.0    Bad      good       No  \n",
       "4    99.0    45.0   Good      good       No  "
      ]
     },
     "execution_count": 29,
     "metadata": {},
     "output_type": "execute_result"
    }
   ],
   "source": [
    "df.head()"
   ]
  },
  {
   "cell_type": "code",
   "execution_count": 30,
   "id": "17d92b6e-3988-45f1-bf92-a058326e967d",
   "metadata": {},
   "outputs": [
    {
     "data": {
      "text/plain": [
       "dep\n",
       "BCA                              132\n",
       "Commerce                          60\n",
       "B.com ISM                         28\n",
       "B.com Accounting and Finance      15\n",
       "Name: count, dtype: int64"
      ]
     },
     "execution_count": 30,
     "metadata": {},
     "output_type": "execute_result"
    }
   ],
   "source": [
    "# Department\n",
    "df[\"dep\"].value_counts()"
   ]
  },
  {
   "cell_type": "code",
   "execution_count": 31,
   "id": "03bccc0c-e35b-4302-8f29-f63d41fdae30",
   "metadata": {},
   "outputs": [
    {
     "data": {
      "text/plain": [
       "<Axes: xlabel='dep,gender'>"
      ]
     },
     "execution_count": 31,
     "metadata": {},
     "output_type": "execute_result"
    },
    {
     "data": {
      "image/png": "[encoded data removed]",
      "text/plain": [
       "<Figure size 640x480 with 1 Axes>"
      ]
     },
     "metadata": {},
     "output_type": "display_data"
    }
   ],
   "source": [
    "# department vs gender\n",
    "df.groupby('dep').gender.value_counts().sort_values(ascending=False).plot(kind=\"bar\")"
   ]
  },
  {
   "cell_type": "markdown",
   "id": "0605e428-6726-41bc-98bc-93b0ca8a6591",
   "metadata": {},
   "source": [
    "### Key Finding\n",
    "Most of the male prefer BCA over B.com as there are **NO** males who are pursuing B.com"
   ]
  },
  {
   "cell_type": "code",
   "execution_count": 32,
   "id": "440bfbb0-2cbf-48c8-b109-80c73989f6f6",
   "metadata": {},
   "outputs": [],
   "source": [
    "# Height and Weight "
   ]
  },
  {
   "cell_type": "code",
   "execution_count": 33,
   "id": "04698b38-de84-4796-8a0f-309a865d3fad",
   "metadata": {},
   "outputs": [
    {
     "data": {
      "image/png": "[encoded data removed]",
      "text/plain": [
       "<Figure size 1000x600 with 1 Axes>"
      ]
     },
     "metadata": {},
     "output_type": "display_data"
    }
   ],
   "source": [
    "plt.figure(figsize=(10,6))\n",
    "sns.regplot(x=df[\"height\"],y=df[\"weight\"])\n",
    "plt.show()"
   ]
  },
  {
   "cell_type": "code",
   "execution_count": 34,
   "id": "ba1d1ff7-bbf7-4b5c-9d5d-087eb796f546",
   "metadata": {},
   "outputs": [
    {
     "data": {
      "text/plain": [
       "<Axes: xlabel='gender'>"
      ]
     },
     "execution_count": 34,
     "metadata": {},
     "output_type": "execute_result"
    },
    {
     "data": {
      "image/png": "[encoded data removed]",
      "text/plain": [
       "<Figure size 640x480 with 1 Axes>"
      ]
     },
     "metadata": {},
     "output_type": "display_data"
    }
   ],
   "source": [
    "df.groupby(\"gender\").height.mean().plot(kind='bar')\n",
    "# Males are taller than females how cool is that haha"
   ]
  },
  {
   "cell_type": "code",
   "execution_count": 35,
   "id": "7219829d-14bc-4932-9681-eeeb53a0784b",
   "metadata": {},
   "outputs": [
    {
     "data": {
      "text/plain": [
       "<Axes: xlabel='gender'>"
      ]
     },
     "execution_count": 35,
     "metadata": {},
     "output_type": "execute_result"
    },
    {
     "data": {
      "image/png": "[encoded data removed]",
      "text/plain": [
       "<Figure size 640x480 with 1 Axes>"
      ]
     },
     "metadata": {},
     "output_type": "display_data"
    }
   ],
   "source": [
    "df.groupby(\"gender\").weight.mean().plot(kind=\"bar\")\n",
    "# males have more weight than females that is also interesting"
   ]
  },
  {
   "cell_type": "code",
   "execution_count": 36,
   "id": "d3beea7c-2d02-44bf-8188-99994c6ac420",
   "metadata": {},
   "outputs": [
    {
     "data": {
      "text/html": [
       "<div>\n",
       "<style scoped>\n",
       "    .dataframe tbody tr th:only-of-type {\n",
       "        vertical-align: middle;\n",
       "    }\n",
       "\n",
       "    .dataframe tbody tr th {\n",
       "        vertical-align: top;\n",
       "    }\n",
       "\n",
       "    .dataframe thead th {\n",
       "        text-align: right;\n",
       "    }\n",
       "</style>\n",
       "<table border=\"1\" class=\"dataframe\">\n",
       "  <thead>\n",
       "    <tr style=\"text-align: right;\">\n",
       "      <th></th>\n",
       "      <th>certification</th>\n",
       "      <th>gender</th>\n",
       "      <th>dep</th>\n",
       "      <th>height</th>\n",
       "      <th>weight</th>\n",
       "      <th>mark10th</th>\n",
       "      <th>mark12th</th>\n",
       "      <th>collegemark</th>\n",
       "      <th>hobbies</th>\n",
       "      <th>studytime</th>\n",
       "      <th>prefertime</th>\n",
       "      <th>salexpect</th>\n",
       "      <th>likedegree</th>\n",
       "      <th>carrer_willing</th>\n",
       "      <th>smtime</th>\n",
       "      <th>travel</th>\n",
       "      <th>stress</th>\n",
       "      <th>financial</th>\n",
       "      <th>parttime</th>\n",
       "    </tr>\n",
       "  </thead>\n",
       "  <tbody>\n",
       "    <tr>\n",
       "      <th>0</th>\n",
       "      <td>No</td>\n",
       "      <td>Male</td>\n",
       "      <td>BCA</td>\n",
       "      <td>100.0</td>\n",
       "      <td>58.0</td>\n",
       "      <td>79.0</td>\n",
       "      <td>64.0</td>\n",
       "      <td>80.0</td>\n",
       "      <td>Video Games</td>\n",
       "      <td>15.0</td>\n",
       "      <td>Morning</td>\n",
       "      <td>40000</td>\n",
       "      <td>No</td>\n",
       "      <td>50.0</td>\n",
       "      <td>99.0</td>\n",
       "      <td>45.0</td>\n",
       "      <td>Bad</td>\n",
       "      <td>Bad</td>\n",
       "      <td>No</td>\n",
       "    </tr>\n",
       "    <tr>\n",
       "      <th>1</th>\n",
       "      <td>No</td>\n",
       "      <td>Female</td>\n",
       "      <td>BCA</td>\n",
       "      <td>90.0</td>\n",
       "      <td>40.0</td>\n",
       "      <td>70.0</td>\n",
       "      <td>80.0</td>\n",
       "      <td>70.0</td>\n",
       "      <td>Cinema</td>\n",
       "      <td>45.0</td>\n",
       "      <td>Morning</td>\n",
       "      <td>15000</td>\n",
       "      <td>Yes</td>\n",
       "      <td>75.0</td>\n",
       "      <td>69.0</td>\n",
       "      <td>15.0</td>\n",
       "      <td>Bad</td>\n",
       "      <td>Bad</td>\n",
       "      <td>No</td>\n",
       "    </tr>\n",
       "    <tr>\n",
       "      <th>2</th>\n",
       "      <td>Yes</td>\n",
       "      <td>Male</td>\n",
       "      <td>BCA</td>\n",
       "      <td>159.0</td>\n",
       "      <td>78.0</td>\n",
       "      <td>71.0</td>\n",
       "      <td>61.0</td>\n",
       "      <td>55.0</td>\n",
       "      <td>Cinema</td>\n",
       "      <td>90.0</td>\n",
       "      <td>Anytime</td>\n",
       "      <td>13000</td>\n",
       "      <td>Yes</td>\n",
       "      <td>50.0</td>\n",
       "      <td>120.0</td>\n",
       "      <td>45.0</td>\n",
       "      <td>Awful</td>\n",
       "      <td>Bad</td>\n",
       "      <td>No</td>\n",
       "    </tr>\n",
       "    <tr>\n",
       "      <th>3</th>\n",
       "      <td>Yes</td>\n",
       "      <td>Female</td>\n",
       "      <td>BCA</td>\n",
       "      <td>147.0</td>\n",
       "      <td>20.0</td>\n",
       "      <td>70.0</td>\n",
       "      <td>59.0</td>\n",
       "      <td>58.0</td>\n",
       "      <td>Reading books</td>\n",
       "      <td>90.0</td>\n",
       "      <td>Anytime</td>\n",
       "      <td>1500000</td>\n",
       "      <td>No</td>\n",
       "      <td>50.0</td>\n",
       "      <td>99.0</td>\n",
       "      <td>15.0</td>\n",
       "      <td>Bad</td>\n",
       "      <td>good</td>\n",
       "      <td>No</td>\n",
       "    </tr>\n",
       "    <tr>\n",
       "      <th>4</th>\n",
       "      <td>No</td>\n",
       "      <td>Male</td>\n",
       "      <td>BCA</td>\n",
       "      <td>170.0</td>\n",
       "      <td>54.0</td>\n",
       "      <td>40.0</td>\n",
       "      <td>65.0</td>\n",
       "      <td>30.0</td>\n",
       "      <td>Video Games</td>\n",
       "      <td>45.0</td>\n",
       "      <td>Morning</td>\n",
       "      <td>50000</td>\n",
       "      <td>Yes</td>\n",
       "      <td>25.0</td>\n",
       "      <td>99.0</td>\n",
       "      <td>45.0</td>\n",
       "      <td>Good</td>\n",
       "      <td>good</td>\n",
       "      <td>No</td>\n",
       "    </tr>\n",
       "  </tbody>\n",
       "</table>\n",
       "</div>"
      ],
      "text/plain": [
       "  certification  gender  dep  height  weight  mark10th  mark12th  collegemark  \\\n",
       "0            No    Male  BCA   100.0    58.0      79.0      64.0         80.0   \n",
       "1            No  Female  BCA    90.0    40.0      70.0      80.0         70.0   \n",
       "2           Yes    Male  BCA   159.0    78.0      71.0      61.0         55.0   \n",
       "3           Yes  Female  BCA   147.0    20.0      70.0      59.0         58.0   \n",
       "4            No    Male  BCA   170.0    54.0      40.0      65.0         30.0   \n",
       "\n",
       "         hobbies  studytime prefertime  salexpect likedegree  carrer_willing  \\\n",
       "0    Video Games       15.0    Morning      40000         No            50.0   \n",
       "1         Cinema       45.0    Morning      15000        Yes            75.0   \n",
       "2         Cinema       90.0    Anytime      13000        Yes            50.0   \n",
       "3  Reading books       90.0    Anytime    1500000         No            50.0   \n",
       "4    Video Games       45.0    Morning      50000        Yes            25.0   \n",
       "\n",
       "   smtime  travel stress financial parttime  \n",
       "0    99.0    45.0    Bad       Bad       No  \n",
       "1    69.0    15.0    Bad       Bad       No  \n",
       "2   120.0    45.0  Awful       Bad       No  \n",
       "3    99.0    15.0    Bad      good       No  \n",
       "4    99.0    45.0   Good      good       No  "
      ]
     },
     "execution_count": 36,
     "metadata": {},
     "output_type": "execute_result"
    }
   ],
   "source": [
    "df.head()"
   ]
  },
  {
   "cell_type": "markdown",
   "id": "e058d0fe-b2fc-44a2-96fb-3f2c144d5e8f",
   "metadata": {},
   "source": [
    "#### Marks 10th , 12th , college"
   ]
  },
  {
   "cell_type": "code",
   "execution_count": 37,
   "id": "b9136fbf-d10e-457e-825b-aa5e78188527",
   "metadata": {},
   "outputs": [
    {
     "data": {
      "text/plain": [
       "count    235.000000\n",
       "mean      76.848511\n",
       "std       13.047560\n",
       "min        7.400000\n",
       "25%       70.000000\n",
       "50%       80.000000\n",
       "75%       86.250000\n",
       "max       98.000000\n",
       "Name: mark10th, dtype: float64"
      ]
     },
     "execution_count": 37,
     "metadata": {},
     "output_type": "execute_result"
    }
   ],
   "source": [
    "# 10th marks \n",
    "df[\"mark10th\"].describe()"
   ]
  },
  {
   "cell_type": "code",
   "execution_count": 38,
   "id": "55ff1522-c92f-48f8-a149-06dc9f2a3609",
   "metadata": {},
   "outputs": [
    {
     "data": {
      "text/plain": [
       "<Axes: >"
      ]
     },
     "execution_count": 38,
     "metadata": {},
     "output_type": "execute_result"
    },
    {
     "data": {
      "image/png": "[encoded data removed]",
      "text/plain": [
       "<Figure size 640x480 with 1 Axes>"
      ]
     },
     "metadata": {},
     "output_type": "display_data"
    }
   ],
   "source": [
    "df[\"mark10th\"].plot(kind=\"box\")\n",
    "# That one outlier got somewhere close to 5 marks very bad i bet that would be a male let's check"
   ]
  },
  {
   "cell_type": "code",
   "execution_count": 39,
   "id": "4fe6e0fc-af16-44e7-a3df-7d411e0ae0ec",
   "metadata": {},
   "outputs": [],
   "source": [
    "# Checking if that person with 7.40 marks is a male of a female (I am doing this just for fun)"
   ]
  },
  {
   "cell_type": "code",
   "execution_count": 40,
   "id": "cbcecc32-d30f-43a0-9589-3712da417c14",
   "metadata": {},
   "outputs": [
    {
     "data": {
      "text/plain": [
       "gender\n",
       "Female     7.4\n",
       "Male      40.0\n",
       "Name: mark10th, dtype: float64"
      ]
     },
     "execution_count": 40,
     "metadata": {},
     "output_type": "execute_result"
    }
   ],
   "source": [
    "df.groupby(\"gender\").mark10th.min()"
   ]
  },
  {
   "cell_type": "code",
   "execution_count": 41,
   "id": "dbfd2eb0-03f0-4493-8a3d-0f2647c1069e",
   "metadata": {},
   "outputs": [],
   "source": [
    "# I was wrong and i am so proud also that a male didn't get the least marks haha"
   ]
  },
  {
   "cell_type": "code",
   "execution_count": 42,
   "id": "28e2d2ee-46a9-4542-96c7-e143fa3ffc70",
   "metadata": {},
   "outputs": [
    {
     "data": {
      "text/plain": [
       "<Axes: ylabel='Density'>"
      ]
     },
     "execution_count": 42,
     "metadata": {},
     "output_type": "execute_result"
    },
    {
     "data": {
      "image/png": "[encoded data removed]",
      "text/plain": [
       "<Figure size 640x480 with 1 Axes>"
      ]
     },
     "metadata": {},
     "output_type": "display_data"
    }
   ],
   "source": [
    "df[\"mark12th\"].plot(kind=\"kde\")"
   ]
  },
  {
   "cell_type": "code",
   "execution_count": 43,
   "id": "aabfd864-759e-4ab5-8561-71632bbfc926",
   "metadata": {},
   "outputs": [
    {
     "data": {
      "text/plain": [
       "count    235.000000\n",
       "mean      68.775872\n",
       "std       11.018192\n",
       "min       45.000000\n",
       "25%       60.000000\n",
       "50%       69.000000\n",
       "75%       76.000000\n",
       "max       94.000000\n",
       "Name: mark12th, dtype: float64"
      ]
     },
     "execution_count": 43,
     "metadata": {},
     "output_type": "execute_result"
    }
   ],
   "source": [
    "df[\"mark12th\"].describe()"
   ]
  },
  {
   "cell_type": "code",
   "execution_count": 44,
   "id": "13f481f3-9807-493f-90b6-952b975781b1",
   "metadata": {},
   "outputs": [
    {
     "data": {
      "text/plain": [
       "count    235.000000\n",
       "mean      70.660553\n",
       "std       15.727446\n",
       "min        1.000000\n",
       "25%       60.000000\n",
       "50%       70.000000\n",
       "75%       80.000000\n",
       "max      100.000000\n",
       "Name: collegemark, dtype: float64"
      ]
     },
     "execution_count": 44,
     "metadata": {},
     "output_type": "execute_result"
    }
   ],
   "source": [
    "df['collegemark'].describe()"
   ]
  },
  {
   "cell_type": "code",
   "execution_count": 45,
   "id": "a045985f-5988-4a7d-ad84-524845a583fd",
   "metadata": {},
   "outputs": [
    {
     "data": {
      "text/plain": [
       "<Axes: ylabel='Density'>"
      ]
     },
     "execution_count": 45,
     "metadata": {},
     "output_type": "execute_result"
    },
    {
     "data": {
      "image/png": "[encoded data removed]",
      "text/plain": [
       "<Figure size 640x480 with 1 Axes>"
      ]
     },
     "metadata": {},
     "output_type": "display_data"
    }
   ],
   "source": [
    "df['collegemark'].plot(kind='kde')"
   ]
  },
  {
   "cell_type": "code",
   "execution_count": 46,
   "id": "e3438398-e98e-4d06-a49d-d4d9d8d28be1",
   "metadata": {},
   "outputs": [],
   "source": [
    "# hobbies"
   ]
  },
  {
   "cell_type": "code",
   "execution_count": 47,
   "id": "670b7f2d-33be-48c4-b2dd-6efe6569eca4",
   "metadata": {},
   "outputs": [
    {
     "data": {
      "image/png": "[encoded data removed]",
      "text/plain": [
       "<Figure size 640x480 with 1 Axes>"
      ]
     },
     "metadata": {},
     "output_type": "display_data"
    }
   ],
   "source": [
    "df[\"hobbies\"].value_counts().plot(kind=\"pie\", autopct='%1.1f%%',title=\"Hobbies\",ylabel=\"\")\n",
    "plt.show()"
   ]
  },
  {
   "cell_type": "code",
   "execution_count": 48,
   "id": "17d88180-2901-412e-b846-dfc6de509aa6",
   "metadata": {},
   "outputs": [
    {
     "data": {
      "text/plain": [
       "<Axes: >"
      ]
     },
     "execution_count": 48,
     "metadata": {},
     "output_type": "execute_result"
    },
    {
     "data": {
      "image/png": "[encoded data removed]",
      "text/plain": [
       "<Figure size 640x480 with 1 Axes>"
      ]
     },
     "metadata": {},
     "output_type": "display_data"
    }
   ],
   "source": [
    "# Hobbies vs gender \n",
    "hobbies_percentage = df.groupby('gender').hobbies.value_counts()\n",
    "hobbies_percentage.plot(kind='pie',autopct='%1.1f%%',ylabel=\"\")"
   ]
  },
  {
   "cell_type": "code",
   "execution_count": 49,
   "id": "2da2eb12-c931-4712-8732-458df350b28e",
   "metadata": {},
   "outputs": [
    {
     "data": {
      "text/plain": [
       "count    235.000000\n",
       "mean      78.702128\n",
       "std       61.156208\n",
       "min       15.000000\n",
       "25%       45.000000\n",
       "50%       45.000000\n",
       "75%       90.000000\n",
       "max      240.000000\n",
       "Name: studytime, dtype: float64"
      ]
     },
     "execution_count": 49,
     "metadata": {},
     "output_type": "execute_result"
    }
   ],
   "source": [
    "# Study Time\n",
    "df[\"studytime\"].describe()"
   ]
  },
  {
   "cell_type": "code",
   "execution_count": 50,
   "id": "d4c9d6c3-9e79-4a1d-8746-ba79cbe7fae4",
   "metadata": {},
   "outputs": [
    {
     "data": {
      "text/plain": [
       "<Axes: >"
      ]
     },
     "execution_count": 50,
     "metadata": {},
     "output_type": "execute_result"
    },
    {
     "data": {
      "image/png": "[encoded data removed]",
      "text/plain": [
       "<Figure size 640x480 with 1 Axes>"
      ]
     },
     "metadata": {},
     "output_type": "display_data"
    }
   ],
   "source": [
    "df[\"studytime\"].plot(kind=\"box\")"
   ]
  },
  {
   "cell_type": "code",
   "execution_count": 51,
   "id": "2edd802b-a45b-43dc-ae3b-b4f5526cc907",
   "metadata": {},
   "outputs": [
    {
     "data": {
      "text/plain": [
       "gender\n",
       "Female    92.658228\n",
       "Male      71.634615\n",
       "Name: studytime, dtype: float64"
      ]
     },
     "execution_count": 51,
     "metadata": {},
     "output_type": "execute_result"
    }
   ],
   "source": [
    "df.groupby('gender').studytime.mean()\n",
    "# Females study more than males"
   ]
  },
  {
   "cell_type": "code",
   "execution_count": 52,
   "id": "1b9ca149-e7da-4d5c-993a-b175ac2c409f",
   "metadata": {},
   "outputs": [
    {
     "data": {
      "image/png": "[encoded data removed]",
      "text/plain": [
       "<Figure size 640x480 with 1 Axes>"
      ]
     },
     "metadata": {},
     "output_type": "display_data"
    }
   ],
   "source": [
    "df.groupby('dep').studytime.mean().plot(kind='bar')\n",
    "plt.show()\n",
    "# students who have B.com accounting and finance study more"
   ]
  },
  {
   "cell_type": "code",
   "execution_count": 53,
   "id": "031beb69-6385-4a9c-9c96-664f6c33e4a3",
   "metadata": {},
   "outputs": [],
   "source": [
    "# Preferd time of study"
   ]
  },
  {
   "cell_type": "code",
   "execution_count": 54,
   "id": "d25ce7a5-8f9c-499a-927e-c0e2c226a546",
   "metadata": {},
   "outputs": [
    {
     "data": {
      "text/plain": [
       "prefertime\n",
       "Anytime    111\n",
       "Morning     77\n",
       "Night       47\n",
       "Name: count, dtype: int64"
      ]
     },
     "execution_count": 54,
     "metadata": {},
     "output_type": "execute_result"
    }
   ],
   "source": [
    "df[\"prefertime\"].value_counts()"
   ]
  },
  {
   "cell_type": "code",
   "execution_count": 55,
   "id": "986a65f8-d302-431b-895c-bee87739f7cd",
   "metadata": {},
   "outputs": [
    {
     "data": {
      "text/plain": [
       "<Axes: xlabel='dep,prefertime'>"
      ]
     },
     "execution_count": 55,
     "metadata": {},
     "output_type": "execute_result"
    },
    {
     "data": {
      "image/png": "[encoded data removed]",
      "text/plain": [
       "<Figure size 640x480 with 1 Axes>"
      ]
     },
     "metadata": {},
     "output_type": "display_data"
    }
   ],
   "source": [
    "df.groupby('dep').prefertime.value_counts().plot(kind=\"bar\")"
   ]
  },
  {
   "cell_type": "code",
   "execution_count": 56,
   "id": "d545f5ff-928e-4d0f-90f8-0cc8a86462c3",
   "metadata": {},
   "outputs": [
    {
     "data": {
      "text/html": [
       "<div>\n",
       "<style scoped>\n",
       "    .dataframe tbody tr th:only-of-type {\n",
       "        vertical-align: middle;\n",
       "    }\n",
       "\n",
       "    .dataframe tbody tr th {\n",
       "        vertical-align: top;\n",
       "    }\n",
       "\n",
       "    .dataframe thead th {\n",
       "        text-align: right;\n",
       "    }\n",
       "</style>\n",
       "<table border=\"1\" class=\"dataframe\">\n",
       "  <thead>\n",
       "    <tr style=\"text-align: right;\">\n",
       "      <th></th>\n",
       "      <th>certification</th>\n",
       "      <th>gender</th>\n",
       "      <th>dep</th>\n",
       "      <th>height</th>\n",
       "      <th>weight</th>\n",
       "      <th>mark10th</th>\n",
       "      <th>mark12th</th>\n",
       "      <th>collegemark</th>\n",
       "      <th>hobbies</th>\n",
       "      <th>studytime</th>\n",
       "      <th>prefertime</th>\n",
       "      <th>salexpect</th>\n",
       "      <th>likedegree</th>\n",
       "      <th>carrer_willing</th>\n",
       "      <th>smtime</th>\n",
       "      <th>travel</th>\n",
       "      <th>stress</th>\n",
       "      <th>financial</th>\n",
       "      <th>parttime</th>\n",
       "    </tr>\n",
       "  </thead>\n",
       "  <tbody>\n",
       "    <tr>\n",
       "      <th>0</th>\n",
       "      <td>No</td>\n",
       "      <td>Male</td>\n",
       "      <td>BCA</td>\n",
       "      <td>100.0</td>\n",
       "      <td>58.0</td>\n",
       "      <td>79.0</td>\n",
       "      <td>64.0</td>\n",
       "      <td>80.0</td>\n",
       "      <td>Video Games</td>\n",
       "      <td>15.0</td>\n",
       "      <td>Morning</td>\n",
       "      <td>40000</td>\n",
       "      <td>No</td>\n",
       "      <td>50.0</td>\n",
       "      <td>99.0</td>\n",
       "      <td>45.0</td>\n",
       "      <td>Bad</td>\n",
       "      <td>Bad</td>\n",
       "      <td>No</td>\n",
       "    </tr>\n",
       "    <tr>\n",
       "      <th>1</th>\n",
       "      <td>No</td>\n",
       "      <td>Female</td>\n",
       "      <td>BCA</td>\n",
       "      <td>90.0</td>\n",
       "      <td>40.0</td>\n",
       "      <td>70.0</td>\n",
       "      <td>80.0</td>\n",
       "      <td>70.0</td>\n",
       "      <td>Cinema</td>\n",
       "      <td>45.0</td>\n",
       "      <td>Morning</td>\n",
       "      <td>15000</td>\n",
       "      <td>Yes</td>\n",
       "      <td>75.0</td>\n",
       "      <td>69.0</td>\n",
       "      <td>15.0</td>\n",
       "      <td>Bad</td>\n",
       "      <td>Bad</td>\n",
       "      <td>No</td>\n",
       "    </tr>\n",
       "    <tr>\n",
       "      <th>2</th>\n",
       "      <td>Yes</td>\n",
       "      <td>Male</td>\n",
       "      <td>BCA</td>\n",
       "      <td>159.0</td>\n",
       "      <td>78.0</td>\n",
       "      <td>71.0</td>\n",
       "      <td>61.0</td>\n",
       "      <td>55.0</td>\n",
       "      <td>Cinema</td>\n",
       "      <td>90.0</td>\n",
       "      <td>Anytime</td>\n",
       "      <td>13000</td>\n",
       "      <td>Yes</td>\n",
       "      <td>50.0</td>\n",
       "      <td>120.0</td>\n",
       "      <td>45.0</td>\n",
       "      <td>Awful</td>\n",
       "      <td>Bad</td>\n",
       "      <td>No</td>\n",
       "    </tr>\n",
       "    <tr>\n",
       "      <th>3</th>\n",
       "      <td>Yes</td>\n",
       "      <td>Female</td>\n",
       "      <td>BCA</td>\n",
       "      <td>147.0</td>\n",
       "      <td>20.0</td>\n",
       "      <td>70.0</td>\n",
       "      <td>59.0</td>\n",
       "      <td>58.0</td>\n",
       "      <td>Reading books</td>\n",
       "      <td>90.0</td>\n",
       "      <td>Anytime</td>\n",
       "      <td>1500000</td>\n",
       "      <td>No</td>\n",
       "      <td>50.0</td>\n",
       "      <td>99.0</td>\n",
       "      <td>15.0</td>\n",
       "      <td>Bad</td>\n",
       "      <td>good</td>\n",
       "      <td>No</td>\n",
       "    </tr>\n",
       "    <tr>\n",
       "      <th>4</th>\n",
       "      <td>No</td>\n",
       "      <td>Male</td>\n",
       "      <td>BCA</td>\n",
       "      <td>170.0</td>\n",
       "      <td>54.0</td>\n",
       "      <td>40.0</td>\n",
       "      <td>65.0</td>\n",
       "      <td>30.0</td>\n",
       "      <td>Video Games</td>\n",
       "      <td>45.0</td>\n",
       "      <td>Morning</td>\n",
       "      <td>50000</td>\n",
       "      <td>Yes</td>\n",
       "      <td>25.0</td>\n",
       "      <td>99.0</td>\n",
       "      <td>45.0</td>\n",
       "      <td>Good</td>\n",
       "      <td>good</td>\n",
       "      <td>No</td>\n",
       "    </tr>\n",
       "  </tbody>\n",
       "</table>\n",
       "</div>"
      ],
      "text/plain": [
       "  certification  gender  dep  height  weight  mark10th  mark12th  collegemark  \\\n",
       "0            No    Male  BCA   100.0    58.0      79.0      64.0         80.0   \n",
       "1            No  Female  BCA    90.0    40.0      70.0      80.0         70.0   \n",
       "2           Yes    Male  BCA   159.0    78.0      71.0      61.0         55.0   \n",
       "3           Yes  Female  BCA   147.0    20.0      70.0      59.0         58.0   \n",
       "4            No    Male  BCA   170.0    54.0      40.0      65.0         30.0   \n",
       "\n",
       "         hobbies  studytime prefertime  salexpect likedegree  carrer_willing  \\\n",
       "0    Video Games       15.0    Morning      40000         No            50.0   \n",
       "1         Cinema       45.0    Morning      15000        Yes            75.0   \n",
       "2         Cinema       90.0    Anytime      13000        Yes            50.0   \n",
       "3  Reading books       90.0    Anytime    1500000         No            50.0   \n",
       "4    Video Games       45.0    Morning      50000        Yes            25.0   \n",
       "\n",
       "   smtime  travel stress financial parttime  \n",
       "0    99.0    45.0    Bad       Bad       No  \n",
       "1    69.0    15.0    Bad       Bad       No  \n",
       "2   120.0    45.0  Awful       Bad       No  \n",
       "3    99.0    15.0    Bad      good       No  \n",
       "4    99.0    45.0   Good      good       No  "
      ]
     },
     "execution_count": 56,
     "metadata": {},
     "output_type": "execute_result"
    }
   ],
   "source": [
    "df.head()"
   ]
  },
  {
   "cell_type": "code",
   "execution_count": 57,
   "id": "2ccae87a-17ee-4578-8ffb-8d81130459f2",
   "metadata": {},
   "outputs": [
    {
     "data": {
      "text/plain": [
       "count    2.350000e+02\n",
       "mean     3.248168e+04\n",
       "std      1.113146e+05\n",
       "min      0.000000e+00\n",
       "25%      1.500000e+04\n",
       "50%      2.000000e+04\n",
       "75%      2.500000e+04\n",
       "max      1.500000e+06\n",
       "Name: salexpect, dtype: float64"
      ]
     },
     "execution_count": 57,
     "metadata": {},
     "output_type": "execute_result"
    }
   ],
   "source": [
    "# salary expectations\n",
    "df[\"salexpect\"].describe()"
   ]
  },
  {
   "cell_type": "code",
   "execution_count": 58,
   "id": "b37a81b6-cbe5-4bf4-bf88-1f60db9c9a3b",
   "metadata": {},
   "outputs": [],
   "source": [
    "# Student Like there Degree or no"
   ]
  },
  {
   "cell_type": "code",
   "execution_count": 59,
   "id": "b454c722-777d-4add-b167-eb048ff93219",
   "metadata": {},
   "outputs": [
    {
     "data": {
      "text/plain": [
       "<Axes: xlabel='likedegree'>"
      ]
     },
     "execution_count": 59,
     "metadata": {},
     "output_type": "execute_result"
    },
    {
     "data": {
      "image/png": "[encoded data removed]",
      "text/plain": [
       "<Figure size 640x480 with 1 Axes>"
      ]
     },
     "metadata": {},
     "output_type": "display_data"
    }
   ],
   "source": [
    "df[\"likedegree\"].value_counts().plot(kind='bar')\n",
    "# Most of the students like there degree"
   ]
  },
  {
   "cell_type": "code",
   "execution_count": 60,
   "id": "c97b0f95-fbd4-4b91-93cb-2e91cb156ab2",
   "metadata": {},
   "outputs": [],
   "source": [
    "# SOCIAL MEDIA TIME(smtime)"
   ]
  },
  {
   "cell_type": "code",
   "execution_count": 61,
   "id": "58cd83c1-3399-41c4-8f90-53034d3ef92c",
   "metadata": {},
   "outputs": [
    {
     "data": {
      "text/plain": [
       "count    235.000000\n",
       "mean      60.176596\n",
       "std       35.040357\n",
       "min        0.000000\n",
       "25%       45.000000\n",
       "50%       45.000000\n",
       "75%       84.000000\n",
       "max      120.000000\n",
       "Name: smtime, dtype: float64"
      ]
     },
     "execution_count": 61,
     "metadata": {},
     "output_type": "execute_result"
    }
   ],
   "source": [
    "df[\"smtime\"].describe()"
   ]
  },
  {
   "cell_type": "code",
   "execution_count": 62,
   "id": "37b0a5f2-a4ba-43e3-af6d-5f947665f531",
   "metadata": {},
   "outputs": [
    {
     "data": {
      "image/png": "[encoded data removed]",
      "text/plain": [
       "<Figure size 640x480 with 1 Axes>"
      ]
     },
     "metadata": {},
     "output_type": "display_data"
    }
   ],
   "source": [
    "df.groupby('dep').smtime.mean().sort_values(ascending=False).plot(kind='bar')\n",
    "plt.show()\n",
    "# commerce students use social media the most "
   ]
  },
  {
   "cell_type": "code",
   "execution_count": 63,
   "id": "aa1030c4-c5d8-4cc4-93b4-9795aac5c2a9",
   "metadata": {},
   "outputs": [
    {
     "data": {
      "text/html": [
       "<div>\n",
       "<style scoped>\n",
       "    .dataframe tbody tr th:only-of-type {\n",
       "        vertical-align: middle;\n",
       "    }\n",
       "\n",
       "    .dataframe tbody tr th {\n",
       "        vertical-align: top;\n",
       "    }\n",
       "\n",
       "    .dataframe thead th {\n",
       "        text-align: right;\n",
       "    }\n",
       "</style>\n",
       "<table border=\"1\" class=\"dataframe\">\n",
       "  <thead>\n",
       "    <tr style=\"text-align: right;\">\n",
       "      <th></th>\n",
       "      <th>certification</th>\n",
       "      <th>gender</th>\n",
       "      <th>dep</th>\n",
       "      <th>height</th>\n",
       "      <th>weight</th>\n",
       "      <th>mark10th</th>\n",
       "      <th>mark12th</th>\n",
       "      <th>collegemark</th>\n",
       "      <th>hobbies</th>\n",
       "      <th>studytime</th>\n",
       "      <th>prefertime</th>\n",
       "      <th>salexpect</th>\n",
       "      <th>likedegree</th>\n",
       "      <th>carrer_willing</th>\n",
       "      <th>smtime</th>\n",
       "      <th>travel</th>\n",
       "      <th>stress</th>\n",
       "      <th>financial</th>\n",
       "      <th>parttime</th>\n",
       "    </tr>\n",
       "  </thead>\n",
       "  <tbody>\n",
       "    <tr>\n",
       "      <th>0</th>\n",
       "      <td>No</td>\n",
       "      <td>Male</td>\n",
       "      <td>BCA</td>\n",
       "      <td>100.0</td>\n",
       "      <td>58.0</td>\n",
       "      <td>79.0</td>\n",
       "      <td>64.0</td>\n",
       "      <td>80.0</td>\n",
       "      <td>Video Games</td>\n",
       "      <td>15.0</td>\n",
       "      <td>Morning</td>\n",
       "      <td>40000</td>\n",
       "      <td>No</td>\n",
       "      <td>50.0</td>\n",
       "      <td>99.0</td>\n",
       "      <td>45.0</td>\n",
       "      <td>Bad</td>\n",
       "      <td>Bad</td>\n",
       "      <td>No</td>\n",
       "    </tr>\n",
       "    <tr>\n",
       "      <th>1</th>\n",
       "      <td>No</td>\n",
       "      <td>Female</td>\n",
       "      <td>BCA</td>\n",
       "      <td>90.0</td>\n",
       "      <td>40.0</td>\n",
       "      <td>70.0</td>\n",
       "      <td>80.0</td>\n",
       "      <td>70.0</td>\n",
       "      <td>Cinema</td>\n",
       "      <td>45.0</td>\n",
       "      <td>Morning</td>\n",
       "      <td>15000</td>\n",
       "      <td>Yes</td>\n",
       "      <td>75.0</td>\n",
       "      <td>69.0</td>\n",
       "      <td>15.0</td>\n",
       "      <td>Bad</td>\n",
       "      <td>Bad</td>\n",
       "      <td>No</td>\n",
       "    </tr>\n",
       "    <tr>\n",
       "      <th>2</th>\n",
       "      <td>Yes</td>\n",
       "      <td>Male</td>\n",
       "      <td>BCA</td>\n",
       "      <td>159.0</td>\n",
       "      <td>78.0</td>\n",
       "      <td>71.0</td>\n",
       "      <td>61.0</td>\n",
       "      <td>55.0</td>\n",
       "      <td>Cinema</td>\n",
       "      <td>90.0</td>\n",
       "      <td>Anytime</td>\n",
       "      <td>13000</td>\n",
       "      <td>Yes</td>\n",
       "      <td>50.0</td>\n",
       "      <td>120.0</td>\n",
       "      <td>45.0</td>\n",
       "      <td>Awful</td>\n",
       "      <td>Bad</td>\n",
       "      <td>No</td>\n",
       "    </tr>\n",
       "    <tr>\n",
       "      <th>3</th>\n",
       "      <td>Yes</td>\n",
       "      <td>Female</td>\n",
       "      <td>BCA</td>\n",
       "      <td>147.0</td>\n",
       "      <td>20.0</td>\n",
       "      <td>70.0</td>\n",
       "      <td>59.0</td>\n",
       "      <td>58.0</td>\n",
       "      <td>Reading books</td>\n",
       "      <td>90.0</td>\n",
       "      <td>Anytime</td>\n",
       "      <td>1500000</td>\n",
       "      <td>No</td>\n",
       "      <td>50.0</td>\n",
       "      <td>99.0</td>\n",
       "      <td>15.0</td>\n",
       "      <td>Bad</td>\n",
       "      <td>good</td>\n",
       "      <td>No</td>\n",
       "    </tr>\n",
       "    <tr>\n",
       "      <th>4</th>\n",
       "      <td>No</td>\n",
       "      <td>Male</td>\n",
       "      <td>BCA</td>\n",
       "      <td>170.0</td>\n",
       "      <td>54.0</td>\n",
       "      <td>40.0</td>\n",
       "      <td>65.0</td>\n",
       "      <td>30.0</td>\n",
       "      <td>Video Games</td>\n",
       "      <td>45.0</td>\n",
       "      <td>Morning</td>\n",
       "      <td>50000</td>\n",
       "      <td>Yes</td>\n",
       "      <td>25.0</td>\n",
       "      <td>99.0</td>\n",
       "      <td>45.0</td>\n",
       "      <td>Good</td>\n",
       "      <td>good</td>\n",
       "      <td>No</td>\n",
       "    </tr>\n",
       "  </tbody>\n",
       "</table>\n",
       "</div>"
      ],
      "text/plain": [
       "  certification  gender  dep  height  weight  mark10th  mark12th  collegemark  \\\n",
       "0            No    Male  BCA   100.0    58.0      79.0      64.0         80.0   \n",
       "1            No  Female  BCA    90.0    40.0      70.0      80.0         70.0   \n",
       "2           Yes    Male  BCA   159.0    78.0      71.0      61.0         55.0   \n",
       "3           Yes  Female  BCA   147.0    20.0      70.0      59.0         58.0   \n",
       "4            No    Male  BCA   170.0    54.0      40.0      65.0         30.0   \n",
       "\n",
       "         hobbies  studytime prefertime  salexpect likedegree  carrer_willing  \\\n",
       "0    Video Games       15.0    Morning      40000         No            50.0   \n",
       "1         Cinema       45.0    Morning      15000        Yes            75.0   \n",
       "2         Cinema       90.0    Anytime      13000        Yes            50.0   \n",
       "3  Reading books       90.0    Anytime    1500000         No            50.0   \n",
       "4    Video Games       45.0    Morning      50000        Yes            25.0   \n",
       "\n",
       "   smtime  travel stress financial parttime  \n",
       "0    99.0    45.0    Bad       Bad       No  \n",
       "1    69.0    15.0    Bad       Bad       No  \n",
       "2   120.0    45.0  Awful       Bad       No  \n",
       "3    99.0    15.0    Bad      good       No  \n",
       "4    99.0    45.0   Good      good       No  "
      ]
     },
     "execution_count": 63,
     "metadata": {},
     "output_type": "execute_result"
    }
   ],
   "source": [
    "df.head()"
   ]
  },
  {
   "cell_type": "code",
   "execution_count": 64,
   "id": "5d8ed936-0fb9-4773-85a3-7a18e779e66a",
   "metadata": {},
   "outputs": [],
   "source": [
    "# Travel Time"
   ]
  },
  {
   "cell_type": "code",
   "execution_count": 65,
   "id": "e6ba0ebe-66e5-4741-89d0-496e55d04612",
   "metadata": {},
   "outputs": [
    {
     "data": {
      "text/plain": [
       "count    235.000000\n",
       "mean      61.468085\n",
       "std       43.345093\n",
       "min       15.000000\n",
       "25%       45.000000\n",
       "50%       45.000000\n",
       "75%       69.000000\n",
       "max      180.000000\n",
       "Name: travel, dtype: float64"
      ]
     },
     "execution_count": 65,
     "metadata": {},
     "output_type": "execute_result"
    }
   ],
   "source": [
    "df['travel'].describe()"
   ]
  },
  {
   "cell_type": "markdown",
   "id": "adecf76d-6f8f-4c91-a5db-ccc0c6b2b084",
   "metadata": {},
   "source": [
    "# STRESS ANALYSIS"
   ]
  },
  {
   "cell_type": "code",
   "execution_count": 66,
   "id": "5f515670-c935-4813-ac1f-5ad4da3a15ba",
   "metadata": {},
   "outputs": [
    {
     "data": {
      "image/png": "[encoded data removed]",
      "text/plain": [
       "<Figure size 640x480 with 1 Axes>"
      ]
     },
     "metadata": {},
     "output_type": "display_data"
    }
   ],
   "source": [
    "df['stress'].value_counts().plot(kind='bar')\n",
    "plt.show()\n",
    "# most of the students have good stress level"
   ]
  },
  {
   "cell_type": "code",
   "execution_count": 67,
   "id": "3d1a8d7b-b5b2-4faa-bfb7-57adef9a3c56",
   "metadata": {},
   "outputs": [],
   "source": [
    "# Stress vs gender"
   ]
  },
  {
   "cell_type": "code",
   "execution_count": 68,
   "id": "4a4290ef-41b6-4b61-993e-2913282bec37",
   "metadata": {},
   "outputs": [
    {
     "data": {
      "text/plain": [
       "<Axes: title={'center': 'Stress & Gender'}>"
      ]
     },
     "execution_count": 68,
     "metadata": {},
     "output_type": "execute_result"
    },
    {
     "data": {
      "image/png": "[encoded data removed]",
      "text/plain": [
       "<Figure size 640x480 with 1 Axes>"
      ]
     },
     "metadata": {},
     "output_type": "display_data"
    }
   ],
   "source": [
    "df.groupby(\"stress\").gender.value_counts().plot(kind='pie',autopct=\"%1.1f%%\",ylabel=\"\",title=\"Stress & Gender\")"
   ]
  },
  {
   "cell_type": "code",
   "execution_count": 69,
   "id": "01669d12-c381-4ee0-aba8-ede38f93c418",
   "metadata": {},
   "outputs": [],
   "source": [
    "# Stress vs department "
   ]
  },
  {
   "cell_type": "code",
   "execution_count": 70,
   "id": "d516b7d6-5079-4b84-9ec8-2fd5026377bb",
   "metadata": {},
   "outputs": [],
   "source": [
    "stress_dep = df.groupby(\"dep\").stress.value_counts().reset_index().sort_values(by=\"count\")"
   ]
  },
  {
   "cell_type": "code",
   "execution_count": 71,
   "id": "5ec7e7ea-284a-4c60-92c8-40bf1576c7e5",
   "metadata": {},
   "outputs": [
    {
     "data": {
      "text/html": [
       "<div>\n",
       "<style scoped>\n",
       "    .dataframe tbody tr th:only-of-type {\n",
       "        vertical-align: middle;\n",
       "    }\n",
       "\n",
       "    .dataframe tbody tr th {\n",
       "        vertical-align: top;\n",
       "    }\n",
       "\n",
       "    .dataframe thead th {\n",
       "        text-align: right;\n",
       "    }\n",
       "</style>\n",
       "<table border=\"1\" class=\"dataframe\">\n",
       "  <thead>\n",
       "    <tr style=\"text-align: right;\">\n",
       "      <th></th>\n",
       "      <th>dep</th>\n",
       "      <th>stress</th>\n",
       "      <th>count</th>\n",
       "    </tr>\n",
       "  </thead>\n",
       "  <tbody>\n",
       "    <tr>\n",
       "      <th>2</th>\n",
       "      <td>B.com Accounting and Finance</td>\n",
       "      <td>Awful</td>\n",
       "      <td>2</td>\n",
       "    </tr>\n",
       "    <tr>\n",
       "      <th>3</th>\n",
       "      <td>B.com Accounting and Finance</td>\n",
       "      <td>fabulous</td>\n",
       "      <td>2</td>\n",
       "    </tr>\n",
       "    <tr>\n",
       "      <th>6</th>\n",
       "      <td>B.com ISM</td>\n",
       "      <td>Awful</td>\n",
       "      <td>2</td>\n",
       "    </tr>\n",
       "    <tr>\n",
       "      <th>7</th>\n",
       "      <td>B.com ISM</td>\n",
       "      <td>fabulous</td>\n",
       "      <td>2</td>\n",
       "    </tr>\n",
       "    <tr>\n",
       "      <th>11</th>\n",
       "      <td>BCA</td>\n",
       "      <td>fabulous</td>\n",
       "      <td>3</td>\n",
       "    </tr>\n",
       "    <tr>\n",
       "      <th>1</th>\n",
       "      <td>B.com Accounting and Finance</td>\n",
       "      <td>Bad</td>\n",
       "      <td>4</td>\n",
       "    </tr>\n",
       "    <tr>\n",
       "      <th>15</th>\n",
       "      <td>Commerce</td>\n",
       "      <td>fabulous</td>\n",
       "      <td>4</td>\n",
       "    </tr>\n",
       "    <tr>\n",
       "      <th>14</th>\n",
       "      <td>Commerce</td>\n",
       "      <td>Awful</td>\n",
       "      <td>5</td>\n",
       "    </tr>\n",
       "    <tr>\n",
       "      <th>0</th>\n",
       "      <td>B.com Accounting and Finance</td>\n",
       "      <td>Good</td>\n",
       "      <td>7</td>\n",
       "    </tr>\n",
       "    <tr>\n",
       "      <th>10</th>\n",
       "      <td>BCA</td>\n",
       "      <td>Awful</td>\n",
       "      <td>10</td>\n",
       "    </tr>\n",
       "    <tr>\n",
       "      <th>13</th>\n",
       "      <td>Commerce</td>\n",
       "      <td>Bad</td>\n",
       "      <td>10</td>\n",
       "    </tr>\n",
       "    <tr>\n",
       "      <th>5</th>\n",
       "      <td>B.com ISM</td>\n",
       "      <td>Bad</td>\n",
       "      <td>11</td>\n",
       "    </tr>\n",
       "    <tr>\n",
       "      <th>4</th>\n",
       "      <td>B.com ISM</td>\n",
       "      <td>Good</td>\n",
       "      <td>13</td>\n",
       "    </tr>\n",
       "    <tr>\n",
       "      <th>12</th>\n",
       "      <td>Commerce</td>\n",
       "      <td>Good</td>\n",
       "      <td>41</td>\n",
       "    </tr>\n",
       "    <tr>\n",
       "      <th>9</th>\n",
       "      <td>BCA</td>\n",
       "      <td>Bad</td>\n",
       "      <td>43</td>\n",
       "    </tr>\n",
       "    <tr>\n",
       "      <th>8</th>\n",
       "      <td>BCA</td>\n",
       "      <td>Good</td>\n",
       "      <td>76</td>\n",
       "    </tr>\n",
       "  </tbody>\n",
       "</table>\n",
       "</div>"
      ],
      "text/plain": [
       "                              dep    stress  count\n",
       "2   B.com Accounting and Finance      Awful      2\n",
       "3   B.com Accounting and Finance   fabulous      2\n",
       "6                       B.com ISM     Awful      2\n",
       "7                       B.com ISM  fabulous      2\n",
       "11                            BCA  fabulous      3\n",
       "1   B.com Accounting and Finance        Bad      4\n",
       "15                       Commerce  fabulous      4\n",
       "14                       Commerce     Awful      5\n",
       "0   B.com Accounting and Finance       Good      7\n",
       "10                            BCA     Awful     10\n",
       "13                       Commerce       Bad     10\n",
       "5                       B.com ISM       Bad     11\n",
       "4                       B.com ISM      Good     13\n",
       "12                       Commerce      Good     41\n",
       "9                             BCA       Bad     43\n",
       "8                             BCA      Good     76"
      ]
     },
     "execution_count": 71,
     "metadata": {},
     "output_type": "execute_result"
    }
   ],
   "source": [
    "stress_dep"
   ]
  },
  {
   "cell_type": "code",
   "execution_count": 72,
   "id": "f4dddaf9-65b7-4430-9b70-c6efec5d45f8",
   "metadata": {},
   "outputs": [
    {
     "data": {
      "text/html": [
       "<div>\n",
       "<style scoped>\n",
       "    .dataframe tbody tr th:only-of-type {\n",
       "        vertical-align: middle;\n",
       "    }\n",
       "\n",
       "    .dataframe tbody tr th {\n",
       "        vertical-align: top;\n",
       "    }\n",
       "\n",
       "    .dataframe thead th {\n",
       "        text-align: right;\n",
       "    }\n",
       "</style>\n",
       "<table border=\"1\" class=\"dataframe\">\n",
       "  <thead>\n",
       "    <tr style=\"text-align: right;\">\n",
       "      <th></th>\n",
       "      <th>certification</th>\n",
       "      <th>gender</th>\n",
       "      <th>dep</th>\n",
       "      <th>height</th>\n",
       "      <th>weight</th>\n",
       "      <th>mark10th</th>\n",
       "      <th>mark12th</th>\n",
       "      <th>collegemark</th>\n",
       "      <th>hobbies</th>\n",
       "      <th>studytime</th>\n",
       "      <th>prefertime</th>\n",
       "      <th>salexpect</th>\n",
       "      <th>likedegree</th>\n",
       "      <th>carrer_willing</th>\n",
       "      <th>smtime</th>\n",
       "      <th>travel</th>\n",
       "      <th>stress</th>\n",
       "      <th>financial</th>\n",
       "      <th>parttime</th>\n",
       "    </tr>\n",
       "  </thead>\n",
       "  <tbody>\n",
       "    <tr>\n",
       "      <th>0</th>\n",
       "      <td>No</td>\n",
       "      <td>Male</td>\n",
       "      <td>BCA</td>\n",
       "      <td>100.0</td>\n",
       "      <td>58.0</td>\n",
       "      <td>79.0</td>\n",
       "      <td>64.0</td>\n",
       "      <td>80.0</td>\n",
       "      <td>Video Games</td>\n",
       "      <td>15.0</td>\n",
       "      <td>Morning</td>\n",
       "      <td>40000</td>\n",
       "      <td>No</td>\n",
       "      <td>50.0</td>\n",
       "      <td>99.0</td>\n",
       "      <td>45.0</td>\n",
       "      <td>Bad</td>\n",
       "      <td>Bad</td>\n",
       "      <td>No</td>\n",
       "    </tr>\n",
       "    <tr>\n",
       "      <th>1</th>\n",
       "      <td>No</td>\n",
       "      <td>Female</td>\n",
       "      <td>BCA</td>\n",
       "      <td>90.0</td>\n",
       "      <td>40.0</td>\n",
       "      <td>70.0</td>\n",
       "      <td>80.0</td>\n",
       "      <td>70.0</td>\n",
       "      <td>Cinema</td>\n",
       "      <td>45.0</td>\n",
       "      <td>Morning</td>\n",
       "      <td>15000</td>\n",
       "      <td>Yes</td>\n",
       "      <td>75.0</td>\n",
       "      <td>69.0</td>\n",
       "      <td>15.0</td>\n",
       "      <td>Bad</td>\n",
       "      <td>Bad</td>\n",
       "      <td>No</td>\n",
       "    </tr>\n",
       "    <tr>\n",
       "      <th>2</th>\n",
       "      <td>Yes</td>\n",
       "      <td>Male</td>\n",
       "      <td>BCA</td>\n",
       "      <td>159.0</td>\n",
       "      <td>78.0</td>\n",
       "      <td>71.0</td>\n",
       "      <td>61.0</td>\n",
       "      <td>55.0</td>\n",
       "      <td>Cinema</td>\n",
       "      <td>90.0</td>\n",
       "      <td>Anytime</td>\n",
       "      <td>13000</td>\n",
       "      <td>Yes</td>\n",
       "      <td>50.0</td>\n",
       "      <td>120.0</td>\n",
       "      <td>45.0</td>\n",
       "      <td>Awful</td>\n",
       "      <td>Bad</td>\n",
       "      <td>No</td>\n",
       "    </tr>\n",
       "    <tr>\n",
       "      <th>3</th>\n",
       "      <td>Yes</td>\n",
       "      <td>Female</td>\n",
       "      <td>BCA</td>\n",
       "      <td>147.0</td>\n",
       "      <td>20.0</td>\n",
       "      <td>70.0</td>\n",
       "      <td>59.0</td>\n",
       "      <td>58.0</td>\n",
       "      <td>Reading books</td>\n",
       "      <td>90.0</td>\n",
       "      <td>Anytime</td>\n",
       "      <td>1500000</td>\n",
       "      <td>No</td>\n",
       "      <td>50.0</td>\n",
       "      <td>99.0</td>\n",
       "      <td>15.0</td>\n",
       "      <td>Bad</td>\n",
       "      <td>good</td>\n",
       "      <td>No</td>\n",
       "    </tr>\n",
       "    <tr>\n",
       "      <th>4</th>\n",
       "      <td>No</td>\n",
       "      <td>Male</td>\n",
       "      <td>BCA</td>\n",
       "      <td>170.0</td>\n",
       "      <td>54.0</td>\n",
       "      <td>40.0</td>\n",
       "      <td>65.0</td>\n",
       "      <td>30.0</td>\n",
       "      <td>Video Games</td>\n",
       "      <td>45.0</td>\n",
       "      <td>Morning</td>\n",
       "      <td>50000</td>\n",
       "      <td>Yes</td>\n",
       "      <td>25.0</td>\n",
       "      <td>99.0</td>\n",
       "      <td>45.0</td>\n",
       "      <td>Good</td>\n",
       "      <td>good</td>\n",
       "      <td>No</td>\n",
       "    </tr>\n",
       "  </tbody>\n",
       "</table>\n",
       "</div>"
      ],
      "text/plain": [
       "  certification  gender  dep  height  weight  mark10th  mark12th  collegemark  \\\n",
       "0            No    Male  BCA   100.0    58.0      79.0      64.0         80.0   \n",
       "1            No  Female  BCA    90.0    40.0      70.0      80.0         70.0   \n",
       "2           Yes    Male  BCA   159.0    78.0      71.0      61.0         55.0   \n",
       "3           Yes  Female  BCA   147.0    20.0      70.0      59.0         58.0   \n",
       "4            No    Male  BCA   170.0    54.0      40.0      65.0         30.0   \n",
       "\n",
       "         hobbies  studytime prefertime  salexpect likedegree  carrer_willing  \\\n",
       "0    Video Games       15.0    Morning      40000         No            50.0   \n",
       "1         Cinema       45.0    Morning      15000        Yes            75.0   \n",
       "2         Cinema       90.0    Anytime      13000        Yes            50.0   \n",
       "3  Reading books       90.0    Anytime    1500000         No            50.0   \n",
       "4    Video Games       45.0    Morning      50000        Yes            25.0   \n",
       "\n",
       "   smtime  travel stress financial parttime  \n",
       "0    99.0    45.0    Bad       Bad       No  \n",
       "1    69.0    15.0    Bad       Bad       No  \n",
       "2   120.0    45.0  Awful       Bad       No  \n",
       "3    99.0    15.0    Bad      good       No  \n",
       "4    99.0    45.0   Good      good       No  "
      ]
     },
     "execution_count": 72,
     "metadata": {},
     "output_type": "execute_result"
    }
   ],
   "source": [
    "df.head()"
   ]
  },
  {
   "cell_type": "code",
   "execution_count": 73,
   "id": "cd85bfc8-be6f-441b-bf0e-585cc38858ff",
   "metadata": {},
   "outputs": [],
   "source": [
    "# Fincancial and Stress"
   ]
  },
  {
   "cell_type": "code",
   "execution_count": 74,
   "id": "cba76f1b-e857-4b5e-93aa-7c4995dc222e",
   "metadata": {},
   "outputs": [
    {
     "data": {
      "text/plain": [
       "financial\n",
       "good        129\n",
       "Bad          88\n",
       "Awful        14\n",
       "Fabulous      4\n",
       "Name: count, dtype: int64"
      ]
     },
     "execution_count": 74,
     "metadata": {},
     "output_type": "execute_result"
    }
   ],
   "source": [
    "df[\"financial\"].value_counts()"
   ]
  },
  {
   "cell_type": "code",
   "execution_count": 75,
   "id": "b80a4a06-f593-4798-9bdd-a7596bdee8f6",
   "metadata": {},
   "outputs": [
    {
     "data": {
      "text/plain": [
       "<Axes: xlabel='financial,stress'>"
      ]
     },
     "execution_count": 75,
     "metadata": {},
     "output_type": "execute_result"
    },
    {
     "data": {
      "image/png": "[encoded data removed]",
      "text/plain": [
       "<Figure size 640x480 with 1 Axes>"
      ]
     },
     "metadata": {},
     "output_type": "display_data"
    }
   ],
   "source": [
    "df.groupby(\"financial\").stress.value_counts().plot(kind='bar')"
   ]
  },
  {
   "cell_type": "code",
   "execution_count": 76,
   "id": "baad8068-65bb-49a0-a6fd-d65ec41e0399",
   "metadata": {},
   "outputs": [],
   "source": [
    "# part time and stress"
   ]
  },
  {
   "cell_type": "code",
   "execution_count": 77,
   "id": "7cf848eb-8e93-4d72-8e2f-1a62bd035d70",
   "metadata": {},
   "outputs": [
    {
     "data": {
      "text/plain": [
       "parttime\n",
       "No     194\n",
       "Yes     41\n",
       "Name: count, dtype: int64"
      ]
     },
     "execution_count": 77,
     "metadata": {},
     "output_type": "execute_result"
    }
   ],
   "source": [
    "df[\"parttime\"].value_counts()"
   ]
  },
  {
   "cell_type": "code",
   "execution_count": 78,
   "id": "74beaf0f-f2d9-468e-97db-6234e7fbcc7f",
   "metadata": {},
   "outputs": [
    {
     "data": {
      "text/plain": [
       "<Axes: xlabel='parttime,stress'>"
      ]
     },
     "execution_count": 78,
     "metadata": {},
     "output_type": "execute_result"
    },
    {
     "data": {
      "image/png": "[encoded data removed]",
      "text/plain": [
       "<Figure size 640x480 with 1 Axes>"
      ]
     },
     "metadata": {},
     "output_type": "display_data"
    }
   ],
   "source": [
    "df.groupby(\"parttime\").stress.value_counts().plot(kind=\"bar\")"
   ]
  },
  {
   "cell_type": "markdown",
   "id": "f5b52a20-ee14-4e81-ac4c-bea3d7cb020b",
   "metadata": {},
   "source": [
    "#### The students who have part-time job have better financial situation than who don't "
   ]
  },
  {
   "cell_type": "markdown",
   "id": "ce2c881b-d7b1-4822-9032-13ff3727fbe0",
   "metadata": {},
   "source": [
    "# MODEL BULIDING AND EVALUATION\n",
    "## NOTE : The data here is very imbalanced and there are very less number of rows \n",
    "## Hence , this model is just to provided idea of to apply classification on this type of dataset please mind the accurecy "
   ]
  },
  {
   "cell_type": "code",
   "execution_count": 79,
   "id": "682d3964-83fb-4341-829a-080241a6fea2",
   "metadata": {},
   "outputs": [
    {
     "data": {
      "text/html": [
       "<div>\n",
       "<style scoped>\n",
       "    .dataframe tbody tr th:only-of-type {\n",
       "        vertical-align: middle;\n",
       "    }\n",
       "\n",
       "    .dataframe tbody tr th {\n",
       "        vertical-align: top;\n",
       "    }\n",
       "\n",
       "    .dataframe thead th {\n",
       "        text-align: right;\n",
       "    }\n",
       "</style>\n",
       "<table border=\"1\" class=\"dataframe\">\n",
       "  <thead>\n",
       "    <tr style=\"text-align: right;\">\n",
       "      <th></th>\n",
       "      <th>certification</th>\n",
       "      <th>gender</th>\n",
       "      <th>dep</th>\n",
       "      <th>height</th>\n",
       "      <th>weight</th>\n",
       "      <th>mark10th</th>\n",
       "      <th>mark12th</th>\n",
       "      <th>collegemark</th>\n",
       "      <th>hobbies</th>\n",
       "      <th>studytime</th>\n",
       "      <th>prefertime</th>\n",
       "      <th>salexpect</th>\n",
       "      <th>likedegree</th>\n",
       "      <th>carrer_willing</th>\n",
       "      <th>smtime</th>\n",
       "      <th>travel</th>\n",
       "      <th>stress</th>\n",
       "      <th>financial</th>\n",
       "      <th>parttime</th>\n",
       "    </tr>\n",
       "  </thead>\n",
       "  <tbody>\n",
       "    <tr>\n",
       "      <th>0</th>\n",
       "      <td>No</td>\n",
       "      <td>Male</td>\n",
       "      <td>BCA</td>\n",
       "      <td>100.0</td>\n",
       "      <td>58.0</td>\n",
       "      <td>79.0</td>\n",
       "      <td>64.0</td>\n",
       "      <td>80.0</td>\n",
       "      <td>Video Games</td>\n",
       "      <td>15.0</td>\n",
       "      <td>Morning</td>\n",
       "      <td>40000</td>\n",
       "      <td>No</td>\n",
       "      <td>50.0</td>\n",
       "      <td>99.0</td>\n",
       "      <td>45.0</td>\n",
       "      <td>Bad</td>\n",
       "      <td>Bad</td>\n",
       "      <td>No</td>\n",
       "    </tr>\n",
       "    <tr>\n",
       "      <th>1</th>\n",
       "      <td>No</td>\n",
       "      <td>Female</td>\n",
       "      <td>BCA</td>\n",
       "      <td>90.0</td>\n",
       "      <td>40.0</td>\n",
       "      <td>70.0</td>\n",
       "      <td>80.0</td>\n",
       "      <td>70.0</td>\n",
       "      <td>Cinema</td>\n",
       "      <td>45.0</td>\n",
       "      <td>Morning</td>\n",
       "      <td>15000</td>\n",
       "      <td>Yes</td>\n",
       "      <td>75.0</td>\n",
       "      <td>69.0</td>\n",
       "      <td>15.0</td>\n",
       "      <td>Bad</td>\n",
       "      <td>Bad</td>\n",
       "      <td>No</td>\n",
       "    </tr>\n",
       "    <tr>\n",
       "      <th>2</th>\n",
       "      <td>Yes</td>\n",
       "      <td>Male</td>\n",
       "      <td>BCA</td>\n",
       "      <td>159.0</td>\n",
       "      <td>78.0</td>\n",
       "      <td>71.0</td>\n",
       "      <td>61.0</td>\n",
       "      <td>55.0</td>\n",
       "      <td>Cinema</td>\n",
       "      <td>90.0</td>\n",
       "      <td>Anytime</td>\n",
       "      <td>13000</td>\n",
       "      <td>Yes</td>\n",
       "      <td>50.0</td>\n",
       "      <td>120.0</td>\n",
       "      <td>45.0</td>\n",
       "      <td>Awful</td>\n",
       "      <td>Bad</td>\n",
       "      <td>No</td>\n",
       "    </tr>\n",
       "    <tr>\n",
       "      <th>3</th>\n",
       "      <td>Yes</td>\n",
       "      <td>Female</td>\n",
       "      <td>BCA</td>\n",
       "      <td>147.0</td>\n",
       "      <td>20.0</td>\n",
       "      <td>70.0</td>\n",
       "      <td>59.0</td>\n",
       "      <td>58.0</td>\n",
       "      <td>Reading books</td>\n",
       "      <td>90.0</td>\n",
       "      <td>Anytime</td>\n",
       "      <td>1500000</td>\n",
       "      <td>No</td>\n",
       "      <td>50.0</td>\n",
       "      <td>99.0</td>\n",
       "      <td>15.0</td>\n",
       "      <td>Bad</td>\n",
       "      <td>good</td>\n",
       "      <td>No</td>\n",
       "    </tr>\n",
       "    <tr>\n",
       "      <th>4</th>\n",
       "      <td>No</td>\n",
       "      <td>Male</td>\n",
       "      <td>BCA</td>\n",
       "      <td>170.0</td>\n",
       "      <td>54.0</td>\n",
       "      <td>40.0</td>\n",
       "      <td>65.0</td>\n",
       "      <td>30.0</td>\n",
       "      <td>Video Games</td>\n",
       "      <td>45.0</td>\n",
       "      <td>Morning</td>\n",
       "      <td>50000</td>\n",
       "      <td>Yes</td>\n",
       "      <td>25.0</td>\n",
       "      <td>99.0</td>\n",
       "      <td>45.0</td>\n",
       "      <td>Good</td>\n",
       "      <td>good</td>\n",
       "      <td>No</td>\n",
       "    </tr>\n",
       "  </tbody>\n",
       "</table>\n",
       "</div>"
      ],
      "text/plain": [
       "  certification  gender  dep  height  weight  mark10th  mark12th  collegemark  \\\n",
       "0            No    Male  BCA   100.0    58.0      79.0      64.0         80.0   \n",
       "1            No  Female  BCA    90.0    40.0      70.0      80.0         70.0   \n",
       "2           Yes    Male  BCA   159.0    78.0      71.0      61.0         55.0   \n",
       "3           Yes  Female  BCA   147.0    20.0      70.0      59.0         58.0   \n",
       "4            No    Male  BCA   170.0    54.0      40.0      65.0         30.0   \n",
       "\n",
       "         hobbies  studytime prefertime  salexpect likedegree  carrer_willing  \\\n",
       "0    Video Games       15.0    Morning      40000         No            50.0   \n",
       "1         Cinema       45.0    Morning      15000        Yes            75.0   \n",
       "2         Cinema       90.0    Anytime      13000        Yes            50.0   \n",
       "3  Reading books       90.0    Anytime    1500000         No            50.0   \n",
       "4    Video Games       45.0    Morning      50000        Yes            25.0   \n",
       "\n",
       "   smtime  travel stress financial parttime  \n",
       "0    99.0    45.0    Bad       Bad       No  \n",
       "1    69.0    15.0    Bad       Bad       No  \n",
       "2   120.0    45.0  Awful       Bad       No  \n",
       "3    99.0    15.0    Bad      good       No  \n",
       "4    99.0    45.0   Good      good       No  "
      ]
     },
     "execution_count": 79,
     "metadata": {},
     "output_type": "execute_result"
    }
   ],
   "source": [
    "df.head()"
   ]
  },
  {
   "cell_type": "code",
   "execution_count": 80,
   "id": "c693c19a-b2ce-4ebf-929c-b5daa485443d",
   "metadata": {},
   "outputs": [
    {
     "data": {
      "text/plain": [
       "array(['Bad', 'Awful', 'Good', 'fabulous'], dtype=object)"
      ]
     },
     "execution_count": 80,
     "metadata": {},
     "output_type": "execute_result"
    }
   ],
   "source": [
    "df[\"stress\"].unique()"
   ]
  },
  {
   "cell_type": "code",
   "execution_count": 81,
   "id": "790bd954-6605-4392-b958-fb2bd29aab9e",
   "metadata": {},
   "outputs": [],
   "source": [
    "ordinal_mapping = {'Awful': 0, 'Bad': 1, 'Good': 2, 'fabulous': 3}\n",
    "\n",
    "df['Stress'] = df['stress'].map(ordinal_mapping)\n",
    "\n",
    "df = df.drop(['stress'], axis=1)"
   ]
  },
  {
   "cell_type": "code",
   "execution_count": 82,
   "id": "ecd72ab0-81d6-42ed-842d-d11f84f79dc2",
   "metadata": {},
   "outputs": [],
   "source": [
    "from sklearn.preprocessing import OneHotEncoder\n",
    "\n",
    "columns_to_encode = ['certification', 'gender', 'dep', 'hobbies', 'prefertime', 'likedegree', 'financial', 'parttime' ]\n",
    "\n",
    "data_to_encode = df[columns_to_encode]\n",
    "\n",
    "encoder = OneHotEncoder()\n",
    "\n",
    "one_hot_encoded_data = encoder.fit_transform(data_to_encode)\n",
    "\n",
    "column_names = encoder.get_feature_names_out(columns_to_encode)\n",
    "\n",
    "one_hot_encoded_df = pd.DataFrame(one_hot_encoded_data.toarray(), columns=column_names)\n",
    "\n",
    "df = df.drop(columns=columns_to_encode)\n",
    "\n",
    "df = pd.concat([df, one_hot_encoded_df], axis=1)\n"
   ]
  },
  {
   "cell_type": "code",
   "execution_count": 83,
   "id": "c3fbef01-29f2-4ce3-8b96-f8a7925e8789",
   "metadata": {},
   "outputs": [
    {
     "data": {
      "text/plain": [
       "(235, 34)"
      ]
     },
     "execution_count": 83,
     "metadata": {},
     "output_type": "execute_result"
    }
   ],
   "source": [
    "df.shape"
   ]
  },
  {
   "cell_type": "code",
   "execution_count": 84,
   "id": "0329d577-11c5-48d4-a551-47df315f2006",
   "metadata": {},
   "outputs": [
    {
     "data": {
      "text/html": [
       "<div>\n",
       "<style scoped>\n",
       "    .dataframe tbody tr th:only-of-type {\n",
       "        vertical-align: middle;\n",
       "    }\n",
       "\n",
       "    .dataframe tbody tr th {\n",
       "        vertical-align: top;\n",
       "    }\n",
       "\n",
       "    .dataframe thead th {\n",
       "        text-align: right;\n",
       "    }\n",
       "</style>\n",
       "<table border=\"1\" class=\"dataframe\">\n",
       "  <thead>\n",
       "    <tr style=\"text-align: right;\">\n",
       "      <th></th>\n",
       "      <th>height</th>\n",
       "      <th>weight</th>\n",
       "      <th>mark10th</th>\n",
       "      <th>mark12th</th>\n",
       "      <th>collegemark</th>\n",
       "      <th>studytime</th>\n",
       "      <th>salexpect</th>\n",
       "      <th>carrer_willing</th>\n",
       "      <th>smtime</th>\n",
       "      <th>travel</th>\n",
       "      <th>...</th>\n",
       "      <th>prefertime_Morning</th>\n",
       "      <th>prefertime_Night</th>\n",
       "      <th>likedegree_No</th>\n",
       "      <th>likedegree_Yes</th>\n",
       "      <th>financial_Awful</th>\n",
       "      <th>financial_Bad</th>\n",
       "      <th>financial_Fabulous</th>\n",
       "      <th>financial_good</th>\n",
       "      <th>parttime_No</th>\n",
       "      <th>parttime_Yes</th>\n",
       "    </tr>\n",
       "  </thead>\n",
       "  <tbody>\n",
       "    <tr>\n",
       "      <th>0</th>\n",
       "      <td>100.0</td>\n",
       "      <td>58.0</td>\n",
       "      <td>79.0</td>\n",
       "      <td>64.0</td>\n",
       "      <td>80.0</td>\n",
       "      <td>15.0</td>\n",
       "      <td>40000</td>\n",
       "      <td>50.0</td>\n",
       "      <td>99.0</td>\n",
       "      <td>45.0</td>\n",
       "      <td>...</td>\n",
       "      <td>1.0</td>\n",
       "      <td>0.0</td>\n",
       "      <td>1.0</td>\n",
       "      <td>0.0</td>\n",
       "      <td>0.0</td>\n",
       "      <td>1.0</td>\n",
       "      <td>0.0</td>\n",
       "      <td>0.0</td>\n",
       "      <td>1.0</td>\n",
       "      <td>0.0</td>\n",
       "    </tr>\n",
       "    <tr>\n",
       "      <th>1</th>\n",
       "      <td>90.0</td>\n",
       "      <td>40.0</td>\n",
       "      <td>70.0</td>\n",
       "      <td>80.0</td>\n",
       "      <td>70.0</td>\n",
       "      <td>45.0</td>\n",
       "      <td>15000</td>\n",
       "      <td>75.0</td>\n",
       "      <td>69.0</td>\n",
       "      <td>15.0</td>\n",
       "      <td>...</td>\n",
       "      <td>1.0</td>\n",
       "      <td>0.0</td>\n",
       "      <td>0.0</td>\n",
       "      <td>1.0</td>\n",
       "      <td>0.0</td>\n",
       "      <td>1.0</td>\n",
       "      <td>0.0</td>\n",
       "      <td>0.0</td>\n",
       "      <td>1.0</td>\n",
       "      <td>0.0</td>\n",
       "    </tr>\n",
       "    <tr>\n",
       "      <th>2</th>\n",
       "      <td>159.0</td>\n",
       "      <td>78.0</td>\n",
       "      <td>71.0</td>\n",
       "      <td>61.0</td>\n",
       "      <td>55.0</td>\n",
       "      <td>90.0</td>\n",
       "      <td>13000</td>\n",
       "      <td>50.0</td>\n",
       "      <td>120.0</td>\n",
       "      <td>45.0</td>\n",
       "      <td>...</td>\n",
       "      <td>0.0</td>\n",
       "      <td>0.0</td>\n",
       "      <td>0.0</td>\n",
       "      <td>1.0</td>\n",
       "      <td>0.0</td>\n",
       "      <td>1.0</td>\n",
       "      <td>0.0</td>\n",
       "      <td>0.0</td>\n",
       "      <td>1.0</td>\n",
       "      <td>0.0</td>\n",
       "    </tr>\n",
       "    <tr>\n",
       "      <th>3</th>\n",
       "      <td>147.0</td>\n",
       "      <td>20.0</td>\n",
       "      <td>70.0</td>\n",
       "      <td>59.0</td>\n",
       "      <td>58.0</td>\n",
       "      <td>90.0</td>\n",
       "      <td>1500000</td>\n",
       "      <td>50.0</td>\n",
       "      <td>99.0</td>\n",
       "      <td>15.0</td>\n",
       "      <td>...</td>\n",
       "      <td>0.0</td>\n",
       "      <td>0.0</td>\n",
       "      <td>1.0</td>\n",
       "      <td>0.0</td>\n",
       "      <td>0.0</td>\n",
       "      <td>0.0</td>\n",
       "      <td>0.0</td>\n",
       "      <td>1.0</td>\n",
       "      <td>1.0</td>\n",
       "      <td>0.0</td>\n",
       "    </tr>\n",
       "    <tr>\n",
       "      <th>4</th>\n",
       "      <td>170.0</td>\n",
       "      <td>54.0</td>\n",
       "      <td>40.0</td>\n",
       "      <td>65.0</td>\n",
       "      <td>30.0</td>\n",
       "      <td>45.0</td>\n",
       "      <td>50000</td>\n",
       "      <td>25.0</td>\n",
       "      <td>99.0</td>\n",
       "      <td>45.0</td>\n",
       "      <td>...</td>\n",
       "      <td>1.0</td>\n",
       "      <td>0.0</td>\n",
       "      <td>0.0</td>\n",
       "      <td>1.0</td>\n",
       "      <td>0.0</td>\n",
       "      <td>0.0</td>\n",
       "      <td>0.0</td>\n",
       "      <td>1.0</td>\n",
       "      <td>1.0</td>\n",
       "      <td>0.0</td>\n",
       "    </tr>\n",
       "  </tbody>\n",
       "</table>\n",
       "<p>5 rows × 34 columns</p>\n",
       "</div>"
      ],
      "text/plain": [
       "   height  weight  mark10th  mark12th  collegemark  studytime  salexpect  \\\n",
       "0   100.0    58.0      79.0      64.0         80.0       15.0      40000   \n",
       "1    90.0    40.0      70.0      80.0         70.0       45.0      15000   \n",
       "2   159.0    78.0      71.0      61.0         55.0       90.0      13000   \n",
       "3   147.0    20.0      70.0      59.0         58.0       90.0    1500000   \n",
       "4   170.0    54.0      40.0      65.0         30.0       45.0      50000   \n",
       "\n",
       "   carrer_willing  smtime  travel  ...  prefertime_Morning  prefertime_Night  \\\n",
       "0            50.0    99.0    45.0  ...                 1.0               0.0   \n",
       "1            75.0    69.0    15.0  ...                 1.0               0.0   \n",
       "2            50.0   120.0    45.0  ...                 0.0               0.0   \n",
       "3            50.0    99.0    15.0  ...                 0.0               0.0   \n",
       "4            25.0    99.0    45.0  ...                 1.0               0.0   \n",
       "\n",
       "   likedegree_No  likedegree_Yes  financial_Awful  financial_Bad  \\\n",
       "0            1.0             0.0              0.0            1.0   \n",
       "1            0.0             1.0              0.0            1.0   \n",
       "2            0.0             1.0              0.0            1.0   \n",
       "3            1.0             0.0              0.0            0.0   \n",
       "4            0.0             1.0              0.0            0.0   \n",
       "\n",
       "   financial_Fabulous  financial_good  parttime_No  parttime_Yes  \n",
       "0                 0.0             0.0          1.0           0.0  \n",
       "1                 0.0             0.0          1.0           0.0  \n",
       "2                 0.0             0.0          1.0           0.0  \n",
       "3                 0.0             1.0          1.0           0.0  \n",
       "4                 0.0             1.0          1.0           0.0  \n",
       "\n",
       "[5 rows x 34 columns]"
      ]
     },
     "execution_count": 84,
     "metadata": {},
     "output_type": "execute_result"
    }
   ],
   "source": [
    "df.head()"
   ]
  },
  {
   "cell_type": "code",
   "execution_count": 85,
   "id": "dcb11883-3a18-4796-8e9f-5fccf696e1ca",
   "metadata": {},
   "outputs": [],
   "source": [
    "# normalizing the numerical columns"
   ]
  },
  {
   "cell_type": "code",
   "execution_count": 86,
   "id": "dc62e838-0353-4d1c-96c2-4968c8b04ff8",
   "metadata": {},
   "outputs": [],
   "source": [
    "from sklearn.preprocessing import MinMaxScaler\n",
    "\n",
    "columns_to_normalize = ['height', 'weight', 'mark10th', 'mark12th', 'collegemark', 'studytime']\n",
    "\n",
    "scaler = MinMaxScaler()\n",
    "\n",
    "df[columns_to_normalize] = scaler.fit_transform(df[columns_to_normalize])"
   ]
  },
  {
   "cell_type": "code",
   "execution_count": 87,
   "id": "f02a0b7c-aab3-4f5a-ab29-3a501623b657",
   "metadata": {},
   "outputs": [],
   "source": [
    "from sklearn.preprocessing import StandardScaler\n",
    "\n",
    "scaler = StandardScaler()\n",
    "\n",
    "df['salexpect'] = scaler.fit_transform(df[['salexpect']])"
   ]
  },
  {
   "cell_type": "code",
   "execution_count": 88,
   "id": "cb4b5af7-2b90-4c89-984c-a3e909ca5546",
   "metadata": {},
   "outputs": [
    {
     "data": {
      "text/html": [
       "<div>\n",
       "<style scoped>\n",
       "    .dataframe tbody tr th:only-of-type {\n",
       "        vertical-align: middle;\n",
       "    }\n",
       "\n",
       "    .dataframe tbody tr th {\n",
       "        vertical-align: top;\n",
       "    }\n",
       "\n",
       "    .dataframe thead th {\n",
       "        text-align: right;\n",
       "    }\n",
       "</style>\n",
       "<table border=\"1\" class=\"dataframe\">\n",
       "  <thead>\n",
       "    <tr style=\"text-align: right;\">\n",
       "      <th></th>\n",
       "      <th>height</th>\n",
       "      <th>weight</th>\n",
       "      <th>mark10th</th>\n",
       "      <th>mark12th</th>\n",
       "      <th>collegemark</th>\n",
       "      <th>studytime</th>\n",
       "      <th>salexpect</th>\n",
       "      <th>carrer_willing</th>\n",
       "      <th>smtime</th>\n",
       "      <th>travel</th>\n",
       "      <th>...</th>\n",
       "      <th>prefertime_Morning</th>\n",
       "      <th>prefertime_Night</th>\n",
       "      <th>likedegree_No</th>\n",
       "      <th>likedegree_Yes</th>\n",
       "      <th>financial_Awful</th>\n",
       "      <th>financial_Bad</th>\n",
       "      <th>financial_Fabulous</th>\n",
       "      <th>financial_good</th>\n",
       "      <th>parttime_No</th>\n",
       "      <th>parttime_Yes</th>\n",
       "    </tr>\n",
       "  </thead>\n",
       "  <tbody>\n",
       "    <tr>\n",
       "      <th>0</th>\n",
       "      <td>0.509333</td>\n",
       "      <td>0.441860</td>\n",
       "      <td>0.790287</td>\n",
       "      <td>0.387755</td>\n",
       "      <td>0.797980</td>\n",
       "      <td>0.000000</td>\n",
       "      <td>0.067685</td>\n",
       "      <td>50.0</td>\n",
       "      <td>99.0</td>\n",
       "      <td>45.0</td>\n",
       "      <td>...</td>\n",
       "      <td>1.0</td>\n",
       "      <td>0.0</td>\n",
       "      <td>1.0</td>\n",
       "      <td>0.0</td>\n",
       "      <td>0.0</td>\n",
       "      <td>1.0</td>\n",
       "      <td>0.0</td>\n",
       "      <td>0.0</td>\n",
       "      <td>1.0</td>\n",
       "      <td>0.0</td>\n",
       "    </tr>\n",
       "    <tr>\n",
       "      <th>1</th>\n",
       "      <td>0.456000</td>\n",
       "      <td>0.232558</td>\n",
       "      <td>0.690949</td>\n",
       "      <td>0.714286</td>\n",
       "      <td>0.696970</td>\n",
       "      <td>0.133333</td>\n",
       "      <td>-0.157383</td>\n",
       "      <td>75.0</td>\n",
       "      <td>69.0</td>\n",
       "      <td>15.0</td>\n",
       "      <td>...</td>\n",
       "      <td>1.0</td>\n",
       "      <td>0.0</td>\n",
       "      <td>0.0</td>\n",
       "      <td>1.0</td>\n",
       "      <td>0.0</td>\n",
       "      <td>1.0</td>\n",
       "      <td>0.0</td>\n",
       "      <td>0.0</td>\n",
       "      <td>1.0</td>\n",
       "      <td>0.0</td>\n",
       "    </tr>\n",
       "    <tr>\n",
       "      <th>2</th>\n",
       "      <td>0.824000</td>\n",
       "      <td>0.674419</td>\n",
       "      <td>0.701987</td>\n",
       "      <td>0.326531</td>\n",
       "      <td>0.545455</td>\n",
       "      <td>0.333333</td>\n",
       "      <td>-0.175388</td>\n",
       "      <td>50.0</td>\n",
       "      <td>120.0</td>\n",
       "      <td>45.0</td>\n",
       "      <td>...</td>\n",
       "      <td>0.0</td>\n",
       "      <td>0.0</td>\n",
       "      <td>0.0</td>\n",
       "      <td>1.0</td>\n",
       "      <td>0.0</td>\n",
       "      <td>1.0</td>\n",
       "      <td>0.0</td>\n",
       "      <td>0.0</td>\n",
       "      <td>1.0</td>\n",
       "      <td>0.0</td>\n",
       "    </tr>\n",
       "    <tr>\n",
       "      <th>3</th>\n",
       "      <td>0.760000</td>\n",
       "      <td>0.000000</td>\n",
       "      <td>0.690949</td>\n",
       "      <td>0.285714</td>\n",
       "      <td>0.575758</td>\n",
       "      <td>0.333333</td>\n",
       "      <td>13.211657</td>\n",
       "      <td>50.0</td>\n",
       "      <td>99.0</td>\n",
       "      <td>15.0</td>\n",
       "      <td>...</td>\n",
       "      <td>0.0</td>\n",
       "      <td>0.0</td>\n",
       "      <td>1.0</td>\n",
       "      <td>0.0</td>\n",
       "      <td>0.0</td>\n",
       "      <td>0.0</td>\n",
       "      <td>0.0</td>\n",
       "      <td>1.0</td>\n",
       "      <td>1.0</td>\n",
       "      <td>0.0</td>\n",
       "    </tr>\n",
       "    <tr>\n",
       "      <th>4</th>\n",
       "      <td>0.882667</td>\n",
       "      <td>0.395349</td>\n",
       "      <td>0.359823</td>\n",
       "      <td>0.408163</td>\n",
       "      <td>0.292929</td>\n",
       "      <td>0.133333</td>\n",
       "      <td>0.157713</td>\n",
       "      <td>25.0</td>\n",
       "      <td>99.0</td>\n",
       "      <td>45.0</td>\n",
       "      <td>...</td>\n",
       "      <td>1.0</td>\n",
       "      <td>0.0</td>\n",
       "      <td>0.0</td>\n",
       "      <td>1.0</td>\n",
       "      <td>0.0</td>\n",
       "      <td>0.0</td>\n",
       "      <td>0.0</td>\n",
       "      <td>1.0</td>\n",
       "      <td>1.0</td>\n",
       "      <td>0.0</td>\n",
       "    </tr>\n",
       "  </tbody>\n",
       "</table>\n",
       "<p>5 rows × 34 columns</p>\n",
       "</div>"
      ],
      "text/plain": [
       "     height    weight  mark10th  mark12th  collegemark  studytime  salexpect  \\\n",
       "0  0.509333  0.441860  0.790287  0.387755     0.797980   0.000000   0.067685   \n",
       "1  0.456000  0.232558  0.690949  0.714286     0.696970   0.133333  -0.157383   \n",
       "2  0.824000  0.674419  0.701987  0.326531     0.545455   0.333333  -0.175388   \n",
       "3  0.760000  0.000000  0.690949  0.285714     0.575758   0.333333  13.211657   \n",
       "4  0.882667  0.395349  0.359823  0.408163     0.292929   0.133333   0.157713   \n",
       "\n",
       "   carrer_willing  smtime  travel  ...  prefertime_Morning  prefertime_Night  \\\n",
       "0            50.0    99.0    45.0  ...                 1.0               0.0   \n",
       "1            75.0    69.0    15.0  ...                 1.0               0.0   \n",
       "2            50.0   120.0    45.0  ...                 0.0               0.0   \n",
       "3            50.0    99.0    15.0  ...                 0.0               0.0   \n",
       "4            25.0    99.0    45.0  ...                 1.0               0.0   \n",
       "\n",
       "   likedegree_No  likedegree_Yes  financial_Awful  financial_Bad  \\\n",
       "0            1.0             0.0              0.0            1.0   \n",
       "1            0.0             1.0              0.0            1.0   \n",
       "2            0.0             1.0              0.0            1.0   \n",
       "3            1.0             0.0              0.0            0.0   \n",
       "4            0.0             1.0              0.0            0.0   \n",
       "\n",
       "   financial_Fabulous  financial_good  parttime_No  parttime_Yes  \n",
       "0                 0.0             0.0          1.0           0.0  \n",
       "1                 0.0             0.0          1.0           0.0  \n",
       "2                 0.0             0.0          1.0           0.0  \n",
       "3                 0.0             1.0          1.0           0.0  \n",
       "4                 0.0             1.0          1.0           0.0  \n",
       "\n",
       "[5 rows x 34 columns]"
      ]
     },
     "execution_count": 88,
     "metadata": {},
     "output_type": "execute_result"
    }
   ],
   "source": [
    "df.head()"
   ]
  },
  {
   "cell_type": "code",
   "execution_count": 90,
   "id": "2135603c-3146-46de-b1c3-7440a82bdee9",
   "metadata": {},
   "outputs": [
    {
     "name": "stdout",
     "output_type": "stream",
     "text": [
      "Logistic Regression Metrics:\n",
      "Accuracy: 0.40\n",
      "Precision: 0.53\n",
      "Recall: 0.40\n",
      "F1-score: 0.45\n",
      "R2 Score: -1.94\n",
      "\n"
     ]
    },
    {
     "data": {
      "image/png": "[encoded data removed]",
      "text/plain": [
       "<Figure size 800x600 with 1 Axes>"
      ]
     },
     "metadata": {},
     "output_type": "display_data"
    },
    {
     "name": "stdout",
     "output_type": "stream",
     "text": [
      "Decision Tree Metrics:\n",
      "Accuracy: 0.45\n",
      "Precision: 0.56\n",
      "Recall: 0.45\n",
      "F1-score: 0.46\n",
      "R2 Score: -1.18\n",
      "\n"
     ]
    },
    {
     "name": "stderr",
     "output_type": "stream",
     "text": [
      "C:\\Users\\HP\\AppData\\Local\\Programs\\Python\\Python312\\Lib\\site-packages\\sklearn\\metrics\\_classification.py:1509: UndefinedMetricWarning: Precision is ill-defined and being set to 0.0 in labels with no predicted samples. Use `zero_division` parameter to control this behavior.\n",
      "  _warn_prf(average, modifier, f\"{metric.capitalize()} is\", len(result))\n"
     ]
    },
    {
     "data": {
      "image/png": "[encoded data removed]",
      "text/plain": [
       "<Figure size 800x600 with 1 Axes>"
      ]
     },
     "metadata": {},
     "output_type": "display_data"
    },
    {
     "name": "stdout",
     "output_type": "stream",
     "text": [
      "Random Forest Metrics:\n",
      "Accuracy: 0.57\n",
      "Precision: 0.55\n",
      "Recall: 0.57\n",
      "F1-score: 0.56\n",
      "R2 Score: -0.55\n",
      "\n"
     ]
    },
    {
     "data": {
      "image/png": "[encoded data removed]",
      "text/plain": [
       "<Figure size 800x600 with 1 Axes>"
      ]
     },
     "metadata": {},
     "output_type": "display_data"
    },
    {
     "name": "stdout",
     "output_type": "stream",
     "text": [
      "K Nearest Neighbors Metrics:\n",
      "Accuracy: 0.28\n",
      "Precision: 0.34\n",
      "Recall: 0.28\n",
      "F1-score: 0.26\n",
      "R2 Score: -2.02\n",
      "\n"
     ]
    },
    {
     "data": {
      "image/png": "[encoded data removed]",
      "text/plain": [
       "<Figure size 800x600 with 1 Axes>"
      ]
     },
     "metadata": {},
     "output_type": "display_data"
    },
    {
     "name": "stdout",
     "output_type": "stream",
     "text": [
      "Support Vector Machine Metrics:\n",
      "Accuracy: 0.30\n",
      "Precision: 0.65\n",
      "Recall: 0.30\n",
      "F1-score: 0.34\n",
      "R2 Score: -2.36\n",
      "\n"
     ]
    },
    {
     "data": {
      "image/png": "[encoded data removed]",
      "text/plain": [
       "<Figure size 800x600 with 1 Axes>"
      ]
     },
     "metadata": {},
     "output_type": "display_data"
    }
   ],
   "source": [
    "import pandas as pd\n",
    "from sklearn.model_selection import train_test_split\n",
    "from sklearn.metrics import accuracy_score, precision_score, recall_score, f1_score, r2_score\n",
    "from sklearn.linear_model import LogisticRegression\n",
    "from sklearn.tree import DecisionTreeClassifier\n",
    "from sklearn.ensemble import RandomForestClassifier\n",
    "from sklearn.neighbors import KNeighborsClassifier\n",
    "from sklearn.svm import SVC\n",
    "from imblearn.over_sampling import SMOTE\n",
    "import matplotlib.pyplot as plt\n",
    "\n",
    "# Split the data into features and target\n",
    "X = df.drop('Stress', axis=1)\n",
    "y = df['Stress']\n",
    "\n",
    "# Split the data into train and test sets\n",
    "X_train, X_test, y_train, y_test = train_test_split(X, y, test_size=0.2, random_state=42)\n",
    "\n",
    "# Apply SMOTE to the training data\n",
    "smote = SMOTE(random_state=42)\n",
    "X_train_resampled, y_train_resampled = smote.fit_resample(X_train, y_train)\n",
    "\n",
    "# Classifiers\n",
    "classifiers = {\n",
    "    'Logistic Regression': LogisticRegression(max_iter=10000),\n",
    "    'Decision Tree': DecisionTreeClassifier(),\n",
    "    'Random Forest': RandomForestClassifier(),\n",
    "    'K Nearest Neighbors': KNeighborsClassifier(),\n",
    "    'Support Vector Machine': SVC()\n",
    "}\n",
    "\n",
    "# Train and evaluate each classifier\n",
    "for name, clf in classifiers.items():\n",
    "    clf.fit(X_train_resampled, y_train_resampled)\n",
    "    y_pred = clf.predict(X_test)\n",
    "    accuracy = accuracy_score(y_test, y_pred)\n",
    "    precision = precision_score(y_test, y_pred, average='weighted')\n",
    "    recall = recall_score(y_test, y_pred, average='weighted')\n",
    "    f1 = f1_score(y_test, y_pred, average='weighted')\n",
    "    r2 = r2_score(y_test, y_pred)\n",
    "    print(f'{name} Metrics:')\n",
    "    print(f'Accuracy: {accuracy:.2f}')\n",
    "    precision = precision_score(y_test, y_pred, average='weighted', zero_division=1)\n",
    "    print(f'Precision: {precision:.2f}')\n",
    "    print(f'Recall: {recall:.2f}')\n",
    "    print(f'F1-score: {f1:.2f}')\n",
    "    print(f'R2 Score: {r2:.2f}')\n",
    "    print()\n",
    "\n",
    "    # Plotting actual vs predicted\n",
    "    plt.figure(figsize=(8, 6))\n",
    "    plt.scatter(y_test, y_pred)\n",
    "    plt.plot([min(y_test), max(y_test)], [min(y_test), max(y_test)], 'k--', lw=2)\n",
    "    plt.xlabel('Actual')\n",
    "    plt.ylabel('Predicted')\n",
    "    plt.title(f'{name} - Actual vs Predicted')\n",
    "    plt.show()\n"
   ]
  },
  {
   "cell_type": "code",
   "execution_count": null,
   "id": "8c2306eb-7e5e-49f3-b788-b3d1164ae569",
   "metadata": {},
   "outputs": [],
   "source": []
  }
 ],
 "metadata": {
  "kernelspec": {
   "display_name": "Python 3 (ipykernel)",
   "language": "python",
   "name": "python3"
  },
  "language_info": {
   "codemirror_mode": {
    "name": "ipython",
    "version": 3
   },
   "file_extension": ".py",
   "mimetype": "text/x-python",
   "name": "python",
   "nbconvert_exporter": "python",
   "pygments_lexer": "ipython3",
   "version": "3.12.2"
  }
 },
 "nbformat": 4,
 "nbformat_minor": 5
}
