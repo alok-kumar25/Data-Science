{
 "cells": [
  {
   "cell_type": "code",
   "execution_count": 1,
   "id": "2e129278-2641-40d6-9d1c-8d921504cb36",
   "metadata": {},
   "outputs": [],
   "source": [
    "import pandas as pd\n",
    "import numpy as np\n",
    "from matplotlib import pyplot as plt \n",
    "import seaborn as sns\n",
    "import nltk\n",
    "import re\n",
    "from nltk.corpus import stopwords\n",
    "from nltk.stem.porter import PorterStemmer\n",
    "from sklearn.feature_extraction.text import TfidfVectorizer"
   ]
  },
  {
   "cell_type": "code",
   "execution_count": 2,
   "id": "99c04b0a-452c-43e8-b580-dba5622bbd23",
   "metadata": {},
   "outputs": [],
   "source": [
    "df1=pd.read_csv('C://python//News_articles_classification/entertainment_data.csv')\n",
    "df2=pd.read_csv('C://python/News_articles_classification/business_data.csv')\n",
    "df3=pd.read_csv('C://python/News_articles_classification/education_data.csv')\n",
    "df4=pd.read_csv('C://python/News_articles_classification/sports_data.csv')\n",
    "df5=pd.read_csv('C://python/News_articles_classification/technology_data.csv')"
   ]
  },
  {
   "cell_type": "markdown",
   "id": "0de7257f-7aaf-4f61-8fe1-b6f306a631a7",
   "metadata": {},
   "source": [
    "# Data Pre-Processing"
   ]
  },
  {
   "cell_type": "code",
   "execution_count": 3,
   "id": "461c3476-5550-41e4-ba6b-fc83cc98da19",
   "metadata": {},
   "outputs": [],
   "source": [
    "# joining all the dataframes\n",
    "dfs=[df1,df2,df3,df4,df5]\n",
    "df = pd.concat(dfs)"
   ]
  },
  {
   "cell_type": "code",
   "execution_count": 4,
   "id": "530a1812-62b7-48b9-8cae-f1f0c1e2486b",
   "metadata": {},
   "outputs": [],
   "source": [
    "# Shuffling the columns so the df have some randomness\n",
    "from sklearn.utils import shuffle\n",
    "df = shuffle(df)"
   ]
  },
  {
   "cell_type": "code",
   "execution_count": 5,
   "id": "8845e227-1969-4ca5-be2a-a482dc1c4823",
   "metadata": {},
   "outputs": [
    {
     "data": {
      "text/html": [
       "<div>\n",
       "<style scoped>\n",
       "    .dataframe tbody tr th:only-of-type {\n",
       "        vertical-align: middle;\n",
       "    }\n",
       "\n",
       "    .dataframe tbody tr th {\n",
       "        vertical-align: top;\n",
       "    }\n",
       "\n",
       "    .dataframe thead th {\n",
       "        text-align: right;\n",
       "    }\n",
       "</style>\n",
       "<table border=\"1\" class=\"dataframe\">\n",
       "  <thead>\n",
       "    <tr style=\"text-align: right;\">\n",
       "      <th></th>\n",
       "      <th>headlines</th>\n",
       "      <th>description</th>\n",
       "      <th>content</th>\n",
       "      <th>url</th>\n",
       "      <th>category</th>\n",
       "    </tr>\n",
       "  </thead>\n",
       "  <tbody>\n",
       "    <tr>\n",
       "      <th>851</th>\n",
       "      <td>Assam Board HSLC 2024: SEBA announces Class 10...</td>\n",
       "      <td>Assam Board HSLC Exams: In addition to the Cla...</td>\n",
       "      <td>Assam Board HSLC 2024: The Board of Secondary ...</td>\n",
       "      <td>https://indianexpress.com/article/education/as...</td>\n",
       "      <td>education</td>\n",
       "    </tr>\n",
       "    <tr>\n",
       "      <th>1209</th>\n",
       "      <td>Animal box office collection day 14: Ranbir Ka...</td>\n",
       "      <td>Animal box office collection day 14: Ranbir Ka...</td>\n",
       "      <td>Ranbir Kapoor-starrer Animal has been in the t...</td>\n",
       "      <td>https://indianexpress.com/article/entertainmen...</td>\n",
       "      <td>entertainment</td>\n",
       "    </tr>\n",
       "    <tr>\n",
       "      <th>1874</th>\n",
       "      <td>WFI’s emergency general council meeting in Ayo...</td>\n",
       "      <td>The ministry on Saturday also suspended WFI's ...</td>\n",
       "      <td>The Wrestling Federation of India’s (WFI) emer...</td>\n",
       "      <td>https://indianexpress.com/article/sports/sport...</td>\n",
       "      <td>sports</td>\n",
       "    </tr>\n",
       "    <tr>\n",
       "      <th>1437</th>\n",
       "      <td>Indian users will be able to test AI-based Goo...</td>\n",
       "      <td>Google has launched its Search with Generative...</td>\n",
       "      <td>Google has launched its Search with Generative...</td>\n",
       "      <td>https://indianexpress.com/article/technology/a...</td>\n",
       "      <td>technology</td>\n",
       "    </tr>\n",
       "    <tr>\n",
       "      <th>25</th>\n",
       "      <td>Online retailer eBay to slash 1,000 jobs, redu...</td>\n",
       "      <td>San Jose, California-based eBay is the latest ...</td>\n",
       "      <td>Online retailer eBay Inc will cut about 1,000 ...</td>\n",
       "      <td>https://indianexpress.com/article/business/com...</td>\n",
       "      <td>business</td>\n",
       "    </tr>\n",
       "  </tbody>\n",
       "</table>\n",
       "</div>"
      ],
      "text/plain": [
       "                                              headlines  \\\n",
       "851   Assam Board HSLC 2024: SEBA announces Class 10...   \n",
       "1209  Animal box office collection day 14: Ranbir Ka...   \n",
       "1874  WFI’s emergency general council meeting in Ayo...   \n",
       "1437  Indian users will be able to test AI-based Goo...   \n",
       "25    Online retailer eBay to slash 1,000 jobs, redu...   \n",
       "\n",
       "                                            description  \\\n",
       "851   Assam Board HSLC Exams: In addition to the Cla...   \n",
       "1209  Animal box office collection day 14: Ranbir Ka...   \n",
       "1874  The ministry on Saturday also suspended WFI's ...   \n",
       "1437  Google has launched its Search with Generative...   \n",
       "25    San Jose, California-based eBay is the latest ...   \n",
       "\n",
       "                                                content  \\\n",
       "851   Assam Board HSLC 2024: The Board of Secondary ...   \n",
       "1209  Ranbir Kapoor-starrer Animal has been in the t...   \n",
       "1874  The Wrestling Federation of India’s (WFI) emer...   \n",
       "1437  Google has launched its Search with Generative...   \n",
       "25    Online retailer eBay Inc will cut about 1,000 ...   \n",
       "\n",
       "                                                    url       category  \n",
       "851   https://indianexpress.com/article/education/as...      education  \n",
       "1209  https://indianexpress.com/article/entertainmen...  entertainment  \n",
       "1874  https://indianexpress.com/article/sports/sport...         sports  \n",
       "1437  https://indianexpress.com/article/technology/a...     technology  \n",
       "25    https://indianexpress.com/article/business/com...       business  "
      ]
     },
     "execution_count": 5,
     "metadata": {},
     "output_type": "execute_result"
    }
   ],
   "source": [
    "df.head()"
   ]
  },
  {
   "cell_type": "code",
   "execution_count": 6,
   "id": "f0fa32c4-2c52-439f-9cd7-bda11959b7da",
   "metadata": {},
   "outputs": [],
   "source": [
    "# resetting the index\n",
    "df.reset_index(inplace=True)"
   ]
  },
  {
   "cell_type": "code",
   "execution_count": 7,
   "id": "8d4c3f76-9566-415e-8c6c-8f12bdfa1f78",
   "metadata": {},
   "outputs": [
    {
     "data": {
      "text/html": [
       "<div>\n",
       "<style scoped>\n",
       "    .dataframe tbody tr th:only-of-type {\n",
       "        vertical-align: middle;\n",
       "    }\n",
       "\n",
       "    .dataframe tbody tr th {\n",
       "        vertical-align: top;\n",
       "    }\n",
       "\n",
       "    .dataframe thead th {\n",
       "        text-align: right;\n",
       "    }\n",
       "</style>\n",
       "<table border=\"1\" class=\"dataframe\">\n",
       "  <thead>\n",
       "    <tr style=\"text-align: right;\">\n",
       "      <th></th>\n",
       "      <th>index</th>\n",
       "      <th>headlines</th>\n",
       "      <th>description</th>\n",
       "      <th>content</th>\n",
       "      <th>url</th>\n",
       "      <th>category</th>\n",
       "    </tr>\n",
       "  </thead>\n",
       "  <tbody>\n",
       "    <tr>\n",
       "      <th>0</th>\n",
       "      <td>851</td>\n",
       "      <td>Assam Board HSLC 2024: SEBA announces Class 10...</td>\n",
       "      <td>Assam Board HSLC Exams: In addition to the Cla...</td>\n",
       "      <td>Assam Board HSLC 2024: The Board of Secondary ...</td>\n",
       "      <td>https://indianexpress.com/article/education/as...</td>\n",
       "      <td>education</td>\n",
       "    </tr>\n",
       "    <tr>\n",
       "      <th>1</th>\n",
       "      <td>1209</td>\n",
       "      <td>Animal box office collection day 14: Ranbir Ka...</td>\n",
       "      <td>Animal box office collection day 14: Ranbir Ka...</td>\n",
       "      <td>Ranbir Kapoor-starrer Animal has been in the t...</td>\n",
       "      <td>https://indianexpress.com/article/entertainmen...</td>\n",
       "      <td>entertainment</td>\n",
       "    </tr>\n",
       "    <tr>\n",
       "      <th>2</th>\n",
       "      <td>1874</td>\n",
       "      <td>WFI’s emergency general council meeting in Ayo...</td>\n",
       "      <td>The ministry on Saturday also suspended WFI's ...</td>\n",
       "      <td>The Wrestling Federation of India’s (WFI) emer...</td>\n",
       "      <td>https://indianexpress.com/article/sports/sport...</td>\n",
       "      <td>sports</td>\n",
       "    </tr>\n",
       "    <tr>\n",
       "      <th>3</th>\n",
       "      <td>1437</td>\n",
       "      <td>Indian users will be able to test AI-based Goo...</td>\n",
       "      <td>Google has launched its Search with Generative...</td>\n",
       "      <td>Google has launched its Search with Generative...</td>\n",
       "      <td>https://indianexpress.com/article/technology/a...</td>\n",
       "      <td>technology</td>\n",
       "    </tr>\n",
       "    <tr>\n",
       "      <th>4</th>\n",
       "      <td>25</td>\n",
       "      <td>Online retailer eBay to slash 1,000 jobs, redu...</td>\n",
       "      <td>San Jose, California-based eBay is the latest ...</td>\n",
       "      <td>Online retailer eBay Inc will cut about 1,000 ...</td>\n",
       "      <td>https://indianexpress.com/article/business/com...</td>\n",
       "      <td>business</td>\n",
       "    </tr>\n",
       "  </tbody>\n",
       "</table>\n",
       "</div>"
      ],
      "text/plain": [
       "   index                                          headlines  \\\n",
       "0    851  Assam Board HSLC 2024: SEBA announces Class 10...   \n",
       "1   1209  Animal box office collection day 14: Ranbir Ka...   \n",
       "2   1874  WFI’s emergency general council meeting in Ayo...   \n",
       "3   1437  Indian users will be able to test AI-based Goo...   \n",
       "4     25  Online retailer eBay to slash 1,000 jobs, redu...   \n",
       "\n",
       "                                         description  \\\n",
       "0  Assam Board HSLC Exams: In addition to the Cla...   \n",
       "1  Animal box office collection day 14: Ranbir Ka...   \n",
       "2  The ministry on Saturday also suspended WFI's ...   \n",
       "3  Google has launched its Search with Generative...   \n",
       "4  San Jose, California-based eBay is the latest ...   \n",
       "\n",
       "                                             content  \\\n",
       "0  Assam Board HSLC 2024: The Board of Secondary ...   \n",
       "1  Ranbir Kapoor-starrer Animal has been in the t...   \n",
       "2  The Wrestling Federation of India’s (WFI) emer...   \n",
       "3  Google has launched its Search with Generative...   \n",
       "4  Online retailer eBay Inc will cut about 1,000 ...   \n",
       "\n",
       "                                                 url       category  \n",
       "0  https://indianexpress.com/article/education/as...      education  \n",
       "1  https://indianexpress.com/article/entertainmen...  entertainment  \n",
       "2  https://indianexpress.com/article/sports/sport...         sports  \n",
       "3  https://indianexpress.com/article/technology/a...     technology  \n",
       "4  https://indianexpress.com/article/business/com...       business  "
      ]
     },
     "execution_count": 7,
     "metadata": {},
     "output_type": "execute_result"
    }
   ],
   "source": [
    "df.head()"
   ]
  },
  {
   "cell_type": "code",
   "execution_count": 8,
   "id": "71c39ad1-c360-4d12-8bb3-e591992f11c1",
   "metadata": {},
   "outputs": [
    {
     "data": {
      "text/plain": [
       "(10000, 6)"
      ]
     },
     "execution_count": 8,
     "metadata": {},
     "output_type": "execute_result"
    }
   ],
   "source": [
    "df.shape"
   ]
  },
  {
   "cell_type": "code",
   "execution_count": 9,
   "id": "e4fdeeed-53ea-469a-b769-b52081066285",
   "metadata": {},
   "outputs": [],
   "source": [
    "# removing the useless columns like index and url\n",
    "df.drop(columns=[\"index\",\"url\"],inplace=True)"
   ]
  },
  {
   "cell_type": "markdown",
   "id": "18479ec9-1916-47b3-bf51-2c5b319f214c",
   "metadata": {},
   "source": [
    "### Mapping the category column for classification"
   ]
  },
  {
   "cell_type": "code",
   "execution_count": 10,
   "id": "3b3d8ef5-da92-4e69-8344-3492cb41c9d2",
   "metadata": {},
   "outputs": [
    {
     "data": {
      "text/plain": [
       "category\n",
       "education        2000\n",
       "entertainment    2000\n",
       "sports           2000\n",
       "technology       2000\n",
       "business         2000\n",
       "Name: count, dtype: int64"
      ]
     },
     "execution_count": 10,
     "metadata": {},
     "output_type": "execute_result"
    }
   ],
   "source": [
    "df['category'].value_counts()"
   ]
  },
  {
   "cell_type": "code",
   "execution_count": 11,
   "id": "183c37ab-9795-4cc5-ac46-02322414261f",
   "metadata": {},
   "outputs": [],
   "source": [
    "# mapping\n",
    "def map_category(category):\n",
    "    category_map = {\n",
    "        'sports': 0,\n",
    "        'business': 1,\n",
    "        'entertainment': 2,\n",
    "        'education': 3,\n",
    "        'technology': 4\n",
    "    }\n",
    "    return category_map.get(category, -1)\n",
    "df['Category'] = df['category'].apply(map_category)"
   ]
  },
  {
   "cell_type": "code",
   "execution_count": 12,
   "id": "e8575ea8-0e39-4b19-9ad2-6702d642ece5",
   "metadata": {},
   "outputs": [],
   "source": [
    "df.drop(columns=['category'],inplace=True)"
   ]
  },
  {
   "cell_type": "code",
   "execution_count": 13,
   "id": "4e5edeec-481d-4de8-a13b-4cfb384b7a42",
   "metadata": {},
   "outputs": [
    {
     "data": {
      "text/html": [
       "<div>\n",
       "<style scoped>\n",
       "    .dataframe tbody tr th:only-of-type {\n",
       "        vertical-align: middle;\n",
       "    }\n",
       "\n",
       "    .dataframe tbody tr th {\n",
       "        vertical-align: top;\n",
       "    }\n",
       "\n",
       "    .dataframe thead th {\n",
       "        text-align: right;\n",
       "    }\n",
       "</style>\n",
       "<table border=\"1\" class=\"dataframe\">\n",
       "  <thead>\n",
       "    <tr style=\"text-align: right;\">\n",
       "      <th></th>\n",
       "      <th>headlines</th>\n",
       "      <th>description</th>\n",
       "      <th>content</th>\n",
       "      <th>Category</th>\n",
       "    </tr>\n",
       "  </thead>\n",
       "  <tbody>\n",
       "    <tr>\n",
       "      <th>0</th>\n",
       "      <td>Assam Board HSLC 2024: SEBA announces Class 10...</td>\n",
       "      <td>Assam Board HSLC Exams: In addition to the Cla...</td>\n",
       "      <td>Assam Board HSLC 2024: The Board of Secondary ...</td>\n",
       "      <td>3</td>\n",
       "    </tr>\n",
       "    <tr>\n",
       "      <th>1</th>\n",
       "      <td>Animal box office collection day 14: Ranbir Ka...</td>\n",
       "      <td>Animal box office collection day 14: Ranbir Ka...</td>\n",
       "      <td>Ranbir Kapoor-starrer Animal has been in the t...</td>\n",
       "      <td>2</td>\n",
       "    </tr>\n",
       "    <tr>\n",
       "      <th>2</th>\n",
       "      <td>WFI’s emergency general council meeting in Ayo...</td>\n",
       "      <td>The ministry on Saturday also suspended WFI's ...</td>\n",
       "      <td>The Wrestling Federation of India’s (WFI) emer...</td>\n",
       "      <td>0</td>\n",
       "    </tr>\n",
       "    <tr>\n",
       "      <th>3</th>\n",
       "      <td>Indian users will be able to test AI-based Goo...</td>\n",
       "      <td>Google has launched its Search with Generative...</td>\n",
       "      <td>Google has launched its Search with Generative...</td>\n",
       "      <td>4</td>\n",
       "    </tr>\n",
       "    <tr>\n",
       "      <th>4</th>\n",
       "      <td>Online retailer eBay to slash 1,000 jobs, redu...</td>\n",
       "      <td>San Jose, California-based eBay is the latest ...</td>\n",
       "      <td>Online retailer eBay Inc will cut about 1,000 ...</td>\n",
       "      <td>1</td>\n",
       "    </tr>\n",
       "  </tbody>\n",
       "</table>\n",
       "</div>"
      ],
      "text/plain": [
       "                                           headlines  \\\n",
       "0  Assam Board HSLC 2024: SEBA announces Class 10...   \n",
       "1  Animal box office collection day 14: Ranbir Ka...   \n",
       "2  WFI’s emergency general council meeting in Ayo...   \n",
       "3  Indian users will be able to test AI-based Goo...   \n",
       "4  Online retailer eBay to slash 1,000 jobs, redu...   \n",
       "\n",
       "                                         description  \\\n",
       "0  Assam Board HSLC Exams: In addition to the Cla...   \n",
       "1  Animal box office collection day 14: Ranbir Ka...   \n",
       "2  The ministry on Saturday also suspended WFI's ...   \n",
       "3  Google has launched its Search with Generative...   \n",
       "4  San Jose, California-based eBay is the latest ...   \n",
       "\n",
       "                                             content  Category  \n",
       "0  Assam Board HSLC 2024: The Board of Secondary ...         3  \n",
       "1  Ranbir Kapoor-starrer Animal has been in the t...         2  \n",
       "2  The Wrestling Federation of India’s (WFI) emer...         0  \n",
       "3  Google has launched its Search with Generative...         4  \n",
       "4  Online retailer eBay Inc will cut about 1,000 ...         1  "
      ]
     },
     "execution_count": 13,
     "metadata": {},
     "output_type": "execute_result"
    }
   ],
   "source": [
    "df.head()"
   ]
  },
  {
   "cell_type": "code",
   "execution_count": 14,
   "id": "31d937b6-b34e-4e3a-b5b4-c9b5a860d2b9",
   "metadata": {},
   "outputs": [],
   "source": [
    "# joining the columns to create one and then i will drop the columns\n",
    "df['Content'] = df['headlines'] + ' ' + df['description'] + ' ' + df['content']\n",
    "\n",
    "df.drop(['headlines', 'description', 'content'], axis=1, inplace=True)"
   ]
  },
  {
   "cell_type": "code",
   "execution_count": 15,
   "id": "064888c6-9211-403e-a6b6-09b1cff25497",
   "metadata": {},
   "outputs": [
    {
     "data": {
      "text/html": [
       "<div>\n",
       "<style scoped>\n",
       "    .dataframe tbody tr th:only-of-type {\n",
       "        vertical-align: middle;\n",
       "    }\n",
       "\n",
       "    .dataframe tbody tr th {\n",
       "        vertical-align: top;\n",
       "    }\n",
       "\n",
       "    .dataframe thead th {\n",
       "        text-align: right;\n",
       "    }\n",
       "</style>\n",
       "<table border=\"1\" class=\"dataframe\">\n",
       "  <thead>\n",
       "    <tr style=\"text-align: right;\">\n",
       "      <th></th>\n",
       "      <th>Category</th>\n",
       "      <th>Content</th>\n",
       "    </tr>\n",
       "  </thead>\n",
       "  <tbody>\n",
       "    <tr>\n",
       "      <th>0</th>\n",
       "      <td>3</td>\n",
       "      <td>Assam Board HSLC 2024: SEBA announces Class 10...</td>\n",
       "    </tr>\n",
       "    <tr>\n",
       "      <th>1</th>\n",
       "      <td>2</td>\n",
       "      <td>Animal box office collection day 14: Ranbir Ka...</td>\n",
       "    </tr>\n",
       "    <tr>\n",
       "      <th>2</th>\n",
       "      <td>0</td>\n",
       "      <td>WFI’s emergency general council meeting in Ayo...</td>\n",
       "    </tr>\n",
       "    <tr>\n",
       "      <th>3</th>\n",
       "      <td>4</td>\n",
       "      <td>Indian users will be able to test AI-based Goo...</td>\n",
       "    </tr>\n",
       "    <tr>\n",
       "      <th>4</th>\n",
       "      <td>1</td>\n",
       "      <td>Online retailer eBay to slash 1,000 jobs, redu...</td>\n",
       "    </tr>\n",
       "  </tbody>\n",
       "</table>\n",
       "</div>"
      ],
      "text/plain": [
       "   Category                                            Content\n",
       "0         3  Assam Board HSLC 2024: SEBA announces Class 10...\n",
       "1         2  Animal box office collection day 14: Ranbir Ka...\n",
       "2         0  WFI’s emergency general council meeting in Ayo...\n",
       "3         4  Indian users will be able to test AI-based Goo...\n",
       "4         1  Online retailer eBay to slash 1,000 jobs, redu..."
      ]
     },
     "execution_count": 15,
     "metadata": {},
     "output_type": "execute_result"
    }
   ],
   "source": [
    "df.head()"
   ]
  },
  {
   "cell_type": "markdown",
   "id": "2339c304-1880-4f5c-a6db-337bac1d8b7d",
   "metadata": {},
   "source": [
    "### Counting the number of words in the entire dataset so i will have an idea of scale "
   ]
  },
  {
   "cell_type": "code",
   "execution_count": 16,
   "id": "f11c40b6-1baf-4979-ba67-6735894f4d7f",
   "metadata": {},
   "outputs": [
    {
     "name": "stdout",
     "output_type": "stream",
     "text": [
      "2646524\n"
     ]
    }
   ],
   "source": [
    "total_word_count = 0\n",
    "for content in df['Content']:\n",
    "    total_word_count += sum(1 for _ in content.split())\n",
    "print(total_word_count)\n"
   ]
  },
  {
   "cell_type": "markdown",
   "id": "dcb95f92-e984-43ca-95ba-d0fc2ddf14a6",
   "metadata": {},
   "source": [
    "### Stemming"
   ]
  },
  {
   "cell_type": "code",
   "execution_count": 17,
   "id": "ceedafeb-0306-45b3-bc1d-e4958a91ab90",
   "metadata": {},
   "outputs": [],
   "source": [
    "ps = PorterStemmer()"
   ]
  },
  {
   "cell_type": "code",
   "execution_count": 18,
   "id": "b76a862d-858e-448d-ad1c-01ef8785ef5a",
   "metadata": {},
   "outputs": [],
   "source": [
    "def stemming(content):\n",
    "    stemmed_content = re.sub('[^a-zA-Z]',' ',content)\n",
    "    stemmed_content = stemmed_content.lower()\n",
    "    stemmed_content = stemmed_content.split()\n",
    "    stemmed_content = [ps.stem(word) for word in stemmed_content if not word in stopwords.words('english')]\n",
    "    stemmed_content = \" \".join(stemmed_content)\n",
    "    return stemmed_content"
   ]
  },
  {
   "cell_type": "code",
   "execution_count": 19,
   "id": "07964b24-14b6-4fa7-9f7a-19a0710c0ed7",
   "metadata": {},
   "outputs": [],
   "source": [
    "df['Content'] = df['Content'].apply(stemming)"
   ]
  },
  {
   "cell_type": "code",
   "execution_count": 20,
   "id": "d3def7d9-d96f-45dd-8bee-f585cb2a4559",
   "metadata": {},
   "outputs": [
    {
     "data": {
      "text/html": [
       "<div>\n",
       "<style scoped>\n",
       "    .dataframe tbody tr th:only-of-type {\n",
       "        vertical-align: middle;\n",
       "    }\n",
       "\n",
       "    .dataframe tbody tr th {\n",
       "        vertical-align: top;\n",
       "    }\n",
       "\n",
       "    .dataframe thead th {\n",
       "        text-align: right;\n",
       "    }\n",
       "</style>\n",
       "<table border=\"1\" class=\"dataframe\">\n",
       "  <thead>\n",
       "    <tr style=\"text-align: right;\">\n",
       "      <th></th>\n",
       "      <th>Category</th>\n",
       "      <th>Content</th>\n",
       "    </tr>\n",
       "  </thead>\n",
       "  <tbody>\n",
       "    <tr>\n",
       "      <th>0</th>\n",
       "      <td>3</td>\n",
       "      <td>assam board hslc seba announc class datesheet ...</td>\n",
       "    </tr>\n",
       "    <tr>\n",
       "      <th>1</th>\n",
       "      <td>2</td>\n",
       "      <td>anim box offic collect day ranbir kapoor starr...</td>\n",
       "    </tr>\n",
       "    <tr>\n",
       "      <th>2</th>\n",
       "      <td>0</td>\n",
       "      <td>wfi emerg gener council meet ayodhya call mini...</td>\n",
       "    </tr>\n",
       "    <tr>\n",
       "      <th>3</th>\n",
       "      <td>4</td>\n",
       "      <td>indian user abl test ai base googl search feat...</td>\n",
       "    </tr>\n",
       "    <tr>\n",
       "      <th>4</th>\n",
       "      <td>1</td>\n",
       "      <td>onlin retail ebay slash job reduc contract san...</td>\n",
       "    </tr>\n",
       "  </tbody>\n",
       "</table>\n",
       "</div>"
      ],
      "text/plain": [
       "   Category                                            Content\n",
       "0         3  assam board hslc seba announc class datesheet ...\n",
       "1         2  anim box offic collect day ranbir kapoor starr...\n",
       "2         0  wfi emerg gener council meet ayodhya call mini...\n",
       "3         4  indian user abl test ai base googl search feat...\n",
       "4         1  onlin retail ebay slash job reduc contract san..."
      ]
     },
     "execution_count": 20,
     "metadata": {},
     "output_type": "execute_result"
    }
   ],
   "source": [
    "df.head()"
   ]
  },
  {
   "cell_type": "code",
   "execution_count": 23,
   "id": "737087b5-2c79-4bf6-94d9-06a21e4905fc",
   "metadata": {},
   "outputs": [
    {
     "name": "stdout",
     "output_type": "stream",
     "text": [
      "1580692\n"
     ]
    }
   ],
   "source": [
    "# so after pre-proccessing around 1M words that are stop words , numbers etc were removed \n",
    "total_word_count = 0\n",
    "for content in df['Content']:\n",
    "    total_word_count += sum(1 for _ in content.split())\n",
    "print(total_word_count)\n"
   ]
  },
  {
   "cell_type": "markdown",
   "id": "4e937860-04ba-4a4b-8067-cace5c3bd658",
   "metadata": {},
   "source": [
    "# Model building and evaluation "
   ]
  },
  {
   "cell_type": "code",
   "execution_count": 26,
   "id": "5e75d2fb-2aaf-4f3c-8b09-f9583b596878",
   "metadata": {},
   "outputs": [],
   "source": [
    "from sklearn.model_selection import train_test_split\n",
    "from sklearn.linear_model import LogisticRegression, LinearRegression\n",
    "from sklearn.tree import DecisionTreeClassifier, DecisionTreeRegressor\n",
    "from sklearn.ensemble import RandomForestClassifier, RandomForestRegressor\n",
    "from sklearn.svm import SVC, SVR\n",
    "from sklearn.neighbors import KNeighborsClassifier, KNeighborsRegressor\n",
    "from sklearn.metrics import accuracy_score, f1_score, precision_score, recall_score, mean_squared_error, r2_score, mean_absolute_error"
   ]
  },
  {
   "cell_type": "code",
   "execution_count": 27,
   "id": "8ea25840-3cb2-4435-83ca-9fa0d802e9a2",
   "metadata": {},
   "outputs": [],
   "source": [
    "X = df['Content']\n",
    "Y = df['Category']"
   ]
  },
  {
   "cell_type": "code",
   "execution_count": 28,
   "id": "96f18809-6307-4063-9ae8-29af7ddf4d6e",
   "metadata": {},
   "outputs": [],
   "source": [
    "X_train , X_test , Y_train , Y_test  = train_test_split(X, Y, test_size = 0.2 , stratify = Y , random_state = 42)"
   ]
  },
  {
   "cell_type": "code",
   "execution_count": 29,
   "id": "ec76b105-c77a-42a2-bf5a-c87df8e36b41",
   "metadata": {},
   "outputs": [],
   "source": [
    "# Vectorization \n",
    "vc = TfidfVectorizer()\n",
    "X_train = vc.fit_transform(X_train)\n",
    "X_test = vc.transform(X_test)"
   ]
  },
  {
   "cell_type": "markdown",
   "id": "f4c2bfe4-0fad-4060-8b22-37a0f0dd4ea1",
   "metadata": {},
   "source": [
    "## SVM "
   ]
  },
  {
   "cell_type": "markdown",
   "id": "b7d7b357-92bd-4f93-92d7-90473e0023c9",
   "metadata": {},
   "source": [
    "### logistic reggression performed really well so you can also try that but i am using svm as it had best accurecy "
   ]
  },
  {
   "cell_type": "code",
   "execution_count": 34,
   "id": "23b60e50-86a1-4eaa-a083-cfa48f4fcbb7",
   "metadata": {},
   "outputs": [],
   "source": [
    "from sklearn.metrics import accuracy_score, classification_report, f1_score\n",
    "from sklearn.svm import SVC"
   ]
  },
  {
   "cell_type": "code",
   "execution_count": 35,
   "id": "2fd5791a-6ce1-45c0-b1b7-a35cf6ad7607",
   "metadata": {},
   "outputs": [
    {
     "name": "stdout",
     "output_type": "stream",
     "text": [
      "Model: SVM\n",
      "Accuracy: 0.9885\n",
      "F1-Score: 0.9885\n",
      "Classification Report:\n",
      "              precision    recall  f1-score   support\n",
      "\n",
      "           0       0.99      0.99      0.99       400\n",
      "           1       0.99      0.98      0.98       400\n",
      "           2       1.00      0.99      1.00       400\n",
      "           3       0.99      0.99      0.99       400\n",
      "           4       0.97      0.98      0.97       400\n",
      "\n",
      "    accuracy                           0.99      2000\n",
      "   macro avg       0.99      0.99      0.99      2000\n",
      "weighted avg       0.99      0.99      0.99      2000\n",
      "\n",
      "==================================================\n"
     ]
    }
   ],
   "source": [
    "model = SVC()\n",
    "model.fit(X_train, Y_train)\n",
    "\n",
    "# Make predictions\n",
    "Y_pred_cls = model.predict(X_test)\n",
    "\n",
    "accuracy_cls = accuracy_score(Y_test, Y_pred_cls)\n",
    "\n",
    "f1_cls = f1_score(Y_test, Y_pred_cls, average='weighted')\n",
    "\n",
    "report_cls = classification_report(Y_test, Y_pred_cls)\n",
    "    \n",
    "# Print the results for classification\n",
    "print(f\"Model: SVM\")\n",
    "print(f\"Accuracy: {accuracy_cls:.4f}\")\n",
    "print(f\"F1-Score: {f1_cls:.4f}\")\n",
    "print(f\"Classification Report:\\n{report_cls}\")\n",
    "print(\"=\"*50)"
   ]
  },
  {
   "cell_type": "code",
   "execution_count": 47,
   "id": "5b946b0d-0857-4ad1-8b5e-959ae54510f0",
   "metadata": {},
   "outputs": [],
   "source": [
    "def val_to_category(val):\n",
    "    category_map = {\n",
    "        0:'sports',\n",
    "        1:'business',\n",
    "        2:'entertainment',\n",
    "        3:'education',\n",
    "        4:'technology'\n",
    "     }\n",
    "    return category_map.get(val,-1)\n",
    "    "
   ]
  },
  {
   "cell_type": "code",
   "execution_count": 52,
   "id": "b214943e-42c6-4c7a-9b9a-5060011a7544",
   "metadata": {},
   "outputs": [],
   "source": [
    "def make_predictions(headlines,\tdescription, content):\n",
    "    text = headlines + \" \"+description +\" \"+ content\n",
    "    text = stemming(text)\n",
    "    text = vc.transform([text])\n",
    "    val = model.predict(text)\n",
    "    val = val_to_category(int(val[0]))\n",
    "    print(\"News category is : \",val)"
   ]
  },
  {
   "cell_type": "code",
   "execution_count": 53,
   "id": "76f1243e-00fb-4563-941e-649bd3efe723",
   "metadata": {},
   "outputs": [
    {
     "name": "stdout",
     "output_type": "stream",
     "text": [
      "News category is :  sports\n"
     ]
    }
   ],
   "source": [
    "make_predictions(\"kohli got his 50th century\",\"kholi has scored his 50th century today at stadium\",\"the run machine kholi hit another milestone my scoring his 50th odi centry toda at stadium\")"
   ]
  },
  {
   "cell_type": "code",
   "execution_count": 54,
   "id": "860f40d6-71c2-4f1f-b50e-69554a9bc957",
   "metadata": {},
   "outputs": [
    {
     "name": "stdout",
     "output_type": "stream",
     "text": [
      "News category is :  business\n"
     ]
    }
   ],
   "source": [
    "make_predictions(\"ambani earns 10M in a hour\" ,\" Mukesh Ambani earnd 10M ruppes in a single hour\",\"Mukesh Ambani the chairman of Reliance Industries Limited has earns around 10M ruppes every single hour this shows the that how much potential in there in indian market\")"
   ]
  },
  {
   "cell_type": "code",
   "execution_count": 60,
   "id": "8809002d-4f15-4d5e-b7d0-afb53e455a5a",
   "metadata": {},
   "outputs": [
    {
     "name": "stdout",
     "output_type": "stream",
     "text": [
      "News category is :  education\n"
     ]
    }
   ],
   "source": [
    "make_predictions(\"Change is NCERT syllabus\",\"\",\"\") # as you can see model can even predict with title only"
   ]
  }
 ],
 "metadata": {
  "kernelspec": {
   "display_name": "Python 3 (ipykernel)",
   "language": "python",
   "name": "python3"
  },
  "language_info": {
   "codemirror_mode": {
    "name": "ipython",
    "version": 3
   },
   "file_extension": ".py",
   "mimetype": "text/x-python",
   "name": "python",
   "nbconvert_exporter": "python",
   "pygments_lexer": "ipython3",
   "version": "3.12.2"
  }
 },
 "nbformat": 4,
 "nbformat_minor": 5
}
