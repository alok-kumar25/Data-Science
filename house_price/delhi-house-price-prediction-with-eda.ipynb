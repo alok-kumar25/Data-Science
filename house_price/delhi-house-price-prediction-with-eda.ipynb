{
 "cells": [
  {
   "cell_type": "code",
   "execution_count": 1,
   "id": "21d30a12",
   "metadata": {
    "execution": {
     "iopub.execute_input": "2024-04-07T21:39:28.790149Z",
     "iopub.status.busy": "2024-04-07T21:39:28.789640Z",
     "iopub.status.idle": "2024-04-07T21:39:32.111652Z",
     "shell.execute_reply": "2024-04-07T21:39:32.110264Z"
    },
    "papermill": {
     "duration": 3.345257,
     "end_time": "2024-04-07T21:39:32.114897",
     "exception": false,
     "start_time": "2024-04-07T21:39:28.769640",
     "status": "completed"
    },
    "tags": []
   },
   "outputs": [],
   "source": [
    "import pandas as pd\n",
    "import numpy as np\n",
    "from matplotlib import pyplot as plt\n",
    "import seaborn as sns\n",
    "from sklearn.model_selection import train_test_split\n",
    "from sklearn.ensemble import RandomForestRegressor\n",
    "from sklearn.metrics import mean_squared_error, r2_score"
   ]
  },
  {
   "cell_type": "code",
   "execution_count": 2,
   "id": "f6fdeaf0",
   "metadata": {
    "execution": {
     "iopub.execute_input": "2024-04-07T21:39:32.152139Z",
     "iopub.status.busy": "2024-04-07T21:39:32.151285Z",
     "iopub.status.idle": "2024-04-07T21:39:32.172635Z",
     "shell.execute_reply": "2024-04-07T21:39:32.171701Z"
    },
    "papermill": {
     "duration": 0.043256,
     "end_time": "2024-04-07T21:39:32.176012",
     "exception": false,
     "start_time": "2024-04-07T21:39:32.132756",
     "status": "completed"
    },
    "tags": []
   },
   "outputs": [
    {
     "name": "stdout",
     "output_type": "stream",
     "text": [
      "/kaggle/input/india-rental-house-price/Indian_housing_Mumbai_data.csv\n",
      "/kaggle/input/india-rental-house-price/Indian_housing_Pune_data.csv\n",
      "/kaggle/input/india-rental-house-price/Indian_housing_Delhi_data.csv\n"
     ]
    }
   ],
   "source": [
    "# This Python 3 environment comes with many helpful analytics libraries installed\n",
    "# It is defined by the kaggle/python Docker image: https://github.com/kaggle/docker-python\n",
    "# For example, here's several helpful packages to load\n",
    "\n",
    "import numpy as np # linear algebra\n",
    "import pandas as pd # data processing, CSV file I/O (e.g. pd.read_csv)\n",
    "\n",
    "# Input data files are available in the read-only \"../input/\" directory\n",
    "# For example, running this (by clicking run or pressing Shift+Enter) will list all files under the input directory\n",
    "\n",
    "import os\n",
    "for dirname, _, filenames in os.walk('/kaggle/input'):\n",
    "    for filename in filenames:\n",
    "        print(os.path.join(dirname, filename))\n",
    "\n",
    "# You can write up to 20GB to the current directory (/kaggle/working/) that gets preserved as output when you create a version using \"Save & Run All\" \n",
    "# You can also write temporary files to /kaggle/temp/, but they won't be saved outside of the current session"
   ]
  },
  {
   "cell_type": "markdown",
   "id": "a5fbe5b9",
   "metadata": {
    "papermill": {
     "duration": 0.017013,
     "end_time": "2024-04-07T21:39:32.210695",
     "exception": false,
     "start_time": "2024-04-07T21:39:32.193682",
     "status": "completed"
    },
    "tags": []
   },
   "source": [
    "# **Importing the dataset**"
   ]
  },
  {
   "cell_type": "code",
   "execution_count": 3,
   "id": "f3d34f38",
   "metadata": {
    "execution": {
     "iopub.execute_input": "2024-04-07T21:39:32.248679Z",
     "iopub.status.busy": "2024-04-07T21:39:32.248170Z",
     "iopub.status.idle": "2024-04-07T21:39:32.366549Z",
     "shell.execute_reply": "2024-04-07T21:39:32.365312Z"
    },
    "papermill": {
     "duration": 0.141108,
     "end_time": "2024-04-07T21:39:32.369905",
     "exception": false,
     "start_time": "2024-04-07T21:39:32.228797",
     "status": "completed"
    },
    "tags": []
   },
   "outputs": [],
   "source": [
    "df=pd.read_csv(\"/kaggle/input/india-rental-house-price/Indian_housing_Delhi_data.csv\")"
   ]
  },
  {
   "cell_type": "code",
   "execution_count": 4,
   "id": "b2cf8ae4",
   "metadata": {
    "execution": {
     "iopub.execute_input": "2024-04-07T21:39:32.406532Z",
     "iopub.status.busy": "2024-04-07T21:39:32.406089Z",
     "iopub.status.idle": "2024-04-07T21:39:32.437955Z",
     "shell.execute_reply": "2024-04-07T21:39:32.436893Z"
    },
    "papermill": {
     "duration": 0.053343,
     "end_time": "2024-04-07T21:39:32.440287",
     "exception": false,
     "start_time": "2024-04-07T21:39:32.386944",
     "status": "completed"
    },
    "tags": []
   },
   "outputs": [
    {
     "data": {
      "text/html": [
       "<div>\n",
       "<style scoped>\n",
       "    .dataframe tbody tr th:only-of-type {\n",
       "        vertical-align: middle;\n",
       "    }\n",
       "\n",
       "    .dataframe tbody tr th {\n",
       "        vertical-align: top;\n",
       "    }\n",
       "\n",
       "    .dataframe thead th {\n",
       "        text-align: right;\n",
       "    }\n",
       "</style>\n",
       "<table border=\"1\" class=\"dataframe\">\n",
       "  <thead>\n",
       "    <tr style=\"text-align: right;\">\n",
       "      <th></th>\n",
       "      <th>house_type</th>\n",
       "      <th>house_size</th>\n",
       "      <th>location</th>\n",
       "      <th>city</th>\n",
       "      <th>latitude</th>\n",
       "      <th>longitude</th>\n",
       "      <th>price</th>\n",
       "      <th>currency</th>\n",
       "      <th>numBathrooms</th>\n",
       "      <th>numBalconies</th>\n",
       "      <th>isNegotiable</th>\n",
       "      <th>priceSqFt</th>\n",
       "      <th>verificationDate</th>\n",
       "      <th>description</th>\n",
       "      <th>SecurityDeposit</th>\n",
       "      <th>Status</th>\n",
       "    </tr>\n",
       "  </thead>\n",
       "  <tbody>\n",
       "    <tr>\n",
       "      <th>0</th>\n",
       "      <td>1 RK Studio Apartment</td>\n",
       "      <td>400 sq ft</td>\n",
       "      <td>Kalkaji</td>\n",
       "      <td>Delhi</td>\n",
       "      <td>28.545561</td>\n",
       "      <td>77.254349</td>\n",
       "      <td>22000</td>\n",
       "      <td>INR</td>\n",
       "      <td>1.0</td>\n",
       "      <td>NaN</td>\n",
       "      <td>NaN</td>\n",
       "      <td>NaN</td>\n",
       "      <td>Posted a day ago</td>\n",
       "      <td>Fully furnished, loaded with amenities &amp; gadge...</td>\n",
       "      <td>No Deposit</td>\n",
       "      <td>Furnished</td>\n",
       "    </tr>\n",
       "    <tr>\n",
       "      <th>1</th>\n",
       "      <td>1 RK Studio Apartment</td>\n",
       "      <td>400 sq ft</td>\n",
       "      <td>Mansarover Garden</td>\n",
       "      <td>Delhi</td>\n",
       "      <td>28.643259</td>\n",
       "      <td>77.132828</td>\n",
       "      <td>20000</td>\n",
       "      <td>INR</td>\n",
       "      <td>1.0</td>\n",
       "      <td>NaN</td>\n",
       "      <td>NaN</td>\n",
       "      <td>NaN</td>\n",
       "      <td>Posted 9 days ago</td>\n",
       "      <td>Here is an excellent 1 BHK Independent Floor a...</td>\n",
       "      <td>No Deposit</td>\n",
       "      <td>Furnished</td>\n",
       "    </tr>\n",
       "    <tr>\n",
       "      <th>2</th>\n",
       "      <td>2 BHK Independent Floor</td>\n",
       "      <td>500 sq ft</td>\n",
       "      <td>Uttam Nagar</td>\n",
       "      <td>Delhi</td>\n",
       "      <td>28.618677</td>\n",
       "      <td>77.053352</td>\n",
       "      <td>8500</td>\n",
       "      <td>INR</td>\n",
       "      <td>1.0</td>\n",
       "      <td>NaN</td>\n",
       "      <td>NaN</td>\n",
       "      <td>NaN</td>\n",
       "      <td>Posted 12 days ago</td>\n",
       "      <td>Zero Brokerage.\\n\\n2 Room set, Govt bijali Met...</td>\n",
       "      <td>No Deposit</td>\n",
       "      <td>Semi-Furnished</td>\n",
       "    </tr>\n",
       "    <tr>\n",
       "      <th>3</th>\n",
       "      <td>3 BHK Independent House</td>\n",
       "      <td>1,020 sq ft</td>\n",
       "      <td>Model Town</td>\n",
       "      <td>Delhi</td>\n",
       "      <td>28.712898</td>\n",
       "      <td>77.180000</td>\n",
       "      <td>48000</td>\n",
       "      <td>INR</td>\n",
       "      <td>3.0</td>\n",
       "      <td>NaN</td>\n",
       "      <td>NaN</td>\n",
       "      <td>NaN</td>\n",
       "      <td>Posted a year ago</td>\n",
       "      <td>Itâs a 3 bhk independent house situated in M...</td>\n",
       "      <td>No Deposit</td>\n",
       "      <td>Furnished</td>\n",
       "    </tr>\n",
       "    <tr>\n",
       "      <th>4</th>\n",
       "      <td>2 BHK Apartment</td>\n",
       "      <td>810 sq ft</td>\n",
       "      <td>Sector 13 Rohini</td>\n",
       "      <td>Delhi</td>\n",
       "      <td>28.723539</td>\n",
       "      <td>77.131424</td>\n",
       "      <td>20000</td>\n",
       "      <td>INR</td>\n",
       "      <td>2.0</td>\n",
       "      <td>NaN</td>\n",
       "      <td>NaN</td>\n",
       "      <td>NaN</td>\n",
       "      <td>Posted a year ago</td>\n",
       "      <td>Well designed 2 bhk multistorey apartment is a...</td>\n",
       "      <td>No Deposit</td>\n",
       "      <td>Unfurnished</td>\n",
       "    </tr>\n",
       "  </tbody>\n",
       "</table>\n",
       "</div>"
      ],
      "text/plain": [
       "                 house_type   house_size           location   city   latitude  \\\n",
       "0    1 RK Studio Apartment     400 sq ft            Kalkaji  Delhi  28.545561   \n",
       "1    1 RK Studio Apartment     400 sq ft  Mansarover Garden  Delhi  28.643259   \n",
       "2  2 BHK Independent Floor     500 sq ft        Uttam Nagar  Delhi  28.618677   \n",
       "3  3 BHK Independent House   1,020 sq ft         Model Town  Delhi  28.712898   \n",
       "4          2 BHK Apartment     810 sq ft   Sector 13 Rohini  Delhi  28.723539   \n",
       "\n",
       "   longitude  price currency  numBathrooms  numBalconies isNegotiable  \\\n",
       "0  77.254349  22000      INR           1.0           NaN          NaN   \n",
       "1  77.132828  20000      INR           1.0           NaN          NaN   \n",
       "2  77.053352   8500      INR           1.0           NaN          NaN   \n",
       "3  77.180000  48000      INR           3.0           NaN          NaN   \n",
       "4  77.131424  20000      INR           2.0           NaN          NaN   \n",
       "\n",
       "   priceSqFt    verificationDate  \\\n",
       "0        NaN    Posted a day ago   \n",
       "1        NaN   Posted 9 days ago   \n",
       "2        NaN  Posted 12 days ago   \n",
       "3        NaN   Posted a year ago   \n",
       "4        NaN   Posted a year ago   \n",
       "\n",
       "                                         description SecurityDeposit  \\\n",
       "0  Fully furnished, loaded with amenities & gadge...      No Deposit   \n",
       "1  Here is an excellent 1 BHK Independent Floor a...      No Deposit   \n",
       "2  Zero Brokerage.\\n\\n2 Room set, Govt bijali Met...      No Deposit   \n",
       "3  Itâs a 3 bhk independent house situated in M...      No Deposit   \n",
       "4  Well designed 2 bhk multistorey apartment is a...      No Deposit   \n",
       "\n",
       "           Status  \n",
       "0       Furnished  \n",
       "1       Furnished  \n",
       "2  Semi-Furnished  \n",
       "3       Furnished  \n",
       "4     Unfurnished  "
      ]
     },
     "execution_count": 4,
     "metadata": {},
     "output_type": "execute_result"
    }
   ],
   "source": [
    "df.head()"
   ]
  },
  {
   "cell_type": "markdown",
   "id": "68cf5407",
   "metadata": {
    "papermill": {
     "duration": 0.016321,
     "end_time": "2024-04-07T21:39:32.473347",
     "exception": false,
     "start_time": "2024-04-07T21:39:32.457026",
     "status": "completed"
    },
    "tags": []
   },
   "source": [
    "# **Removing the unwanted columns**\n",
    "there are columns like city where ever value is **Delhi** and currency where every value is **INR** these types of columns have no use in this analysis so it is better to remove them , it also improves readablity of the dataframe as it becomes smaller "
   ]
  },
  {
   "cell_type": "code",
   "execution_count": 5,
   "id": "4c579af3",
   "metadata": {
    "execution": {
     "iopub.execute_input": "2024-04-07T21:39:32.509726Z",
     "iopub.status.busy": "2024-04-07T21:39:32.508924Z",
     "iopub.status.idle": "2024-04-07T21:39:32.523290Z",
     "shell.execute_reply": "2024-04-07T21:39:32.521798Z"
    },
    "papermill": {
     "duration": 0.036378,
     "end_time": "2024-04-07T21:39:32.526314",
     "exception": false,
     "start_time": "2024-04-07T21:39:32.489936",
     "status": "completed"
    },
    "tags": []
   },
   "outputs": [],
   "source": [
    "dc =[\"city\",\"latitude\",\"longitude\",\"currency\",\"isNegotiable\",\"priceSqFt\",\"verificationDate\",\"description\",\"SecurityDeposit\"]\n",
    "df.drop(columns=dc,inplace=True)\n"
   ]
  },
  {
   "cell_type": "code",
   "execution_count": 6,
   "id": "c7fa16a0",
   "metadata": {
    "execution": {
     "iopub.execute_input": "2024-04-07T21:39:32.562205Z",
     "iopub.status.busy": "2024-04-07T21:39:32.561748Z",
     "iopub.status.idle": "2024-04-07T21:39:32.578552Z",
     "shell.execute_reply": "2024-04-07T21:39:32.577097Z"
    },
    "papermill": {
     "duration": 0.038046,
     "end_time": "2024-04-07T21:39:32.581183",
     "exception": false,
     "start_time": "2024-04-07T21:39:32.543137",
     "status": "completed"
    },
    "tags": []
   },
   "outputs": [
    {
     "data": {
      "text/html": [
       "<div>\n",
       "<style scoped>\n",
       "    .dataframe tbody tr th:only-of-type {\n",
       "        vertical-align: middle;\n",
       "    }\n",
       "\n",
       "    .dataframe tbody tr th {\n",
       "        vertical-align: top;\n",
       "    }\n",
       "\n",
       "    .dataframe thead th {\n",
       "        text-align: right;\n",
       "    }\n",
       "</style>\n",
       "<table border=\"1\" class=\"dataframe\">\n",
       "  <thead>\n",
       "    <tr style=\"text-align: right;\">\n",
       "      <th></th>\n",
       "      <th>house_type</th>\n",
       "      <th>house_size</th>\n",
       "      <th>location</th>\n",
       "      <th>price</th>\n",
       "      <th>numBathrooms</th>\n",
       "      <th>numBalconies</th>\n",
       "      <th>Status</th>\n",
       "    </tr>\n",
       "  </thead>\n",
       "  <tbody>\n",
       "    <tr>\n",
       "      <th>0</th>\n",
       "      <td>1 RK Studio Apartment</td>\n",
       "      <td>400 sq ft</td>\n",
       "      <td>Kalkaji</td>\n",
       "      <td>22000</td>\n",
       "      <td>1.0</td>\n",
       "      <td>NaN</td>\n",
       "      <td>Furnished</td>\n",
       "    </tr>\n",
       "    <tr>\n",
       "      <th>1</th>\n",
       "      <td>1 RK Studio Apartment</td>\n",
       "      <td>400 sq ft</td>\n",
       "      <td>Mansarover Garden</td>\n",
       "      <td>20000</td>\n",
       "      <td>1.0</td>\n",
       "      <td>NaN</td>\n",
       "      <td>Furnished</td>\n",
       "    </tr>\n",
       "    <tr>\n",
       "      <th>2</th>\n",
       "      <td>2 BHK Independent Floor</td>\n",
       "      <td>500 sq ft</td>\n",
       "      <td>Uttam Nagar</td>\n",
       "      <td>8500</td>\n",
       "      <td>1.0</td>\n",
       "      <td>NaN</td>\n",
       "      <td>Semi-Furnished</td>\n",
       "    </tr>\n",
       "    <tr>\n",
       "      <th>3</th>\n",
       "      <td>3 BHK Independent House</td>\n",
       "      <td>1,020 sq ft</td>\n",
       "      <td>Model Town</td>\n",
       "      <td>48000</td>\n",
       "      <td>3.0</td>\n",
       "      <td>NaN</td>\n",
       "      <td>Furnished</td>\n",
       "    </tr>\n",
       "    <tr>\n",
       "      <th>4</th>\n",
       "      <td>2 BHK Apartment</td>\n",
       "      <td>810 sq ft</td>\n",
       "      <td>Sector 13 Rohini</td>\n",
       "      <td>20000</td>\n",
       "      <td>2.0</td>\n",
       "      <td>NaN</td>\n",
       "      <td>Unfurnished</td>\n",
       "    </tr>\n",
       "  </tbody>\n",
       "</table>\n",
       "</div>"
      ],
      "text/plain": [
       "                 house_type   house_size           location  price  \\\n",
       "0    1 RK Studio Apartment     400 sq ft            Kalkaji  22000   \n",
       "1    1 RK Studio Apartment     400 sq ft  Mansarover Garden  20000   \n",
       "2  2 BHK Independent Floor     500 sq ft        Uttam Nagar   8500   \n",
       "3  3 BHK Independent House   1,020 sq ft         Model Town  48000   \n",
       "4          2 BHK Apartment     810 sq ft   Sector 13 Rohini  20000   \n",
       "\n",
       "   numBathrooms  numBalconies          Status  \n",
       "0           1.0           NaN       Furnished  \n",
       "1           1.0           NaN       Furnished  \n",
       "2           1.0           NaN  Semi-Furnished  \n",
       "3           3.0           NaN       Furnished  \n",
       "4           2.0           NaN     Unfurnished  "
      ]
     },
     "execution_count": 6,
     "metadata": {},
     "output_type": "execute_result"
    }
   ],
   "source": [
    "#first 5 rows \n",
    "df.head()"
   ]
  },
  {
   "cell_type": "markdown",
   "id": "e8140872",
   "metadata": {
    "papermill": {
     "duration": 0.016726,
     "end_time": "2024-04-07T21:39:32.614712",
     "exception": false,
     "start_time": "2024-04-07T21:39:32.597986",
     "status": "completed"
    },
    "tags": []
   },
   "source": [
    "# renaming the columns \n"
   ]
  },
  {
   "cell_type": "code",
   "execution_count": 7,
   "id": "1d539267",
   "metadata": {
    "execution": {
     "iopub.execute_input": "2024-04-07T21:39:32.650603Z",
     "iopub.status.busy": "2024-04-07T21:39:32.650111Z",
     "iopub.status.idle": "2024-04-07T21:39:32.657105Z",
     "shell.execute_reply": "2024-04-07T21:39:32.655808Z"
    },
    "papermill": {
     "duration": 0.028092,
     "end_time": "2024-04-07T21:39:32.659579",
     "exception": false,
     "start_time": "2024-04-07T21:39:32.631487",
     "status": "completed"
    },
    "tags": []
   },
   "outputs": [],
   "source": [
    "df.rename(columns={\"house_type\":\"type\",\"house_size\":\"size\",\"numBathrooms\":\"bath\",\"numBalconies\":\"balcony\",\"Status\":\"status\"},inplace=True)"
   ]
  },
  {
   "cell_type": "code",
   "execution_count": 8,
   "id": "0fb31333",
   "metadata": {
    "execution": {
     "iopub.execute_input": "2024-04-07T21:39:32.695770Z",
     "iopub.status.busy": "2024-04-07T21:39:32.695169Z",
     "iopub.status.idle": "2024-04-07T21:39:32.724231Z",
     "shell.execute_reply": "2024-04-07T21:39:32.722758Z"
    },
    "papermill": {
     "duration": 0.05054,
     "end_time": "2024-04-07T21:39:32.726802",
     "exception": false,
     "start_time": "2024-04-07T21:39:32.676262",
     "status": "completed"
    },
    "tags": []
   },
   "outputs": [
    {
     "name": "stdout",
     "output_type": "stream",
     "text": [
      "<class 'pandas.core.frame.DataFrame'>\n",
      "RangeIndex: 5000 entries, 0 to 4999\n",
      "Data columns (total 7 columns):\n",
      " #   Column    Non-Null Count  Dtype  \n",
      "---  ------    --------------  -----  \n",
      " 0   type      5000 non-null   object \n",
      " 1   size      5000 non-null   object \n",
      " 2   location  5000 non-null   object \n",
      " 3   price     5000 non-null   int64  \n",
      " 4   bath      4975 non-null   float64\n",
      " 5   balcony   2737 non-null   float64\n",
      " 6   status    5000 non-null   object \n",
      "dtypes: float64(2), int64(1), object(4)\n",
      "memory usage: 273.6+ KB\n"
     ]
    }
   ],
   "source": [
    "df.info()"
   ]
  },
  {
   "cell_type": "code",
   "execution_count": 9,
   "id": "803a40a0",
   "metadata": {
    "execution": {
     "iopub.execute_input": "2024-04-07T21:39:32.763419Z",
     "iopub.status.busy": "2024-04-07T21:39:32.763013Z",
     "iopub.status.idle": "2024-04-07T21:39:32.779005Z",
     "shell.execute_reply": "2024-04-07T21:39:32.777643Z"
    },
    "papermill": {
     "duration": 0.037686,
     "end_time": "2024-04-07T21:39:32.781396",
     "exception": false,
     "start_time": "2024-04-07T21:39:32.743710",
     "status": "completed"
    },
    "scrolled": true,
    "tags": []
   },
   "outputs": [
    {
     "data": {
      "text/html": [
       "<div>\n",
       "<style scoped>\n",
       "    .dataframe tbody tr th:only-of-type {\n",
       "        vertical-align: middle;\n",
       "    }\n",
       "\n",
       "    .dataframe tbody tr th {\n",
       "        vertical-align: top;\n",
       "    }\n",
       "\n",
       "    .dataframe thead th {\n",
       "        text-align: right;\n",
       "    }\n",
       "</style>\n",
       "<table border=\"1\" class=\"dataframe\">\n",
       "  <thead>\n",
       "    <tr style=\"text-align: right;\">\n",
       "      <th></th>\n",
       "      <th>type</th>\n",
       "      <th>size</th>\n",
       "      <th>location</th>\n",
       "      <th>price</th>\n",
       "      <th>bath</th>\n",
       "      <th>balcony</th>\n",
       "      <th>status</th>\n",
       "    </tr>\n",
       "  </thead>\n",
       "  <tbody>\n",
       "    <tr>\n",
       "      <th>0</th>\n",
       "      <td>1 RK Studio Apartment</td>\n",
       "      <td>400 sq ft</td>\n",
       "      <td>Kalkaji</td>\n",
       "      <td>22000</td>\n",
       "      <td>1.0</td>\n",
       "      <td>NaN</td>\n",
       "      <td>Furnished</td>\n",
       "    </tr>\n",
       "    <tr>\n",
       "      <th>1</th>\n",
       "      <td>1 RK Studio Apartment</td>\n",
       "      <td>400 sq ft</td>\n",
       "      <td>Mansarover Garden</td>\n",
       "      <td>20000</td>\n",
       "      <td>1.0</td>\n",
       "      <td>NaN</td>\n",
       "      <td>Furnished</td>\n",
       "    </tr>\n",
       "    <tr>\n",
       "      <th>2</th>\n",
       "      <td>2 BHK Independent Floor</td>\n",
       "      <td>500 sq ft</td>\n",
       "      <td>Uttam Nagar</td>\n",
       "      <td>8500</td>\n",
       "      <td>1.0</td>\n",
       "      <td>NaN</td>\n",
       "      <td>Semi-Furnished</td>\n",
       "    </tr>\n",
       "    <tr>\n",
       "      <th>3</th>\n",
       "      <td>3 BHK Independent House</td>\n",
       "      <td>1,020 sq ft</td>\n",
       "      <td>Model Town</td>\n",
       "      <td>48000</td>\n",
       "      <td>3.0</td>\n",
       "      <td>NaN</td>\n",
       "      <td>Furnished</td>\n",
       "    </tr>\n",
       "    <tr>\n",
       "      <th>4</th>\n",
       "      <td>2 BHK Apartment</td>\n",
       "      <td>810 sq ft</td>\n",
       "      <td>Sector 13 Rohini</td>\n",
       "      <td>20000</td>\n",
       "      <td>2.0</td>\n",
       "      <td>NaN</td>\n",
       "      <td>Unfurnished</td>\n",
       "    </tr>\n",
       "  </tbody>\n",
       "</table>\n",
       "</div>"
      ],
      "text/plain": [
       "                       type         size           location  price  bath  \\\n",
       "0    1 RK Studio Apartment     400 sq ft            Kalkaji  22000   1.0   \n",
       "1    1 RK Studio Apartment     400 sq ft  Mansarover Garden  20000   1.0   \n",
       "2  2 BHK Independent Floor     500 sq ft        Uttam Nagar   8500   1.0   \n",
       "3  3 BHK Independent House   1,020 sq ft         Model Town  48000   3.0   \n",
       "4          2 BHK Apartment     810 sq ft   Sector 13 Rohini  20000   2.0   \n",
       "\n",
       "   balcony          status  \n",
       "0      NaN       Furnished  \n",
       "1      NaN       Furnished  \n",
       "2      NaN  Semi-Furnished  \n",
       "3      NaN       Furnished  \n",
       "4      NaN     Unfurnished  "
      ]
     },
     "execution_count": 9,
     "metadata": {},
     "output_type": "execute_result"
    }
   ],
   "source": [
    "df.head()"
   ]
  },
  {
   "cell_type": "code",
   "execution_count": 10,
   "id": "f5302725",
   "metadata": {
    "execution": {
     "iopub.execute_input": "2024-04-07T21:39:32.818655Z",
     "iopub.status.busy": "2024-04-07T21:39:32.817663Z",
     "iopub.status.idle": "2024-04-07T21:39:32.841079Z",
     "shell.execute_reply": "2024-04-07T21:39:32.840136Z"
    },
    "papermill": {
     "duration": 0.044957,
     "end_time": "2024-04-07T21:39:32.843663",
     "exception": false,
     "start_time": "2024-04-07T21:39:32.798706",
     "status": "completed"
    },
    "tags": []
   },
   "outputs": [],
   "source": [
    "#creating a new column to store the number of bedrooms that is derived from the type column\n",
    "df[\"bhk\"]=df[\"type\"].str.extract(r'(\\d+)').astype(int)"
   ]
  },
  {
   "cell_type": "code",
   "execution_count": 11,
   "id": "03272890",
   "metadata": {
    "execution": {
     "iopub.execute_input": "2024-04-07T21:39:32.880956Z",
     "iopub.status.busy": "2024-04-07T21:39:32.879544Z",
     "iopub.status.idle": "2024-04-07T21:39:32.897023Z",
     "shell.execute_reply": "2024-04-07T21:39:32.895731Z"
    },
    "papermill": {
     "duration": 0.039092,
     "end_time": "2024-04-07T21:39:32.899987",
     "exception": false,
     "start_time": "2024-04-07T21:39:32.860895",
     "status": "completed"
    },
    "scrolled": true,
    "tags": []
   },
   "outputs": [
    {
     "data": {
      "text/html": [
       "<div>\n",
       "<style scoped>\n",
       "    .dataframe tbody tr th:only-of-type {\n",
       "        vertical-align: middle;\n",
       "    }\n",
       "\n",
       "    .dataframe tbody tr th {\n",
       "        vertical-align: top;\n",
       "    }\n",
       "\n",
       "    .dataframe thead th {\n",
       "        text-align: right;\n",
       "    }\n",
       "</style>\n",
       "<table border=\"1\" class=\"dataframe\">\n",
       "  <thead>\n",
       "    <tr style=\"text-align: right;\">\n",
       "      <th></th>\n",
       "      <th>type</th>\n",
       "      <th>size</th>\n",
       "      <th>location</th>\n",
       "      <th>price</th>\n",
       "      <th>bath</th>\n",
       "      <th>balcony</th>\n",
       "      <th>status</th>\n",
       "      <th>bhk</th>\n",
       "    </tr>\n",
       "  </thead>\n",
       "  <tbody>\n",
       "    <tr>\n",
       "      <th>0</th>\n",
       "      <td>1 RK Studio Apartment</td>\n",
       "      <td>400 sq ft</td>\n",
       "      <td>Kalkaji</td>\n",
       "      <td>22000</td>\n",
       "      <td>1.0</td>\n",
       "      <td>NaN</td>\n",
       "      <td>Furnished</td>\n",
       "      <td>1</td>\n",
       "    </tr>\n",
       "    <tr>\n",
       "      <th>1</th>\n",
       "      <td>1 RK Studio Apartment</td>\n",
       "      <td>400 sq ft</td>\n",
       "      <td>Mansarover Garden</td>\n",
       "      <td>20000</td>\n",
       "      <td>1.0</td>\n",
       "      <td>NaN</td>\n",
       "      <td>Furnished</td>\n",
       "      <td>1</td>\n",
       "    </tr>\n",
       "    <tr>\n",
       "      <th>2</th>\n",
       "      <td>2 BHK Independent Floor</td>\n",
       "      <td>500 sq ft</td>\n",
       "      <td>Uttam Nagar</td>\n",
       "      <td>8500</td>\n",
       "      <td>1.0</td>\n",
       "      <td>NaN</td>\n",
       "      <td>Semi-Furnished</td>\n",
       "      <td>2</td>\n",
       "    </tr>\n",
       "    <tr>\n",
       "      <th>3</th>\n",
       "      <td>3 BHK Independent House</td>\n",
       "      <td>1,020 sq ft</td>\n",
       "      <td>Model Town</td>\n",
       "      <td>48000</td>\n",
       "      <td>3.0</td>\n",
       "      <td>NaN</td>\n",
       "      <td>Furnished</td>\n",
       "      <td>3</td>\n",
       "    </tr>\n",
       "    <tr>\n",
       "      <th>4</th>\n",
       "      <td>2 BHK Apartment</td>\n",
       "      <td>810 sq ft</td>\n",
       "      <td>Sector 13 Rohini</td>\n",
       "      <td>20000</td>\n",
       "      <td>2.0</td>\n",
       "      <td>NaN</td>\n",
       "      <td>Unfurnished</td>\n",
       "      <td>2</td>\n",
       "    </tr>\n",
       "  </tbody>\n",
       "</table>\n",
       "</div>"
      ],
      "text/plain": [
       "                       type         size           location  price  bath  \\\n",
       "0    1 RK Studio Apartment     400 sq ft            Kalkaji  22000   1.0   \n",
       "1    1 RK Studio Apartment     400 sq ft  Mansarover Garden  20000   1.0   \n",
       "2  2 BHK Independent Floor     500 sq ft        Uttam Nagar   8500   1.0   \n",
       "3  3 BHK Independent House   1,020 sq ft         Model Town  48000   3.0   \n",
       "4          2 BHK Apartment     810 sq ft   Sector 13 Rohini  20000   2.0   \n",
       "\n",
       "   balcony          status  bhk  \n",
       "0      NaN       Furnished    1  \n",
       "1      NaN       Furnished    1  \n",
       "2      NaN  Semi-Furnished    2  \n",
       "3      NaN       Furnished    3  \n",
       "4      NaN     Unfurnished    2  "
      ]
     },
     "execution_count": 11,
     "metadata": {},
     "output_type": "execute_result"
    }
   ],
   "source": [
    "df.head()"
   ]
  },
  {
   "cell_type": "markdown",
   "id": "34e1c427",
   "metadata": {
    "papermill": {
     "duration": 0.018216,
     "end_time": "2024-04-07T21:39:32.936841",
     "exception": false,
     "start_time": "2024-04-07T21:39:32.918625",
     "status": "completed"
    },
    "tags": []
   },
   "source": [
    "**The type column have so much data but it is all combined together i am creating new columns like Type and bhk to extract and store the data from the type column**"
   ]
  },
  {
   "cell_type": "code",
   "execution_count": 12,
   "id": "076f6eb8",
   "metadata": {
    "execution": {
     "iopub.execute_input": "2024-04-07T21:39:32.978714Z",
     "iopub.status.busy": "2024-04-07T21:39:32.978300Z",
     "iopub.status.idle": "2024-04-07T21:39:32.993241Z",
     "shell.execute_reply": "2024-04-07T21:39:32.992263Z"
    },
    "papermill": {
     "duration": 0.038171,
     "end_time": "2024-04-07T21:39:32.995423",
     "exception": false,
     "start_time": "2024-04-07T21:39:32.957252",
     "status": "completed"
    },
    "tags": []
   },
   "outputs": [],
   "source": [
    "df[\"Type\"]=df[\"type\"].str.split().str[-1]"
   ]
  },
  {
   "cell_type": "code",
   "execution_count": 13,
   "id": "7ea33227",
   "metadata": {
    "execution": {
     "iopub.execute_input": "2024-04-07T21:39:33.034840Z",
     "iopub.status.busy": "2024-04-07T21:39:33.033535Z",
     "iopub.status.idle": "2024-04-07T21:39:33.051490Z",
     "shell.execute_reply": "2024-04-07T21:39:33.050176Z"
    },
    "papermill": {
     "duration": 0.040743,
     "end_time": "2024-04-07T21:39:33.054444",
     "exception": false,
     "start_time": "2024-04-07T21:39:33.013701",
     "status": "completed"
    },
    "tags": []
   },
   "outputs": [
    {
     "data": {
      "text/html": [
       "<div>\n",
       "<style scoped>\n",
       "    .dataframe tbody tr th:only-of-type {\n",
       "        vertical-align: middle;\n",
       "    }\n",
       "\n",
       "    .dataframe tbody tr th {\n",
       "        vertical-align: top;\n",
       "    }\n",
       "\n",
       "    .dataframe thead th {\n",
       "        text-align: right;\n",
       "    }\n",
       "</style>\n",
       "<table border=\"1\" class=\"dataframe\">\n",
       "  <thead>\n",
       "    <tr style=\"text-align: right;\">\n",
       "      <th></th>\n",
       "      <th>type</th>\n",
       "      <th>size</th>\n",
       "      <th>location</th>\n",
       "      <th>price</th>\n",
       "      <th>bath</th>\n",
       "      <th>balcony</th>\n",
       "      <th>status</th>\n",
       "      <th>bhk</th>\n",
       "      <th>Type</th>\n",
       "    </tr>\n",
       "  </thead>\n",
       "  <tbody>\n",
       "    <tr>\n",
       "      <th>0</th>\n",
       "      <td>1 RK Studio Apartment</td>\n",
       "      <td>400 sq ft</td>\n",
       "      <td>Kalkaji</td>\n",
       "      <td>22000</td>\n",
       "      <td>1.0</td>\n",
       "      <td>NaN</td>\n",
       "      <td>Furnished</td>\n",
       "      <td>1</td>\n",
       "      <td>Apartment</td>\n",
       "    </tr>\n",
       "    <tr>\n",
       "      <th>1</th>\n",
       "      <td>1 RK Studio Apartment</td>\n",
       "      <td>400 sq ft</td>\n",
       "      <td>Mansarover Garden</td>\n",
       "      <td>20000</td>\n",
       "      <td>1.0</td>\n",
       "      <td>NaN</td>\n",
       "      <td>Furnished</td>\n",
       "      <td>1</td>\n",
       "      <td>Apartment</td>\n",
       "    </tr>\n",
       "    <tr>\n",
       "      <th>2</th>\n",
       "      <td>2 BHK Independent Floor</td>\n",
       "      <td>500 sq ft</td>\n",
       "      <td>Uttam Nagar</td>\n",
       "      <td>8500</td>\n",
       "      <td>1.0</td>\n",
       "      <td>NaN</td>\n",
       "      <td>Semi-Furnished</td>\n",
       "      <td>2</td>\n",
       "      <td>Floor</td>\n",
       "    </tr>\n",
       "    <tr>\n",
       "      <th>3</th>\n",
       "      <td>3 BHK Independent House</td>\n",
       "      <td>1,020 sq ft</td>\n",
       "      <td>Model Town</td>\n",
       "      <td>48000</td>\n",
       "      <td>3.0</td>\n",
       "      <td>NaN</td>\n",
       "      <td>Furnished</td>\n",
       "      <td>3</td>\n",
       "      <td>House</td>\n",
       "    </tr>\n",
       "    <tr>\n",
       "      <th>4</th>\n",
       "      <td>2 BHK Apartment</td>\n",
       "      <td>810 sq ft</td>\n",
       "      <td>Sector 13 Rohini</td>\n",
       "      <td>20000</td>\n",
       "      <td>2.0</td>\n",
       "      <td>NaN</td>\n",
       "      <td>Unfurnished</td>\n",
       "      <td>2</td>\n",
       "      <td>Apartment</td>\n",
       "    </tr>\n",
       "  </tbody>\n",
       "</table>\n",
       "</div>"
      ],
      "text/plain": [
       "                       type         size           location  price  bath  \\\n",
       "0    1 RK Studio Apartment     400 sq ft            Kalkaji  22000   1.0   \n",
       "1    1 RK Studio Apartment     400 sq ft  Mansarover Garden  20000   1.0   \n",
       "2  2 BHK Independent Floor     500 sq ft        Uttam Nagar   8500   1.0   \n",
       "3  3 BHK Independent House   1,020 sq ft         Model Town  48000   3.0   \n",
       "4          2 BHK Apartment     810 sq ft   Sector 13 Rohini  20000   2.0   \n",
       "\n",
       "   balcony          status  bhk       Type  \n",
       "0      NaN       Furnished    1  Apartment  \n",
       "1      NaN       Furnished    1  Apartment  \n",
       "2      NaN  Semi-Furnished    2      Floor  \n",
       "3      NaN       Furnished    3      House  \n",
       "4      NaN     Unfurnished    2  Apartment  "
      ]
     },
     "execution_count": 13,
     "metadata": {},
     "output_type": "execute_result"
    }
   ],
   "source": [
    "df.head()"
   ]
  },
  {
   "cell_type": "code",
   "execution_count": 14,
   "id": "69c26580",
   "metadata": {
    "execution": {
     "iopub.execute_input": "2024-04-07T21:39:33.093434Z",
     "iopub.status.busy": "2024-04-07T21:39:33.092955Z",
     "iopub.status.idle": "2024-04-07T21:39:33.101267Z",
     "shell.execute_reply": "2024-04-07T21:39:33.099892Z"
    },
    "papermill": {
     "duration": 0.030584,
     "end_time": "2024-04-07T21:39:33.103848",
     "exception": false,
     "start_time": "2024-04-07T21:39:33.073264",
     "status": "completed"
    },
    "tags": []
   },
   "outputs": [],
   "source": [
    "#since i have extracted all the data from type column i am droping it now \n",
    "df.drop(columns=[\"type\"],inplace=True)"
   ]
  },
  {
   "cell_type": "code",
   "execution_count": 15,
   "id": "bfb5c351",
   "metadata": {
    "execution": {
     "iopub.execute_input": "2024-04-07T21:39:33.143137Z",
     "iopub.status.busy": "2024-04-07T21:39:33.142405Z",
     "iopub.status.idle": "2024-04-07T21:39:33.159886Z",
     "shell.execute_reply": "2024-04-07T21:39:33.158597Z"
    },
    "papermill": {
     "duration": 0.040504,
     "end_time": "2024-04-07T21:39:33.162393",
     "exception": false,
     "start_time": "2024-04-07T21:39:33.121889",
     "status": "completed"
    },
    "tags": []
   },
   "outputs": [
    {
     "data": {
      "text/html": [
       "<div>\n",
       "<style scoped>\n",
       "    .dataframe tbody tr th:only-of-type {\n",
       "        vertical-align: middle;\n",
       "    }\n",
       "\n",
       "    .dataframe tbody tr th {\n",
       "        vertical-align: top;\n",
       "    }\n",
       "\n",
       "    .dataframe thead th {\n",
       "        text-align: right;\n",
       "    }\n",
       "</style>\n",
       "<table border=\"1\" class=\"dataframe\">\n",
       "  <thead>\n",
       "    <tr style=\"text-align: right;\">\n",
       "      <th></th>\n",
       "      <th>size</th>\n",
       "      <th>location</th>\n",
       "      <th>price</th>\n",
       "      <th>bath</th>\n",
       "      <th>balcony</th>\n",
       "      <th>status</th>\n",
       "      <th>bhk</th>\n",
       "      <th>Type</th>\n",
       "    </tr>\n",
       "  </thead>\n",
       "  <tbody>\n",
       "    <tr>\n",
       "      <th>0</th>\n",
       "      <td>400 sq ft</td>\n",
       "      <td>Kalkaji</td>\n",
       "      <td>22000</td>\n",
       "      <td>1.0</td>\n",
       "      <td>NaN</td>\n",
       "      <td>Furnished</td>\n",
       "      <td>1</td>\n",
       "      <td>Apartment</td>\n",
       "    </tr>\n",
       "    <tr>\n",
       "      <th>1</th>\n",
       "      <td>400 sq ft</td>\n",
       "      <td>Mansarover Garden</td>\n",
       "      <td>20000</td>\n",
       "      <td>1.0</td>\n",
       "      <td>NaN</td>\n",
       "      <td>Furnished</td>\n",
       "      <td>1</td>\n",
       "      <td>Apartment</td>\n",
       "    </tr>\n",
       "    <tr>\n",
       "      <th>2</th>\n",
       "      <td>500 sq ft</td>\n",
       "      <td>Uttam Nagar</td>\n",
       "      <td>8500</td>\n",
       "      <td>1.0</td>\n",
       "      <td>NaN</td>\n",
       "      <td>Semi-Furnished</td>\n",
       "      <td>2</td>\n",
       "      <td>Floor</td>\n",
       "    </tr>\n",
       "    <tr>\n",
       "      <th>3</th>\n",
       "      <td>1,020 sq ft</td>\n",
       "      <td>Model Town</td>\n",
       "      <td>48000</td>\n",
       "      <td>3.0</td>\n",
       "      <td>NaN</td>\n",
       "      <td>Furnished</td>\n",
       "      <td>3</td>\n",
       "      <td>House</td>\n",
       "    </tr>\n",
       "    <tr>\n",
       "      <th>4</th>\n",
       "      <td>810 sq ft</td>\n",
       "      <td>Sector 13 Rohini</td>\n",
       "      <td>20000</td>\n",
       "      <td>2.0</td>\n",
       "      <td>NaN</td>\n",
       "      <td>Unfurnished</td>\n",
       "      <td>2</td>\n",
       "      <td>Apartment</td>\n",
       "    </tr>\n",
       "  </tbody>\n",
       "</table>\n",
       "</div>"
      ],
      "text/plain": [
       "          size           location  price  bath  balcony          status  bhk  \\\n",
       "0    400 sq ft            Kalkaji  22000   1.0      NaN       Furnished    1   \n",
       "1    400 sq ft  Mansarover Garden  20000   1.0      NaN       Furnished    1   \n",
       "2    500 sq ft        Uttam Nagar   8500   1.0      NaN  Semi-Furnished    2   \n",
       "3  1,020 sq ft         Model Town  48000   3.0      NaN       Furnished    3   \n",
       "4    810 sq ft   Sector 13 Rohini  20000   2.0      NaN     Unfurnished    2   \n",
       "\n",
       "        Type  \n",
       "0  Apartment  \n",
       "1  Apartment  \n",
       "2      Floor  \n",
       "3      House  \n",
       "4  Apartment  "
      ]
     },
     "execution_count": 15,
     "metadata": {},
     "output_type": "execute_result"
    }
   ],
   "source": [
    "df.head()"
   ]
  },
  {
   "cell_type": "code",
   "execution_count": 16,
   "id": "abf57060",
   "metadata": {
    "execution": {
     "iopub.execute_input": "2024-04-07T21:39:33.201547Z",
     "iopub.status.busy": "2024-04-07T21:39:33.201018Z",
     "iopub.status.idle": "2024-04-07T21:39:33.222848Z",
     "shell.execute_reply": "2024-04-07T21:39:33.221828Z"
    },
    "papermill": {
     "duration": 0.044875,
     "end_time": "2024-04-07T21:39:33.225500",
     "exception": false,
     "start_time": "2024-04-07T21:39:33.180625",
     "status": "completed"
    },
    "tags": []
   },
   "outputs": [],
   "source": [
    "#extracting the numerical value from the size column\n",
    "df[\"Size\"]=df[\"size\"].str.extract(r'(\\d+)').astype(\"float\")"
   ]
  },
  {
   "cell_type": "markdown",
   "id": "a0f0d837",
   "metadata": {
    "papermill": {
     "duration": 0.018337,
     "end_time": "2024-04-07T21:39:33.262599",
     "exception": false,
     "start_time": "2024-04-07T21:39:33.244262",
     "status": "completed"
    },
    "tags": []
   },
   "source": [
    "*droping the size column*"
   ]
  },
  {
   "cell_type": "code",
   "execution_count": 17,
   "id": "0542fb80",
   "metadata": {
    "execution": {
     "iopub.execute_input": "2024-04-07T21:39:33.369020Z",
     "iopub.status.busy": "2024-04-07T21:39:33.367471Z",
     "iopub.status.idle": "2024-04-07T21:39:33.377479Z",
     "shell.execute_reply": "2024-04-07T21:39:33.375336Z"
    },
    "papermill": {
     "duration": 0.099841,
     "end_time": "2024-04-07T21:39:33.381039",
     "exception": false,
     "start_time": "2024-04-07T21:39:33.281198",
     "status": "completed"
    },
    "tags": []
   },
   "outputs": [],
   "source": [
    "df.drop(columns=[\"size\"],inplace=True)"
   ]
  },
  {
   "cell_type": "code",
   "execution_count": 18,
   "id": "085f2ed6",
   "metadata": {
    "execution": {
     "iopub.execute_input": "2024-04-07T21:39:33.428793Z",
     "iopub.status.busy": "2024-04-07T21:39:33.428147Z",
     "iopub.status.idle": "2024-04-07T21:39:33.449951Z",
     "shell.execute_reply": "2024-04-07T21:39:33.448385Z"
    },
    "papermill": {
     "duration": 0.048263,
     "end_time": "2024-04-07T21:39:33.452674",
     "exception": false,
     "start_time": "2024-04-07T21:39:33.404411",
     "status": "completed"
    },
    "tags": []
   },
   "outputs": [
    {
     "data": {
      "text/html": [
       "<div>\n",
       "<style scoped>\n",
       "    .dataframe tbody tr th:only-of-type {\n",
       "        vertical-align: middle;\n",
       "    }\n",
       "\n",
       "    .dataframe tbody tr th {\n",
       "        vertical-align: top;\n",
       "    }\n",
       "\n",
       "    .dataframe thead th {\n",
       "        text-align: right;\n",
       "    }\n",
       "</style>\n",
       "<table border=\"1\" class=\"dataframe\">\n",
       "  <thead>\n",
       "    <tr style=\"text-align: right;\">\n",
       "      <th></th>\n",
       "      <th>location</th>\n",
       "      <th>price</th>\n",
       "      <th>bath</th>\n",
       "      <th>balcony</th>\n",
       "      <th>status</th>\n",
       "      <th>bhk</th>\n",
       "      <th>Type</th>\n",
       "      <th>Size</th>\n",
       "    </tr>\n",
       "  </thead>\n",
       "  <tbody>\n",
       "    <tr>\n",
       "      <th>0</th>\n",
       "      <td>Kalkaji</td>\n",
       "      <td>22000</td>\n",
       "      <td>1.0</td>\n",
       "      <td>NaN</td>\n",
       "      <td>Furnished</td>\n",
       "      <td>1</td>\n",
       "      <td>Apartment</td>\n",
       "      <td>400.0</td>\n",
       "    </tr>\n",
       "    <tr>\n",
       "      <th>1</th>\n",
       "      <td>Mansarover Garden</td>\n",
       "      <td>20000</td>\n",
       "      <td>1.0</td>\n",
       "      <td>NaN</td>\n",
       "      <td>Furnished</td>\n",
       "      <td>1</td>\n",
       "      <td>Apartment</td>\n",
       "      <td>400.0</td>\n",
       "    </tr>\n",
       "    <tr>\n",
       "      <th>2</th>\n",
       "      <td>Uttam Nagar</td>\n",
       "      <td>8500</td>\n",
       "      <td>1.0</td>\n",
       "      <td>NaN</td>\n",
       "      <td>Semi-Furnished</td>\n",
       "      <td>2</td>\n",
       "      <td>Floor</td>\n",
       "      <td>500.0</td>\n",
       "    </tr>\n",
       "    <tr>\n",
       "      <th>3</th>\n",
       "      <td>Model Town</td>\n",
       "      <td>48000</td>\n",
       "      <td>3.0</td>\n",
       "      <td>NaN</td>\n",
       "      <td>Furnished</td>\n",
       "      <td>3</td>\n",
       "      <td>House</td>\n",
       "      <td>1.0</td>\n",
       "    </tr>\n",
       "    <tr>\n",
       "      <th>4</th>\n",
       "      <td>Sector 13 Rohini</td>\n",
       "      <td>20000</td>\n",
       "      <td>2.0</td>\n",
       "      <td>NaN</td>\n",
       "      <td>Unfurnished</td>\n",
       "      <td>2</td>\n",
       "      <td>Apartment</td>\n",
       "      <td>810.0</td>\n",
       "    </tr>\n",
       "  </tbody>\n",
       "</table>\n",
       "</div>"
      ],
      "text/plain": [
       "            location  price  bath  balcony          status  bhk       Type  \\\n",
       "0            Kalkaji  22000   1.0      NaN       Furnished    1  Apartment   \n",
       "1  Mansarover Garden  20000   1.0      NaN       Furnished    1  Apartment   \n",
       "2        Uttam Nagar   8500   1.0      NaN  Semi-Furnished    2      Floor   \n",
       "3         Model Town  48000   3.0      NaN       Furnished    3      House   \n",
       "4   Sector 13 Rohini  20000   2.0      NaN     Unfurnished    2  Apartment   \n",
       "\n",
       "    Size  \n",
       "0  400.0  \n",
       "1  400.0  \n",
       "2  500.0  \n",
       "3    1.0  \n",
       "4  810.0  "
      ]
     },
     "execution_count": 18,
     "metadata": {},
     "output_type": "execute_result"
    }
   ],
   "source": [
    "df.head()"
   ]
  },
  {
   "cell_type": "code",
   "execution_count": 19,
   "id": "2e0749dd",
   "metadata": {
    "execution": {
     "iopub.execute_input": "2024-04-07T21:39:33.494626Z",
     "iopub.status.busy": "2024-04-07T21:39:33.493678Z",
     "iopub.status.idle": "2024-04-07T21:39:33.508461Z",
     "shell.execute_reply": "2024-04-07T21:39:33.507493Z"
    },
    "papermill": {
     "duration": 0.039408,
     "end_time": "2024-04-07T21:39:33.511742",
     "exception": false,
     "start_time": "2024-04-07T21:39:33.472334",
     "status": "completed"
    },
    "tags": []
   },
   "outputs": [
    {
     "name": "stdout",
     "output_type": "stream",
     "text": [
      "<class 'pandas.core.frame.DataFrame'>\n",
      "RangeIndex: 5000 entries, 0 to 4999\n",
      "Data columns (total 8 columns):\n",
      " #   Column    Non-Null Count  Dtype  \n",
      "---  ------    --------------  -----  \n",
      " 0   location  5000 non-null   object \n",
      " 1   price     5000 non-null   int64  \n",
      " 2   bath      4975 non-null   float64\n",
      " 3   balcony   2737 non-null   float64\n",
      " 4   status    5000 non-null   object \n",
      " 5   bhk       5000 non-null   int64  \n",
      " 6   Type      5000 non-null   object \n",
      " 7   Size      5000 non-null   float64\n",
      "dtypes: float64(3), int64(2), object(3)\n",
      "memory usage: 312.6+ KB\n"
     ]
    }
   ],
   "source": [
    "df.info()"
   ]
  },
  {
   "cell_type": "markdown",
   "id": "b90fea3e",
   "metadata": {
    "papermill": {
     "duration": 0.022097,
     "end_time": "2024-04-07T21:39:33.560116",
     "exception": false,
     "start_time": "2024-04-07T21:39:33.538019",
     "status": "completed"
    },
    "tags": []
   },
   "source": [
    "**i am filling the null values in bath room and balcony with there corresponding bhk value as this make sense and i think it will be better than to fill it with mean**"
   ]
  },
  {
   "cell_type": "code",
   "execution_count": 20,
   "id": "5cdd195f",
   "metadata": {
    "execution": {
     "iopub.execute_input": "2024-04-07T21:39:33.603265Z",
     "iopub.status.busy": "2024-04-07T21:39:33.602126Z",
     "iopub.status.idle": "2024-04-07T21:39:33.611490Z",
     "shell.execute_reply": "2024-04-07T21:39:33.610261Z"
    },
    "papermill": {
     "duration": 0.0335,
     "end_time": "2024-04-07T21:39:33.614266",
     "exception": false,
     "start_time": "2024-04-07T21:39:33.580766",
     "status": "completed"
    },
    "tags": []
   },
   "outputs": [],
   "source": [
    "df[\"bath\"]=df[\"bath\"].fillna(df[\"bhk\"])\n",
    "df[\"balcony\"]=df[\"balcony\"].fillna(df[\"bhk\"])"
   ]
  },
  {
   "cell_type": "code",
   "execution_count": 21,
   "id": "28072b46",
   "metadata": {
    "execution": {
     "iopub.execute_input": "2024-04-07T21:39:33.654856Z",
     "iopub.status.busy": "2024-04-07T21:39:33.654314Z",
     "iopub.status.idle": "2024-04-07T21:39:33.983839Z",
     "shell.execute_reply": "2024-04-07T21:39:33.981818Z"
    },
    "papermill": {
     "duration": 0.35524,
     "end_time": "2024-04-07T21:39:33.988692",
     "exception": false,
     "start_time": "2024-04-07T21:39:33.633452",
     "status": "completed"
    },
    "tags": []
   },
   "outputs": [
    {
     "data": {
      "image/png": "[encoded data removed]",
      "text/plain": [
       "<Figure size 640x480 with 1 Axes>"
      ]
     },
     "metadata": {},
     "output_type": "display_data"
    }
   ],
   "source": [
    "#box plot for bhk column \n",
    "sns.set_style(\"whitegrid\")\n",
    "sns.boxplot(data=df, y='bhk')\n",
    "plt.title('Box Plot of Price')\n",
    "plt.ylabel('Price')\n",
    "plt.show()"
   ]
  },
  {
   "cell_type": "markdown",
   "id": "2a992749",
   "metadata": {
    "papermill": {
     "duration": 0.033869,
     "end_time": "2024-04-07T21:39:34.054531",
     "exception": false,
     "start_time": "2024-04-07T21:39:34.020662",
     "status": "completed"
    },
    "tags": []
   },
   "source": [
    "***both the columns have outliers specially price***"
   ]
  },
  {
   "cell_type": "code",
   "execution_count": 22,
   "id": "af84915f",
   "metadata": {
    "execution": {
     "iopub.execute_input": "2024-04-07T21:39:34.117943Z",
     "iopub.status.busy": "2024-04-07T21:39:34.117345Z",
     "iopub.status.idle": "2024-04-07T21:39:34.431571Z",
     "shell.execute_reply": "2024-04-07T21:39:34.430234Z"
    },
    "papermill": {
     "duration": 0.345724,
     "end_time": "2024-04-07T21:39:34.434257",
     "exception": false,
     "start_time": "2024-04-07T21:39:34.088533",
     "status": "completed"
    },
    "tags": []
   },
   "outputs": [
    {
     "data": {
      "image/png": "[encoded data removed]",
      "text/plain": [
       "<Figure size 1000x600 with 1 Axes>"
      ]
     },
     "metadata": {},
     "output_type": "display_data"
    }
   ],
   "source": [
    "#box plot for price column\n",
    "sns.set_style(\"whitegrid\")\n",
    "plt.figure(figsize=(10, 6))\n",
    "sns.boxplot(data=df, y='price')\n",
    "plt.title('Box Plot of Price')\n",
    "plt.ylabel('Price')\n",
    "plt.show()"
   ]
  },
  {
   "cell_type": "markdown",
   "id": "a431b455",
   "metadata": {
    "papermill": {
     "duration": 0.019729,
     "end_time": "2024-04-07T21:39:34.473996",
     "exception": false,
     "start_time": "2024-04-07T21:39:34.454267",
     "status": "completed"
    },
    "tags": []
   },
   "source": [
    "**I am removing the outliers in the price column first as it will remove most of the outliers from the bhk column also**"
   ]
  },
  {
   "cell_type": "code",
   "execution_count": 23,
   "id": "73170961",
   "metadata": {
    "execution": {
     "iopub.execute_input": "2024-04-07T21:39:34.518399Z",
     "iopub.status.busy": "2024-04-07T21:39:34.517599Z",
     "iopub.status.idle": "2024-04-07T21:39:34.528482Z",
     "shell.execute_reply": "2024-04-07T21:39:34.527583Z"
    },
    "papermill": {
     "duration": 0.035227,
     "end_time": "2024-04-07T21:39:34.531162",
     "exception": false,
     "start_time": "2024-04-07T21:39:34.495935",
     "status": "completed"
    },
    "tags": []
   },
   "outputs": [],
   "source": [
    "#remove the outliers\n",
    "q1=df[\"price\"].quantile(0.25)\n",
    "q3=df[\"price\"].quantile(0.75)\n",
    "\n",
    "iqr = q3 - q1\n",
    "\n",
    "lower_bound = q1 - 1.5*iqr\n",
    "upper_bound = q3 + 1.5*iqr\n",
    "outliers=(df[\"price\"] < lower_bound ) | (df[\"price\"] > upper_bound)\n",
    "df=df[~outliers]"
   ]
  },
  {
   "cell_type": "code",
   "execution_count": 24,
   "id": "ce2eed10",
   "metadata": {
    "execution": {
     "iopub.execute_input": "2024-04-07T21:39:34.574797Z",
     "iopub.status.busy": "2024-04-07T21:39:34.574007Z",
     "iopub.status.idle": "2024-04-07T21:39:34.862355Z",
     "shell.execute_reply": "2024-04-07T21:39:34.861214Z"
    },
    "papermill": {
     "duration": 0.31306,
     "end_time": "2024-04-07T21:39:34.865255",
     "exception": false,
     "start_time": "2024-04-07T21:39:34.552195",
     "status": "completed"
    },
    "tags": []
   },
   "outputs": [
    {
     "data": {
      "image/png": "[encoded data removed]",
      "text/plain": [
       "<Figure size 1000x600 with 1 Axes>"
      ]
     },
     "metadata": {},
     "output_type": "display_data"
    }
   ],
   "source": [
    "sns.set_style(\"whitegrid\")\n",
    "plt.figure(figsize=(10, 6))\n",
    "sns.boxplot(data=df, y='price')\n",
    "plt.title('Box Plot of Price')\n",
    "plt.ylabel('Price')\n",
    "plt.show()"
   ]
  },
  {
   "cell_type": "code",
   "execution_count": 25,
   "id": "f097de25",
   "metadata": {
    "execution": {
     "iopub.execute_input": "2024-04-07T21:39:34.908460Z",
     "iopub.status.busy": "2024-04-07T21:39:34.907994Z",
     "iopub.status.idle": "2024-04-07T21:39:35.217580Z",
     "shell.execute_reply": "2024-04-07T21:39:35.216495Z"
    },
    "papermill": {
     "duration": 0.334181,
     "end_time": "2024-04-07T21:39:35.220005",
     "exception": false,
     "start_time": "2024-04-07T21:39:34.885824",
     "status": "completed"
    },
    "tags": []
   },
   "outputs": [
    {
     "data": {
      "image/png": "[encoded data removed]",
      "text/plain": [
       "<Figure size 1000x600 with 1 Axes>"
      ]
     },
     "metadata": {},
     "output_type": "display_data"
    }
   ],
   "source": [
    "# let's see if removing outliers from price had any effect on bhk\n",
    "sns.set_style(\"whitegrid\")\n",
    "plt.figure(figsize=(10, 6))\n",
    "sns.boxplot(data=df, y='bhk')\n",
    "plt.title('Box Plot of Price')\n",
    "plt.ylabel('Price')\n",
    "plt.show()"
   ]
  },
  {
   "cell_type": "code",
   "execution_count": 26,
   "id": "d30ab889",
   "metadata": {
    "execution": {
     "iopub.execute_input": "2024-04-07T21:39:35.266927Z",
     "iopub.status.busy": "2024-04-07T21:39:35.265390Z",
     "iopub.status.idle": "2024-04-07T21:39:35.278160Z",
     "shell.execute_reply": "2024-04-07T21:39:35.277085Z"
    },
    "papermill": {
     "duration": 0.039068,
     "end_time": "2024-04-07T21:39:35.280940",
     "exception": false,
     "start_time": "2024-04-07T21:39:35.241872",
     "status": "completed"
    },
    "tags": []
   },
   "outputs": [
    {
     "data": {
      "text/plain": [
       "bhk\n",
       "3    1907\n",
       "4    1186\n",
       "2     753\n",
       "1     549\n",
       "5     397\n",
       "6       7\n",
       "8       2\n",
       "7       1\n",
       "9       1\n",
       "Name: count, dtype: int64"
      ]
     },
     "execution_count": 26,
     "metadata": {},
     "output_type": "execute_result"
    }
   ],
   "source": [
    "df[\"bhk\"].value_counts()"
   ]
  },
  {
   "cell_type": "code",
   "execution_count": 27,
   "id": "d3f49bf5",
   "metadata": {
    "execution": {
     "iopub.execute_input": "2024-04-07T21:39:35.326269Z",
     "iopub.status.busy": "2024-04-07T21:39:35.325365Z",
     "iopub.status.idle": "2024-04-07T21:39:35.333358Z",
     "shell.execute_reply": "2024-04-07T21:39:35.332193Z"
    },
    "papermill": {
     "duration": 0.03385,
     "end_time": "2024-04-07T21:39:35.336013",
     "exception": false,
     "start_time": "2024-04-07T21:39:35.302163",
     "status": "completed"
    },
    "tags": []
   },
   "outputs": [
    {
     "data": {
      "text/plain": [
       "(4803, 8)"
      ]
     },
     "execution_count": 27,
     "metadata": {},
     "output_type": "execute_result"
    }
   ],
   "source": [
    "df.shape"
   ]
  },
  {
   "cell_type": "code",
   "execution_count": 28,
   "id": "527a06cc",
   "metadata": {
    "execution": {
     "iopub.execute_input": "2024-04-07T21:39:35.384106Z",
     "iopub.status.busy": "2024-04-07T21:39:35.382891Z",
     "iopub.status.idle": "2024-04-07T21:39:35.406098Z",
     "shell.execute_reply": "2024-04-07T21:39:35.404809Z"
    },
    "papermill": {
     "duration": 0.050898,
     "end_time": "2024-04-07T21:39:35.408984",
     "exception": false,
     "start_time": "2024-04-07T21:39:35.358086",
     "status": "completed"
    },
    "tags": []
   },
   "outputs": [
    {
     "data": {
      "text/html": [
       "<div>\n",
       "<style scoped>\n",
       "    .dataframe tbody tr th:only-of-type {\n",
       "        vertical-align: middle;\n",
       "    }\n",
       "\n",
       "    .dataframe tbody tr th {\n",
       "        vertical-align: top;\n",
       "    }\n",
       "\n",
       "    .dataframe thead th {\n",
       "        text-align: right;\n",
       "    }\n",
       "</style>\n",
       "<table border=\"1\" class=\"dataframe\">\n",
       "  <thead>\n",
       "    <tr style=\"text-align: right;\">\n",
       "      <th></th>\n",
       "      <th>location</th>\n",
       "      <th>price</th>\n",
       "      <th>bath</th>\n",
       "      <th>balcony</th>\n",
       "      <th>status</th>\n",
       "      <th>bhk</th>\n",
       "      <th>Type</th>\n",
       "      <th>Size</th>\n",
       "    </tr>\n",
       "  </thead>\n",
       "  <tbody>\n",
       "    <tr>\n",
       "      <th>0</th>\n",
       "      <td>Kalkaji</td>\n",
       "      <td>22000</td>\n",
       "      <td>1.0</td>\n",
       "      <td>1.0</td>\n",
       "      <td>Furnished</td>\n",
       "      <td>1</td>\n",
       "      <td>Apartment</td>\n",
       "      <td>400.0</td>\n",
       "    </tr>\n",
       "    <tr>\n",
       "      <th>1</th>\n",
       "      <td>Mansarover Garden</td>\n",
       "      <td>20000</td>\n",
       "      <td>1.0</td>\n",
       "      <td>1.0</td>\n",
       "      <td>Furnished</td>\n",
       "      <td>1</td>\n",
       "      <td>Apartment</td>\n",
       "      <td>400.0</td>\n",
       "    </tr>\n",
       "    <tr>\n",
       "      <th>2</th>\n",
       "      <td>Uttam Nagar</td>\n",
       "      <td>8500</td>\n",
       "      <td>1.0</td>\n",
       "      <td>2.0</td>\n",
       "      <td>Semi-Furnished</td>\n",
       "      <td>2</td>\n",
       "      <td>Floor</td>\n",
       "      <td>500.0</td>\n",
       "    </tr>\n",
       "    <tr>\n",
       "      <th>3</th>\n",
       "      <td>Model Town</td>\n",
       "      <td>48000</td>\n",
       "      <td>3.0</td>\n",
       "      <td>3.0</td>\n",
       "      <td>Furnished</td>\n",
       "      <td>3</td>\n",
       "      <td>House</td>\n",
       "      <td>1.0</td>\n",
       "    </tr>\n",
       "    <tr>\n",
       "      <th>4</th>\n",
       "      <td>Sector 13 Rohini</td>\n",
       "      <td>20000</td>\n",
       "      <td>2.0</td>\n",
       "      <td>2.0</td>\n",
       "      <td>Unfurnished</td>\n",
       "      <td>2</td>\n",
       "      <td>Apartment</td>\n",
       "      <td>810.0</td>\n",
       "    </tr>\n",
       "  </tbody>\n",
       "</table>\n",
       "</div>"
      ],
      "text/plain": [
       "            location  price  bath  balcony          status  bhk       Type  \\\n",
       "0            Kalkaji  22000   1.0      1.0       Furnished    1  Apartment   \n",
       "1  Mansarover Garden  20000   1.0      1.0       Furnished    1  Apartment   \n",
       "2        Uttam Nagar   8500   1.0      2.0  Semi-Furnished    2      Floor   \n",
       "3         Model Town  48000   3.0      3.0       Furnished    3      House   \n",
       "4   Sector 13 Rohini  20000   2.0      2.0     Unfurnished    2  Apartment   \n",
       "\n",
       "    Size  \n",
       "0  400.0  \n",
       "1  400.0  \n",
       "2  500.0  \n",
       "3    1.0  \n",
       "4  810.0  "
      ]
     },
     "execution_count": 28,
     "metadata": {},
     "output_type": "execute_result"
    }
   ],
   "source": [
    "df.head()"
   ]
  },
  {
   "cell_type": "code",
   "execution_count": 29,
   "id": "4cf22c4d",
   "metadata": {
    "execution": {
     "iopub.execute_input": "2024-04-07T21:39:35.459609Z",
     "iopub.status.busy": "2024-04-07T21:39:35.458812Z",
     "iopub.status.idle": "2024-04-07T21:39:35.469635Z",
     "shell.execute_reply": "2024-04-07T21:39:35.468393Z"
    },
    "papermill": {
     "duration": 0.040096,
     "end_time": "2024-04-07T21:39:35.472250",
     "exception": false,
     "start_time": "2024-04-07T21:39:35.432154",
     "status": "completed"
    },
    "tags": []
   },
   "outputs": [
    {
     "data": {
      "text/plain": [
       "status\n",
       "Unfurnished       2155\n",
       "Semi-Furnished    1915\n",
       "Furnished          733\n",
       "Name: count, dtype: int64"
      ]
     },
     "execution_count": 29,
     "metadata": {},
     "output_type": "execute_result"
    }
   ],
   "source": [
    "df[\"status\"].value_counts()"
   ]
  },
  {
   "cell_type": "markdown",
   "id": "ad6f82bd",
   "metadata": {
    "papermill": {
     "duration": 0.022147,
     "end_time": "2024-04-07T21:39:35.516886",
     "exception": false,
     "start_time": "2024-04-07T21:39:35.494739",
     "status": "completed"
    },
    "tags": []
   },
   "source": [
    "**The Size column has missleading values that are totally incorrect it will be waste to handle this many outliers it will also affect my ml model so i am droping this column and insted of size bhk works just as good**"
   ]
  },
  {
   "cell_type": "code",
   "execution_count": 30,
   "id": "d38caea9",
   "metadata": {
    "execution": {
     "iopub.execute_input": "2024-04-07T21:39:35.567930Z",
     "iopub.status.busy": "2024-04-07T21:39:35.566916Z",
     "iopub.status.idle": "2024-04-07T21:39:35.859613Z",
     "shell.execute_reply": "2024-04-07T21:39:35.858323Z"
    },
    "papermill": {
     "duration": 0.322523,
     "end_time": "2024-04-07T21:39:35.862550",
     "exception": false,
     "start_time": "2024-04-07T21:39:35.540027",
     "status": "completed"
    },
    "tags": []
   },
   "outputs": [
    {
     "data": {
      "image/png": "[encoded data removed]",
      "text/plain": [
       "<Figure size 1000x600 with 1 Axes>"
      ]
     },
     "metadata": {},
     "output_type": "display_data"
    }
   ],
   "source": [
    "sns.set_style(\"whitegrid\")\n",
    "plt.figure(figsize=(10, 6))\n",
    "sns.boxplot(data=df, y='Size')\n",
    "plt.title('Box Plot of Price')\n",
    "plt.ylabel('Price')\n",
    "plt.show()"
   ]
  },
  {
   "cell_type": "code",
   "execution_count": 31,
   "id": "2a587fc2",
   "metadata": {
    "execution": {
     "iopub.execute_input": "2024-04-07T21:39:35.912391Z",
     "iopub.status.busy": "2024-04-07T21:39:35.911283Z",
     "iopub.status.idle": "2024-04-07T21:39:35.919618Z",
     "shell.execute_reply": "2024-04-07T21:39:35.918591Z"
    },
    "papermill": {
     "duration": 0.036396,
     "end_time": "2024-04-07T21:39:35.922538",
     "exception": false,
     "start_time": "2024-04-07T21:39:35.886142",
     "status": "completed"
    },
    "tags": []
   },
   "outputs": [],
   "source": [
    "df.drop(columns=[\"Size\"],inplace=True)"
   ]
  },
  {
   "cell_type": "code",
   "execution_count": 32,
   "id": "3605bc09",
   "metadata": {
    "execution": {
     "iopub.execute_input": "2024-04-07T21:39:35.971799Z",
     "iopub.status.busy": "2024-04-07T21:39:35.970299Z",
     "iopub.status.idle": "2024-04-07T21:39:35.988467Z",
     "shell.execute_reply": "2024-04-07T21:39:35.987245Z"
    },
    "papermill": {
     "duration": 0.045706,
     "end_time": "2024-04-07T21:39:35.991174",
     "exception": false,
     "start_time": "2024-04-07T21:39:35.945468",
     "status": "completed"
    },
    "tags": []
   },
   "outputs": [
    {
     "data": {
      "text/html": [
       "<div>\n",
       "<style scoped>\n",
       "    .dataframe tbody tr th:only-of-type {\n",
       "        vertical-align: middle;\n",
       "    }\n",
       "\n",
       "    .dataframe tbody tr th {\n",
       "        vertical-align: top;\n",
       "    }\n",
       "\n",
       "    .dataframe thead th {\n",
       "        text-align: right;\n",
       "    }\n",
       "</style>\n",
       "<table border=\"1\" class=\"dataframe\">\n",
       "  <thead>\n",
       "    <tr style=\"text-align: right;\">\n",
       "      <th></th>\n",
       "      <th>location</th>\n",
       "      <th>price</th>\n",
       "      <th>bath</th>\n",
       "      <th>balcony</th>\n",
       "      <th>status</th>\n",
       "      <th>bhk</th>\n",
       "      <th>Type</th>\n",
       "    </tr>\n",
       "  </thead>\n",
       "  <tbody>\n",
       "    <tr>\n",
       "      <th>0</th>\n",
       "      <td>Kalkaji</td>\n",
       "      <td>22000</td>\n",
       "      <td>1.0</td>\n",
       "      <td>1.0</td>\n",
       "      <td>Furnished</td>\n",
       "      <td>1</td>\n",
       "      <td>Apartment</td>\n",
       "    </tr>\n",
       "    <tr>\n",
       "      <th>1</th>\n",
       "      <td>Mansarover Garden</td>\n",
       "      <td>20000</td>\n",
       "      <td>1.0</td>\n",
       "      <td>1.0</td>\n",
       "      <td>Furnished</td>\n",
       "      <td>1</td>\n",
       "      <td>Apartment</td>\n",
       "    </tr>\n",
       "    <tr>\n",
       "      <th>2</th>\n",
       "      <td>Uttam Nagar</td>\n",
       "      <td>8500</td>\n",
       "      <td>1.0</td>\n",
       "      <td>2.0</td>\n",
       "      <td>Semi-Furnished</td>\n",
       "      <td>2</td>\n",
       "      <td>Floor</td>\n",
       "    </tr>\n",
       "    <tr>\n",
       "      <th>3</th>\n",
       "      <td>Model Town</td>\n",
       "      <td>48000</td>\n",
       "      <td>3.0</td>\n",
       "      <td>3.0</td>\n",
       "      <td>Furnished</td>\n",
       "      <td>3</td>\n",
       "      <td>House</td>\n",
       "    </tr>\n",
       "    <tr>\n",
       "      <th>4</th>\n",
       "      <td>Sector 13 Rohini</td>\n",
       "      <td>20000</td>\n",
       "      <td>2.0</td>\n",
       "      <td>2.0</td>\n",
       "      <td>Unfurnished</td>\n",
       "      <td>2</td>\n",
       "      <td>Apartment</td>\n",
       "    </tr>\n",
       "  </tbody>\n",
       "</table>\n",
       "</div>"
      ],
      "text/plain": [
       "            location  price  bath  balcony          status  bhk       Type\n",
       "0            Kalkaji  22000   1.0      1.0       Furnished    1  Apartment\n",
       "1  Mansarover Garden  20000   1.0      1.0       Furnished    1  Apartment\n",
       "2        Uttam Nagar   8500   1.0      2.0  Semi-Furnished    2      Floor\n",
       "3         Model Town  48000   3.0      3.0       Furnished    3      House\n",
       "4   Sector 13 Rohini  20000   2.0      2.0     Unfurnished    2  Apartment"
      ]
     },
     "execution_count": 32,
     "metadata": {},
     "output_type": "execute_result"
    }
   ],
   "source": [
    "df.head()"
   ]
  },
  {
   "cell_type": "code",
   "execution_count": 33,
   "id": "56466e43",
   "metadata": {
    "execution": {
     "iopub.execute_input": "2024-04-07T21:39:36.042760Z",
     "iopub.status.busy": "2024-04-07T21:39:36.041018Z",
     "iopub.status.idle": "2024-04-07T21:39:36.055104Z",
     "shell.execute_reply": "2024-04-07T21:39:36.053549Z"
    },
    "papermill": {
     "duration": 0.042908,
     "end_time": "2024-04-07T21:39:36.058573",
     "exception": false,
     "start_time": "2024-04-07T21:39:36.015665",
     "status": "completed"
    },
    "tags": []
   },
   "outputs": [
    {
     "data": {
      "text/plain": [
       "location\n",
       "Defence Colony        188\n",
       "Greater kailash 1     153\n",
       "Chattarpur            145\n",
       "Vasant Vihar          139\n",
       "Safdarjung Enclave    118\n",
       "                     ... \n",
       "Ansari Nagar West       1\n",
       "Sat Bari                1\n",
       "Kailash hills           1\n",
       "Soami Nagar             1\n",
       "dda flat                1\n",
       "Name: count, Length: 275, dtype: int64"
      ]
     },
     "execution_count": 33,
     "metadata": {},
     "output_type": "execute_result"
    }
   ],
   "source": [
    "df[\"location\"].value_counts()"
   ]
  },
  {
   "cell_type": "code",
   "execution_count": 34,
   "id": "3886d2f7",
   "metadata": {
    "execution": {
     "iopub.execute_input": "2024-04-07T21:39:36.109999Z",
     "iopub.status.busy": "2024-04-07T21:39:36.109234Z",
     "iopub.status.idle": "2024-04-07T21:39:36.473667Z",
     "shell.execute_reply": "2024-04-07T21:39:36.472545Z"
    },
    "papermill": {
     "duration": 0.392527,
     "end_time": "2024-04-07T21:39:36.476219",
     "exception": false,
     "start_time": "2024-04-07T21:39:36.083692",
     "status": "completed"
    },
    "tags": []
   },
   "outputs": [
    {
     "name": "stderr",
     "output_type": "stream",
     "text": [
      "/opt/conda/lib/python3.10/site-packages/seaborn/categorical.py:486: FutureWarning: Series.__getitem__ treating keys as positions is deprecated. In a future version, integer keys will always be treated as labels (consistent with DataFrame behavior). To access a value by position, use `ser.iloc[pos]`\n",
      "  if np.isscalar(data[0]):\n"
     ]
    },
    {
     "data": {
      "image/png": "[encoded data removed]",
      "text/plain": [
       "<Figure size 1200x600 with 1 Axes>"
      ]
     },
     "metadata": {},
     "output_type": "display_data"
    }
   ],
   "source": [
    "#barplot for location\n",
    "plt.figure(figsize=(12,6))\n",
    "sns.barplot(df[\"location\"].value_counts().head(10))\n",
    "plt.tight_layout()\n",
    "plt.show()"
   ]
  },
  {
   "cell_type": "code",
   "execution_count": 35,
   "id": "394063d7",
   "metadata": {
    "execution": {
     "iopub.execute_input": "2024-04-07T21:39:36.526418Z",
     "iopub.status.busy": "2024-04-07T21:39:36.525190Z",
     "iopub.status.idle": "2024-04-07T21:39:36.979463Z",
     "shell.execute_reply": "2024-04-07T21:39:36.978166Z"
    },
    "papermill": {
     "duration": 0.482725,
     "end_time": "2024-04-07T21:39:36.982533",
     "exception": false,
     "start_time": "2024-04-07T21:39:36.499808",
     "status": "completed"
    },
    "tags": []
   },
   "outputs": [
    {
     "data": {
      "text/html": [
       "<div>\n",
       "<style scoped>\n",
       "    .dataframe tbody tr th:only-of-type {\n",
       "        vertical-align: middle;\n",
       "    }\n",
       "\n",
       "    .dataframe tbody tr th {\n",
       "        vertical-align: top;\n",
       "    }\n",
       "\n",
       "    .dataframe thead th {\n",
       "        text-align: right;\n",
       "    }\n",
       "</style>\n",
       "<table border=\"1\" class=\"dataframe\">\n",
       "  <thead>\n",
       "    <tr style=\"text-align: right;\">\n",
       "      <th></th>\n",
       "      <th>location</th>\n",
       "      <th>count</th>\n",
       "      <th>mean</th>\n",
       "      <th>std</th>\n",
       "      <th>min</th>\n",
       "      <th>25%</th>\n",
       "      <th>50%</th>\n",
       "      <th>75%</th>\n",
       "      <th>max</th>\n",
       "    </tr>\n",
       "  </thead>\n",
       "  <tbody>\n",
       "    <tr>\n",
       "      <th>0</th>\n",
       "      <td>AGCR Enclave</td>\n",
       "      <td>2.0</td>\n",
       "      <td>42000.000000</td>\n",
       "      <td>0.000000</td>\n",
       "      <td>42000.0</td>\n",
       "      <td>42000.0</td>\n",
       "      <td>42000.0</td>\n",
       "      <td>42000.0</td>\n",
       "      <td>42000.0</td>\n",
       "    </tr>\n",
       "    <tr>\n",
       "      <th>1</th>\n",
       "      <td>Abul Fazal Enclave Jamia Nagar</td>\n",
       "      <td>3.0</td>\n",
       "      <td>14833.333333</td>\n",
       "      <td>1755.942292</td>\n",
       "      <td>13000.0</td>\n",
       "      <td>14000.0</td>\n",
       "      <td>15000.0</td>\n",
       "      <td>15750.0</td>\n",
       "      <td>16500.0</td>\n",
       "    </tr>\n",
       "    <tr>\n",
       "      <th>2</th>\n",
       "      <td>Ajmeri Gate</td>\n",
       "      <td>2.0</td>\n",
       "      <td>21000.000000</td>\n",
       "      <td>4242.640687</td>\n",
       "      <td>18000.0</td>\n",
       "      <td>19500.0</td>\n",
       "      <td>21000.0</td>\n",
       "      <td>22500.0</td>\n",
       "      <td>24000.0</td>\n",
       "    </tr>\n",
       "    <tr>\n",
       "      <th>3</th>\n",
       "      <td>Alaknanda</td>\n",
       "      <td>2.0</td>\n",
       "      <td>15500.000000</td>\n",
       "      <td>6363.961031</td>\n",
       "      <td>11000.0</td>\n",
       "      <td>13250.0</td>\n",
       "      <td>15500.0</td>\n",
       "      <td>17750.0</td>\n",
       "      <td>20000.0</td>\n",
       "    </tr>\n",
       "    <tr>\n",
       "      <th>4</th>\n",
       "      <td>Amritpuri</td>\n",
       "      <td>3.0</td>\n",
       "      <td>11000.000000</td>\n",
       "      <td>0.000000</td>\n",
       "      <td>11000.0</td>\n",
       "      <td>11000.0</td>\n",
       "      <td>11000.0</td>\n",
       "      <td>11000.0</td>\n",
       "      <td>11000.0</td>\n",
       "    </tr>\n",
       "    <tr>\n",
       "      <th>...</th>\n",
       "      <td>...</td>\n",
       "      <td>...</td>\n",
       "      <td>...</td>\n",
       "      <td>...</td>\n",
       "      <td>...</td>\n",
       "      <td>...</td>\n",
       "      <td>...</td>\n",
       "      <td>...</td>\n",
       "      <td>...</td>\n",
       "    </tr>\n",
       "    <tr>\n",
       "      <th>270</th>\n",
       "      <td>i p extension patparganj</td>\n",
       "      <td>5.0</td>\n",
       "      <td>20400.000000</td>\n",
       "      <td>3781.534080</td>\n",
       "      <td>18000.0</td>\n",
       "      <td>18000.0</td>\n",
       "      <td>19000.0</td>\n",
       "      <td>20000.0</td>\n",
       "      <td>27000.0</td>\n",
       "    </tr>\n",
       "    <tr>\n",
       "      <th>271</th>\n",
       "      <td>laxmi nagar</td>\n",
       "      <td>23.0</td>\n",
       "      <td>18130.434783</td>\n",
       "      <td>3850.080847</td>\n",
       "      <td>6500.0</td>\n",
       "      <td>20000.0</td>\n",
       "      <td>20000.0</td>\n",
       "      <td>20000.0</td>\n",
       "      <td>20000.0</td>\n",
       "    </tr>\n",
       "    <tr>\n",
       "      <th>272</th>\n",
       "      <td>masoodpur</td>\n",
       "      <td>2.0</td>\n",
       "      <td>28000.000000</td>\n",
       "      <td>9899.494937</td>\n",
       "      <td>21000.0</td>\n",
       "      <td>24500.0</td>\n",
       "      <td>28000.0</td>\n",
       "      <td>31500.0</td>\n",
       "      <td>35000.0</td>\n",
       "    </tr>\n",
       "    <tr>\n",
       "      <th>273</th>\n",
       "      <td>mayur vihar phase 1</td>\n",
       "      <td>9.0</td>\n",
       "      <td>27111.111111</td>\n",
       "      <td>10231.012223</td>\n",
       "      <td>13500.0</td>\n",
       "      <td>20000.0</td>\n",
       "      <td>24000.0</td>\n",
       "      <td>40000.0</td>\n",
       "      <td>40000.0</td>\n",
       "    </tr>\n",
       "    <tr>\n",
       "      <th>274</th>\n",
       "      <td>vikaspuri</td>\n",
       "      <td>9.0</td>\n",
       "      <td>23855.555556</td>\n",
       "      <td>19787.124040</td>\n",
       "      <td>14900.0</td>\n",
       "      <td>14900.0</td>\n",
       "      <td>17000.0</td>\n",
       "      <td>19000.0</td>\n",
       "      <td>76000.0</td>\n",
       "    </tr>\n",
       "  </tbody>\n",
       "</table>\n",
       "<p>275 rows × 9 columns</p>\n",
       "</div>"
      ],
      "text/plain": [
       "                           location  count          mean           std  \\\n",
       "0                      AGCR Enclave    2.0  42000.000000      0.000000   \n",
       "1    Abul Fazal Enclave Jamia Nagar    3.0  14833.333333   1755.942292   \n",
       "2                       Ajmeri Gate    2.0  21000.000000   4242.640687   \n",
       "3                         Alaknanda    2.0  15500.000000   6363.961031   \n",
       "4                         Amritpuri    3.0  11000.000000      0.000000   \n",
       "..                              ...    ...           ...           ...   \n",
       "270        i p extension patparganj    5.0  20400.000000   3781.534080   \n",
       "271                     laxmi nagar   23.0  18130.434783   3850.080847   \n",
       "272                       masoodpur    2.0  28000.000000   9899.494937   \n",
       "273             mayur vihar phase 1    9.0  27111.111111  10231.012223   \n",
       "274                       vikaspuri    9.0  23855.555556  19787.124040   \n",
       "\n",
       "         min      25%      50%      75%      max  \n",
       "0    42000.0  42000.0  42000.0  42000.0  42000.0  \n",
       "1    13000.0  14000.0  15000.0  15750.0  16500.0  \n",
       "2    18000.0  19500.0  21000.0  22500.0  24000.0  \n",
       "3    11000.0  13250.0  15500.0  17750.0  20000.0  \n",
       "4    11000.0  11000.0  11000.0  11000.0  11000.0  \n",
       "..       ...      ...      ...      ...      ...  \n",
       "270  18000.0  18000.0  19000.0  20000.0  27000.0  \n",
       "271   6500.0  20000.0  20000.0  20000.0  20000.0  \n",
       "272  21000.0  24500.0  28000.0  31500.0  35000.0  \n",
       "273  13500.0  20000.0  24000.0  40000.0  40000.0  \n",
       "274  14900.0  14900.0  17000.0  19000.0  76000.0  \n",
       "\n",
       "[275 rows x 9 columns]"
      ]
     },
     "execution_count": 35,
     "metadata": {},
     "output_type": "execute_result"
    }
   ],
   "source": [
    "df.groupby(\"location\").price.describe().reset_index()"
   ]
  },
  {
   "cell_type": "code",
   "execution_count": 36,
   "id": "ad37ae6e",
   "metadata": {
    "execution": {
     "iopub.execute_input": "2024-04-07T21:39:37.034511Z",
     "iopub.status.busy": "2024-04-07T21:39:37.033877Z",
     "iopub.status.idle": "2024-04-07T21:39:37.050578Z",
     "shell.execute_reply": "2024-04-07T21:39:37.049068Z"
    },
    "papermill": {
     "duration": 0.045499,
     "end_time": "2024-04-07T21:39:37.053312",
     "exception": false,
     "start_time": "2024-04-07T21:39:37.007813",
     "status": "completed"
    },
    "tags": []
   },
   "outputs": [
    {
     "data": {
      "text/plain": [
       "location\n",
       "Sector 34 Rohini         3600.000000\n",
       "dda flat                 4500.000000\n",
       "Santnagar                4999.000000\n",
       "Shakurpur Colony         5000.000000\n",
       "Burari                   5833.333333\n",
       "                           ...      \n",
       "Shanti Niketan         401820.880000\n",
       "Ghitorni               402639.021739\n",
       "Sainik Farm            420364.973333\n",
       "Sat Bari               600000.000000\n",
       "Vasant Kunj Enclave    700000.000000\n",
       "Name: price, Length: 275, dtype: float64"
      ]
     },
     "execution_count": 36,
     "metadata": {},
     "output_type": "execute_result"
    }
   ],
   "source": [
    "df.groupby(\"location\").price.mean().sort_values()"
   ]
  },
  {
   "cell_type": "code",
   "execution_count": 37,
   "id": "a3828a03",
   "metadata": {
    "execution": {
     "iopub.execute_input": "2024-04-07T21:39:37.104352Z",
     "iopub.status.busy": "2024-04-07T21:39:37.103944Z",
     "iopub.status.idle": "2024-04-07T21:39:37.669619Z",
     "shell.execute_reply": "2024-04-07T21:39:37.668152Z"
    },
    "papermill": {
     "duration": 0.595006,
     "end_time": "2024-04-07T21:39:37.672608",
     "exception": false,
     "start_time": "2024-04-07T21:39:37.077602",
     "status": "completed"
    },
    "tags": []
   },
   "outputs": [
    {
     "data": {
      "image/png": "[encoded data removed]",
      "text/plain": [
       "<Figure size 1200x600 with 1 Axes>"
      ]
     },
     "metadata": {},
     "output_type": "display_data"
    }
   ],
   "source": [
    "mean_prices = df.groupby('location')['price'].mean().reset_index().head(10)\n",
    "mean_prices_sorted = mean_prices.sort_values(by='price', ascending=False)\n",
    "plt.figure(figsize=(12, 6))\n",
    "sns.barplot(x='location', y='price', data=mean_prices_sorted)\n",
    "plt.title('Mean Price by Location')\n",
    "plt.xlabel('Location')\n",
    "plt.ylabel('Mean Price')\n",
    "plt.xticks(rotation=90)  # Rotate x-axis labels for better readability\n",
    "plt.tight_layout()\n",
    "plt.show()"
   ]
  },
  {
   "cell_type": "code",
   "execution_count": 38,
   "id": "14506510",
   "metadata": {
    "execution": {
     "iopub.execute_input": "2024-04-07T21:39:37.726293Z",
     "iopub.status.busy": "2024-04-07T21:39:37.725891Z",
     "iopub.status.idle": "2024-04-07T21:39:37.742333Z",
     "shell.execute_reply": "2024-04-07T21:39:37.740949Z"
    },
    "papermill": {
     "duration": 0.046729,
     "end_time": "2024-04-07T21:39:37.744957",
     "exception": false,
     "start_time": "2024-04-07T21:39:37.698228",
     "status": "completed"
    },
    "tags": []
   },
   "outputs": [
    {
     "data": {
      "text/html": [
       "<div>\n",
       "<style scoped>\n",
       "    .dataframe tbody tr th:only-of-type {\n",
       "        vertical-align: middle;\n",
       "    }\n",
       "\n",
       "    .dataframe tbody tr th {\n",
       "        vertical-align: top;\n",
       "    }\n",
       "\n",
       "    .dataframe thead th {\n",
       "        text-align: right;\n",
       "    }\n",
       "</style>\n",
       "<table border=\"1\" class=\"dataframe\">\n",
       "  <thead>\n",
       "    <tr style=\"text-align: right;\">\n",
       "      <th></th>\n",
       "      <th>location</th>\n",
       "      <th>price</th>\n",
       "      <th>bath</th>\n",
       "      <th>balcony</th>\n",
       "      <th>status</th>\n",
       "      <th>bhk</th>\n",
       "      <th>Type</th>\n",
       "    </tr>\n",
       "  </thead>\n",
       "  <tbody>\n",
       "    <tr>\n",
       "      <th>0</th>\n",
       "      <td>Kalkaji</td>\n",
       "      <td>22000</td>\n",
       "      <td>1.0</td>\n",
       "      <td>1.0</td>\n",
       "      <td>Furnished</td>\n",
       "      <td>1</td>\n",
       "      <td>Apartment</td>\n",
       "    </tr>\n",
       "    <tr>\n",
       "      <th>1</th>\n",
       "      <td>Mansarover Garden</td>\n",
       "      <td>20000</td>\n",
       "      <td>1.0</td>\n",
       "      <td>1.0</td>\n",
       "      <td>Furnished</td>\n",
       "      <td>1</td>\n",
       "      <td>Apartment</td>\n",
       "    </tr>\n",
       "    <tr>\n",
       "      <th>2</th>\n",
       "      <td>Uttam Nagar</td>\n",
       "      <td>8500</td>\n",
       "      <td>1.0</td>\n",
       "      <td>2.0</td>\n",
       "      <td>Semi-Furnished</td>\n",
       "      <td>2</td>\n",
       "      <td>Floor</td>\n",
       "    </tr>\n",
       "    <tr>\n",
       "      <th>3</th>\n",
       "      <td>Model Town</td>\n",
       "      <td>48000</td>\n",
       "      <td>3.0</td>\n",
       "      <td>3.0</td>\n",
       "      <td>Furnished</td>\n",
       "      <td>3</td>\n",
       "      <td>House</td>\n",
       "    </tr>\n",
       "    <tr>\n",
       "      <th>4</th>\n",
       "      <td>Sector 13 Rohini</td>\n",
       "      <td>20000</td>\n",
       "      <td>2.0</td>\n",
       "      <td>2.0</td>\n",
       "      <td>Unfurnished</td>\n",
       "      <td>2</td>\n",
       "      <td>Apartment</td>\n",
       "    </tr>\n",
       "  </tbody>\n",
       "</table>\n",
       "</div>"
      ],
      "text/plain": [
       "            location  price  bath  balcony          status  bhk       Type\n",
       "0            Kalkaji  22000   1.0      1.0       Furnished    1  Apartment\n",
       "1  Mansarover Garden  20000   1.0      1.0       Furnished    1  Apartment\n",
       "2        Uttam Nagar   8500   1.0      2.0  Semi-Furnished    2      Floor\n",
       "3         Model Town  48000   3.0      3.0       Furnished    3      House\n",
       "4   Sector 13 Rohini  20000   2.0      2.0     Unfurnished    2  Apartment"
      ]
     },
     "execution_count": 38,
     "metadata": {},
     "output_type": "execute_result"
    }
   ],
   "source": [
    "df.head()"
   ]
  },
  {
   "cell_type": "code",
   "execution_count": 39,
   "id": "6c507b83",
   "metadata": {
    "execution": {
     "iopub.execute_input": "2024-04-07T21:39:37.798887Z",
     "iopub.status.busy": "2024-04-07T21:39:37.798448Z",
     "iopub.status.idle": "2024-04-07T21:39:43.850186Z",
     "shell.execute_reply": "2024-04-07T21:39:43.848955Z"
    },
    "papermill": {
     "duration": 6.082641,
     "end_time": "2024-04-07T21:39:43.853785",
     "exception": false,
     "start_time": "2024-04-07T21:39:37.771144",
     "status": "completed"
    },
    "tags": []
   },
   "outputs": [
    {
     "name": "stderr",
     "output_type": "stream",
     "text": [
      "/opt/conda/lib/python3.10/site-packages/seaborn/_oldcore.py:1119: FutureWarning: use_inf_as_na option is deprecated and will be removed in a future version. Convert inf values to NaN before operating instead.\n",
      "  with pd.option_context('mode.use_inf_as_na', True):\n",
      "/opt/conda/lib/python3.10/site-packages/seaborn/_oldcore.py:1119: FutureWarning: use_inf_as_na option is deprecated and will be removed in a future version. Convert inf values to NaN before operating instead.\n",
      "  with pd.option_context('mode.use_inf_as_na', True):\n",
      "/opt/conda/lib/python3.10/site-packages/seaborn/_oldcore.py:1119: FutureWarning: use_inf_as_na option is deprecated and will be removed in a future version. Convert inf values to NaN before operating instead.\n",
      "  with pd.option_context('mode.use_inf_as_na', True):\n",
      "/opt/conda/lib/python3.10/site-packages/seaborn/_oldcore.py:1119: FutureWarning: use_inf_as_na option is deprecated and will be removed in a future version. Convert inf values to NaN before operating instead.\n",
      "  with pd.option_context('mode.use_inf_as_na', True):\n"
     ]
    },
    {
     "data": {
      "image/png": "[encoded data removed]",
      "text/plain": [
       "<Figure size 1000x1000 with 20 Axes>"
      ]
     },
     "metadata": {},
     "output_type": "display_data"
    }
   ],
   "source": [
    "sns.pairplot(df)\n",
    "plt.show()"
   ]
  },
  {
   "cell_type": "code",
   "execution_count": 40,
   "id": "51ae7440",
   "metadata": {
    "execution": {
     "iopub.execute_input": "2024-04-07T21:39:43.912710Z",
     "iopub.status.busy": "2024-04-07T21:39:43.911222Z",
     "iopub.status.idle": "2024-04-07T21:39:44.343746Z",
     "shell.execute_reply": "2024-04-07T21:39:44.342725Z"
    },
    "papermill": {
     "duration": 0.464651,
     "end_time": "2024-04-07T21:39:44.346504",
     "exception": false,
     "start_time": "2024-04-07T21:39:43.881853",
     "status": "completed"
    },
    "tags": []
   },
   "outputs": [
    {
     "data": {
      "image/png": "[encoded data removed]",
      "text/plain": [
       "<Figure size 640x480 with 2 Axes>"
      ]
     },
     "metadata": {},
     "output_type": "display_data"
    }
   ],
   "source": [
    "numerical_columns = df.select_dtypes(include=['int64', 'float64','int'])\n",
    "correlation_matrix = numerical_columns.corr()\n",
    "sns.heatmap(correlation_matrix, annot=True, cmap='coolwarm', fmt=\".2f\")\n",
    "plt.title('Correlation Heatmap')\n",
    "plt.show()"
   ]
  },
  {
   "cell_type": "code",
   "execution_count": 41,
   "id": "4ad075db",
   "metadata": {
    "execution": {
     "iopub.execute_input": "2024-04-07T21:39:44.406566Z",
     "iopub.status.busy": "2024-04-07T21:39:44.406109Z",
     "iopub.status.idle": "2024-04-07T21:39:44.879429Z",
     "shell.execute_reply": "2024-04-07T21:39:44.878012Z"
    },
    "papermill": {
     "duration": 0.507341,
     "end_time": "2024-04-07T21:39:44.882771",
     "exception": false,
     "start_time": "2024-04-07T21:39:44.375430",
     "status": "completed"
    },
    "tags": []
   },
   "outputs": [
    {
     "name": "stderr",
     "output_type": "stream",
     "text": [
      "/opt/conda/lib/python3.10/site-packages/seaborn/_oldcore.py:1119: FutureWarning: use_inf_as_na option is deprecated and will be removed in a future version. Convert inf values to NaN before operating instead.\n",
      "  with pd.option_context('mode.use_inf_as_na', True):\n"
     ]
    },
    {
     "data": {
      "image/png": "[encoded data removed]",
      "text/plain": [
       "<Figure size 1200x600 with 1 Axes>"
      ]
     },
     "metadata": {},
     "output_type": "display_data"
    }
   ],
   "source": [
    "plt.figure(figsize=(12,6))\n",
    "sns.histplot(df[\"price\"],bins=50)\n",
    "plt.show()"
   ]
  },
  {
   "cell_type": "code",
   "execution_count": 42,
   "id": "35b65c60",
   "metadata": {
    "execution": {
     "iopub.execute_input": "2024-04-07T21:39:44.944495Z",
     "iopub.status.busy": "2024-04-07T21:39:44.943970Z",
     "iopub.status.idle": "2024-04-07T21:39:44.957107Z",
     "shell.execute_reply": "2024-04-07T21:39:44.955630Z"
    },
    "papermill": {
     "duration": 0.046889,
     "end_time": "2024-04-07T21:39:44.960133",
     "exception": false,
     "start_time": "2024-04-07T21:39:44.913244",
     "status": "completed"
    },
    "tags": []
   },
   "outputs": [],
   "source": [
    "from sklearn.preprocessing import MinMaxScaler\n",
    "sc = MinMaxScaler()\n",
    "numerical_columns = [\"price\"]\n",
    "df[numerical_columns] = sc.fit_transform(df[numerical_columns])"
   ]
  },
  {
   "cell_type": "code",
   "execution_count": 43,
   "id": "fff685ee",
   "metadata": {
    "execution": {
     "iopub.execute_input": "2024-04-07T21:39:45.021166Z",
     "iopub.status.busy": "2024-04-07T21:39:45.020363Z",
     "iopub.status.idle": "2024-04-07T21:39:45.037325Z",
     "shell.execute_reply": "2024-04-07T21:39:45.036001Z"
    },
    "papermill": {
     "duration": 0.050958,
     "end_time": "2024-04-07T21:39:45.040395",
     "exception": false,
     "start_time": "2024-04-07T21:39:44.989437",
     "status": "completed"
    },
    "tags": []
   },
   "outputs": [
    {
     "data": {
      "text/html": [
       "<div>\n",
       "<style scoped>\n",
       "    .dataframe tbody tr th:only-of-type {\n",
       "        vertical-align: middle;\n",
       "    }\n",
       "\n",
       "    .dataframe tbody tr th {\n",
       "        vertical-align: top;\n",
       "    }\n",
       "\n",
       "    .dataframe thead th {\n",
       "        text-align: right;\n",
       "    }\n",
       "</style>\n",
       "<table border=\"1\" class=\"dataframe\">\n",
       "  <thead>\n",
       "    <tr style=\"text-align: right;\">\n",
       "      <th></th>\n",
       "      <th>location</th>\n",
       "      <th>price</th>\n",
       "      <th>bath</th>\n",
       "      <th>balcony</th>\n",
       "      <th>status</th>\n",
       "      <th>bhk</th>\n",
       "      <th>Type</th>\n",
       "    </tr>\n",
       "  </thead>\n",
       "  <tbody>\n",
       "    <tr>\n",
       "      <th>0</th>\n",
       "      <td>Kalkaji</td>\n",
       "      <td>0.027088</td>\n",
       "      <td>1.0</td>\n",
       "      <td>1.0</td>\n",
       "      <td>Furnished</td>\n",
       "      <td>1</td>\n",
       "      <td>Apartment</td>\n",
       "    </tr>\n",
       "    <tr>\n",
       "      <th>1</th>\n",
       "      <td>Mansarover Garden</td>\n",
       "      <td>0.024237</td>\n",
       "      <td>1.0</td>\n",
       "      <td>1.0</td>\n",
       "      <td>Furnished</td>\n",
       "      <td>1</td>\n",
       "      <td>Apartment</td>\n",
       "    </tr>\n",
       "    <tr>\n",
       "      <th>2</th>\n",
       "      <td>Uttam Nagar</td>\n",
       "      <td>0.007841</td>\n",
       "      <td>1.0</td>\n",
       "      <td>2.0</td>\n",
       "      <td>Semi-Furnished</td>\n",
       "      <td>2</td>\n",
       "      <td>Floor</td>\n",
       "    </tr>\n",
       "    <tr>\n",
       "      <th>3</th>\n",
       "      <td>Model Town</td>\n",
       "      <td>0.064157</td>\n",
       "      <td>3.0</td>\n",
       "      <td>3.0</td>\n",
       "      <td>Furnished</td>\n",
       "      <td>3</td>\n",
       "      <td>House</td>\n",
       "    </tr>\n",
       "    <tr>\n",
       "      <th>4</th>\n",
       "      <td>Sector 13 Rohini</td>\n",
       "      <td>0.024237</td>\n",
       "      <td>2.0</td>\n",
       "      <td>2.0</td>\n",
       "      <td>Unfurnished</td>\n",
       "      <td>2</td>\n",
       "      <td>Apartment</td>\n",
       "    </tr>\n",
       "  </tbody>\n",
       "</table>\n",
       "</div>"
      ],
      "text/plain": [
       "            location     price  bath  balcony          status  bhk       Type\n",
       "0            Kalkaji  0.027088   1.0      1.0       Furnished    1  Apartment\n",
       "1  Mansarover Garden  0.024237   1.0      1.0       Furnished    1  Apartment\n",
       "2        Uttam Nagar  0.007841   1.0      2.0  Semi-Furnished    2      Floor\n",
       "3         Model Town  0.064157   3.0      3.0       Furnished    3      House\n",
       "4   Sector 13 Rohini  0.024237   2.0      2.0     Unfurnished    2  Apartment"
      ]
     },
     "execution_count": 43,
     "metadata": {},
     "output_type": "execute_result"
    }
   ],
   "source": [
    "df.head()"
   ]
  },
  {
   "cell_type": "code",
   "execution_count": 44,
   "id": "c63edbac",
   "metadata": {
    "execution": {
     "iopub.execute_input": "2024-04-07T21:39:45.106144Z",
     "iopub.status.busy": "2024-04-07T21:39:45.105686Z",
     "iopub.status.idle": "2024-04-07T21:39:45.116370Z",
     "shell.execute_reply": "2024-04-07T21:39:45.114930Z"
    },
    "papermill": {
     "duration": 0.046721,
     "end_time": "2024-04-07T21:39:45.118982",
     "exception": false,
     "start_time": "2024-04-07T21:39:45.072261",
     "status": "completed"
    },
    "tags": []
   },
   "outputs": [],
   "source": [
    "location_freq = df['location'].value_counts(normalize=True).to_dict()\n",
    "df['location_freq'] = df['location'].map(location_freq)"
   ]
  },
  {
   "cell_type": "code",
   "execution_count": 45,
   "id": "9fdd8135",
   "metadata": {
    "execution": {
     "iopub.execute_input": "2024-04-07T21:39:45.182321Z",
     "iopub.status.busy": "2024-04-07T21:39:45.181908Z",
     "iopub.status.idle": "2024-04-07T21:39:45.198764Z",
     "shell.execute_reply": "2024-04-07T21:39:45.197865Z"
    },
    "papermill": {
     "duration": 0.051982,
     "end_time": "2024-04-07T21:39:45.201426",
     "exception": false,
     "start_time": "2024-04-07T21:39:45.149444",
     "status": "completed"
    },
    "tags": []
   },
   "outputs": [
    {
     "data": {
      "text/html": [
       "<div>\n",
       "<style scoped>\n",
       "    .dataframe tbody tr th:only-of-type {\n",
       "        vertical-align: middle;\n",
       "    }\n",
       "\n",
       "    .dataframe tbody tr th {\n",
       "        vertical-align: top;\n",
       "    }\n",
       "\n",
       "    .dataframe thead th {\n",
       "        text-align: right;\n",
       "    }\n",
       "</style>\n",
       "<table border=\"1\" class=\"dataframe\">\n",
       "  <thead>\n",
       "    <tr style=\"text-align: right;\">\n",
       "      <th></th>\n",
       "      <th>location</th>\n",
       "      <th>price</th>\n",
       "      <th>bath</th>\n",
       "      <th>balcony</th>\n",
       "      <th>status</th>\n",
       "      <th>bhk</th>\n",
       "      <th>Type</th>\n",
       "      <th>location_freq</th>\n",
       "    </tr>\n",
       "  </thead>\n",
       "  <tbody>\n",
       "    <tr>\n",
       "      <th>0</th>\n",
       "      <td>Kalkaji</td>\n",
       "      <td>0.027088</td>\n",
       "      <td>1.0</td>\n",
       "      <td>1.0</td>\n",
       "      <td>Furnished</td>\n",
       "      <td>1</td>\n",
       "      <td>Apartment</td>\n",
       "      <td>0.005621</td>\n",
       "    </tr>\n",
       "    <tr>\n",
       "      <th>1</th>\n",
       "      <td>Mansarover Garden</td>\n",
       "      <td>0.024237</td>\n",
       "      <td>1.0</td>\n",
       "      <td>1.0</td>\n",
       "      <td>Furnished</td>\n",
       "      <td>1</td>\n",
       "      <td>Apartment</td>\n",
       "      <td>0.001874</td>\n",
       "    </tr>\n",
       "    <tr>\n",
       "      <th>2</th>\n",
       "      <td>Uttam Nagar</td>\n",
       "      <td>0.007841</td>\n",
       "      <td>1.0</td>\n",
       "      <td>2.0</td>\n",
       "      <td>Semi-Furnished</td>\n",
       "      <td>2</td>\n",
       "      <td>Floor</td>\n",
       "      <td>0.015615</td>\n",
       "    </tr>\n",
       "    <tr>\n",
       "      <th>3</th>\n",
       "      <td>Model Town</td>\n",
       "      <td>0.064157</td>\n",
       "      <td>3.0</td>\n",
       "      <td>3.0</td>\n",
       "      <td>Furnished</td>\n",
       "      <td>3</td>\n",
       "      <td>House</td>\n",
       "      <td>0.001874</td>\n",
       "    </tr>\n",
       "    <tr>\n",
       "      <th>4</th>\n",
       "      <td>Sector 13 Rohini</td>\n",
       "      <td>0.024237</td>\n",
       "      <td>2.0</td>\n",
       "      <td>2.0</td>\n",
       "      <td>Unfurnished</td>\n",
       "      <td>2</td>\n",
       "      <td>Apartment</td>\n",
       "      <td>0.000833</td>\n",
       "    </tr>\n",
       "  </tbody>\n",
       "</table>\n",
       "</div>"
      ],
      "text/plain": [
       "            location     price  bath  balcony          status  bhk       Type  \\\n",
       "0            Kalkaji  0.027088   1.0      1.0       Furnished    1  Apartment   \n",
       "1  Mansarover Garden  0.024237   1.0      1.0       Furnished    1  Apartment   \n",
       "2        Uttam Nagar  0.007841   1.0      2.0  Semi-Furnished    2      Floor   \n",
       "3         Model Town  0.064157   3.0      3.0       Furnished    3      House   \n",
       "4   Sector 13 Rohini  0.024237   2.0      2.0     Unfurnished    2  Apartment   \n",
       "\n",
       "   location_freq  \n",
       "0       0.005621  \n",
       "1       0.001874  \n",
       "2       0.015615  \n",
       "3       0.001874  \n",
       "4       0.000833  "
      ]
     },
     "execution_count": 45,
     "metadata": {},
     "output_type": "execute_result"
    }
   ],
   "source": [
    "df.head()"
   ]
  },
  {
   "cell_type": "code",
   "execution_count": 46,
   "id": "ccfaceb0",
   "metadata": {
    "execution": {
     "iopub.execute_input": "2024-04-07T21:39:45.266555Z",
     "iopub.status.busy": "2024-04-07T21:39:45.266088Z",
     "iopub.status.idle": "2024-04-07T21:39:45.272231Z",
     "shell.execute_reply": "2024-04-07T21:39:45.271229Z"
    },
    "papermill": {
     "duration": 0.042516,
     "end_time": "2024-04-07T21:39:45.274464",
     "exception": false,
     "start_time": "2024-04-07T21:39:45.231948",
     "status": "completed"
    },
    "tags": []
   },
   "outputs": [],
   "source": [
    "df.drop(columns=[\"location\"],inplace=True)"
   ]
  },
  {
   "cell_type": "code",
   "execution_count": 47,
   "id": "17147751",
   "metadata": {
    "execution": {
     "iopub.execute_input": "2024-04-07T21:39:45.340101Z",
     "iopub.status.busy": "2024-04-07T21:39:45.339706Z",
     "iopub.status.idle": "2024-04-07T21:39:45.354873Z",
     "shell.execute_reply": "2024-04-07T21:39:45.353999Z"
    },
    "papermill": {
     "duration": 0.051567,
     "end_time": "2024-04-07T21:39:45.357144",
     "exception": false,
     "start_time": "2024-04-07T21:39:45.305577",
     "status": "completed"
    },
    "tags": []
   },
   "outputs": [
    {
     "data": {
      "text/html": [
       "<div>\n",
       "<style scoped>\n",
       "    .dataframe tbody tr th:only-of-type {\n",
       "        vertical-align: middle;\n",
       "    }\n",
       "\n",
       "    .dataframe tbody tr th {\n",
       "        vertical-align: top;\n",
       "    }\n",
       "\n",
       "    .dataframe thead th {\n",
       "        text-align: right;\n",
       "    }\n",
       "</style>\n",
       "<table border=\"1\" class=\"dataframe\">\n",
       "  <thead>\n",
       "    <tr style=\"text-align: right;\">\n",
       "      <th></th>\n",
       "      <th>price</th>\n",
       "      <th>bath</th>\n",
       "      <th>balcony</th>\n",
       "      <th>status</th>\n",
       "      <th>bhk</th>\n",
       "      <th>Type</th>\n",
       "      <th>location_freq</th>\n",
       "    </tr>\n",
       "  </thead>\n",
       "  <tbody>\n",
       "    <tr>\n",
       "      <th>0</th>\n",
       "      <td>0.027088</td>\n",
       "      <td>1.0</td>\n",
       "      <td>1.0</td>\n",
       "      <td>Furnished</td>\n",
       "      <td>1</td>\n",
       "      <td>Apartment</td>\n",
       "      <td>0.005621</td>\n",
       "    </tr>\n",
       "    <tr>\n",
       "      <th>1</th>\n",
       "      <td>0.024237</td>\n",
       "      <td>1.0</td>\n",
       "      <td>1.0</td>\n",
       "      <td>Furnished</td>\n",
       "      <td>1</td>\n",
       "      <td>Apartment</td>\n",
       "      <td>0.001874</td>\n",
       "    </tr>\n",
       "    <tr>\n",
       "      <th>2</th>\n",
       "      <td>0.007841</td>\n",
       "      <td>1.0</td>\n",
       "      <td>2.0</td>\n",
       "      <td>Semi-Furnished</td>\n",
       "      <td>2</td>\n",
       "      <td>Floor</td>\n",
       "      <td>0.015615</td>\n",
       "    </tr>\n",
       "    <tr>\n",
       "      <th>3</th>\n",
       "      <td>0.064157</td>\n",
       "      <td>3.0</td>\n",
       "      <td>3.0</td>\n",
       "      <td>Furnished</td>\n",
       "      <td>3</td>\n",
       "      <td>House</td>\n",
       "      <td>0.001874</td>\n",
       "    </tr>\n",
       "    <tr>\n",
       "      <th>4</th>\n",
       "      <td>0.024237</td>\n",
       "      <td>2.0</td>\n",
       "      <td>2.0</td>\n",
       "      <td>Unfurnished</td>\n",
       "      <td>2</td>\n",
       "      <td>Apartment</td>\n",
       "      <td>0.000833</td>\n",
       "    </tr>\n",
       "  </tbody>\n",
       "</table>\n",
       "</div>"
      ],
      "text/plain": [
       "      price  bath  balcony          status  bhk       Type  location_freq\n",
       "0  0.027088   1.0      1.0       Furnished    1  Apartment       0.005621\n",
       "1  0.024237   1.0      1.0       Furnished    1  Apartment       0.001874\n",
       "2  0.007841   1.0      2.0  Semi-Furnished    2      Floor       0.015615\n",
       "3  0.064157   3.0      3.0       Furnished    3      House       0.001874\n",
       "4  0.024237   2.0      2.0     Unfurnished    2  Apartment       0.000833"
      ]
     },
     "execution_count": 47,
     "metadata": {},
     "output_type": "execute_result"
    }
   ],
   "source": [
    "df.head()"
   ]
  },
  {
   "cell_type": "code",
   "execution_count": 48,
   "id": "e533dbe4",
   "metadata": {
    "execution": {
     "iopub.execute_input": "2024-04-07T21:39:45.421198Z",
     "iopub.status.busy": "2024-04-07T21:39:45.420753Z",
     "iopub.status.idle": "2024-04-07T21:39:45.430991Z",
     "shell.execute_reply": "2024-04-07T21:39:45.429771Z"
    },
    "papermill": {
     "duration": 0.045798,
     "end_time": "2024-04-07T21:39:45.433970",
     "exception": false,
     "start_time": "2024-04-07T21:39:45.388172",
     "status": "completed"
    },
    "tags": []
   },
   "outputs": [
    {
     "data": {
      "text/plain": [
       "3"
      ]
     },
     "execution_count": 48,
     "metadata": {},
     "output_type": "execute_result"
    }
   ],
   "source": [
    "df[\"status\"].nunique()"
   ]
  },
  {
   "cell_type": "code",
   "execution_count": 49,
   "id": "35362c7f",
   "metadata": {
    "execution": {
     "iopub.execute_input": "2024-04-07T21:39:45.496492Z",
     "iopub.status.busy": "2024-04-07T21:39:45.496038Z",
     "iopub.status.idle": "2024-04-07T21:39:45.508948Z",
     "shell.execute_reply": "2024-04-07T21:39:45.507628Z"
    },
    "papermill": {
     "duration": 0.04739,
     "end_time": "2024-04-07T21:39:45.511659",
     "exception": false,
     "start_time": "2024-04-07T21:39:45.464269",
     "status": "completed"
    },
    "tags": []
   },
   "outputs": [],
   "source": [
    "df['status'] = df['status'].astype('category')\n",
    "df = pd.get_dummies(df, columns=['status'], prefix='status')"
   ]
  },
  {
   "cell_type": "code",
   "execution_count": 50,
   "id": "c7388dae",
   "metadata": {
    "execution": {
     "iopub.execute_input": "2024-04-07T21:39:45.576572Z",
     "iopub.status.busy": "2024-04-07T21:39:45.576055Z",
     "iopub.status.idle": "2024-04-07T21:39:45.594942Z",
     "shell.execute_reply": "2024-04-07T21:39:45.593635Z"
    },
    "papermill": {
     "duration": 0.054009,
     "end_time": "2024-04-07T21:39:45.597315",
     "exception": false,
     "start_time": "2024-04-07T21:39:45.543306",
     "status": "completed"
    },
    "tags": []
   },
   "outputs": [
    {
     "data": {
      "text/html": [
       "<div>\n",
       "<style scoped>\n",
       "    .dataframe tbody tr th:only-of-type {\n",
       "        vertical-align: middle;\n",
       "    }\n",
       "\n",
       "    .dataframe tbody tr th {\n",
       "        vertical-align: top;\n",
       "    }\n",
       "\n",
       "    .dataframe thead th {\n",
       "        text-align: right;\n",
       "    }\n",
       "</style>\n",
       "<table border=\"1\" class=\"dataframe\">\n",
       "  <thead>\n",
       "    <tr style=\"text-align: right;\">\n",
       "      <th></th>\n",
       "      <th>price</th>\n",
       "      <th>bath</th>\n",
       "      <th>balcony</th>\n",
       "      <th>bhk</th>\n",
       "      <th>Type</th>\n",
       "      <th>location_freq</th>\n",
       "      <th>status_Furnished</th>\n",
       "      <th>status_Semi-Furnished</th>\n",
       "      <th>status_Unfurnished</th>\n",
       "    </tr>\n",
       "  </thead>\n",
       "  <tbody>\n",
       "    <tr>\n",
       "      <th>0</th>\n",
       "      <td>0.027088</td>\n",
       "      <td>1.0</td>\n",
       "      <td>1.0</td>\n",
       "      <td>1</td>\n",
       "      <td>Apartment</td>\n",
       "      <td>0.005621</td>\n",
       "      <td>True</td>\n",
       "      <td>False</td>\n",
       "      <td>False</td>\n",
       "    </tr>\n",
       "    <tr>\n",
       "      <th>1</th>\n",
       "      <td>0.024237</td>\n",
       "      <td>1.0</td>\n",
       "      <td>1.0</td>\n",
       "      <td>1</td>\n",
       "      <td>Apartment</td>\n",
       "      <td>0.001874</td>\n",
       "      <td>True</td>\n",
       "      <td>False</td>\n",
       "      <td>False</td>\n",
       "    </tr>\n",
       "    <tr>\n",
       "      <th>2</th>\n",
       "      <td>0.007841</td>\n",
       "      <td>1.0</td>\n",
       "      <td>2.0</td>\n",
       "      <td>2</td>\n",
       "      <td>Floor</td>\n",
       "      <td>0.015615</td>\n",
       "      <td>False</td>\n",
       "      <td>True</td>\n",
       "      <td>False</td>\n",
       "    </tr>\n",
       "    <tr>\n",
       "      <th>3</th>\n",
       "      <td>0.064157</td>\n",
       "      <td>3.0</td>\n",
       "      <td>3.0</td>\n",
       "      <td>3</td>\n",
       "      <td>House</td>\n",
       "      <td>0.001874</td>\n",
       "      <td>True</td>\n",
       "      <td>False</td>\n",
       "      <td>False</td>\n",
       "    </tr>\n",
       "    <tr>\n",
       "      <th>4</th>\n",
       "      <td>0.024237</td>\n",
       "      <td>2.0</td>\n",
       "      <td>2.0</td>\n",
       "      <td>2</td>\n",
       "      <td>Apartment</td>\n",
       "      <td>0.000833</td>\n",
       "      <td>False</td>\n",
       "      <td>False</td>\n",
       "      <td>True</td>\n",
       "    </tr>\n",
       "  </tbody>\n",
       "</table>\n",
       "</div>"
      ],
      "text/plain": [
       "      price  bath  balcony  bhk       Type  location_freq  status_Furnished  \\\n",
       "0  0.027088   1.0      1.0    1  Apartment       0.005621              True   \n",
       "1  0.024237   1.0      1.0    1  Apartment       0.001874              True   \n",
       "2  0.007841   1.0      2.0    2      Floor       0.015615             False   \n",
       "3  0.064157   3.0      3.0    3      House       0.001874              True   \n",
       "4  0.024237   2.0      2.0    2  Apartment       0.000833             False   \n",
       "\n",
       "   status_Semi-Furnished  status_Unfurnished  \n",
       "0                  False               False  \n",
       "1                  False               False  \n",
       "2                   True               False  \n",
       "3                  False               False  \n",
       "4                  False                True  "
      ]
     },
     "execution_count": 50,
     "metadata": {},
     "output_type": "execute_result"
    }
   ],
   "source": [
    "df.head()"
   ]
  },
  {
   "cell_type": "code",
   "execution_count": 51,
   "id": "20cd5bcc",
   "metadata": {
    "execution": {
     "iopub.execute_input": "2024-04-07T21:39:45.661015Z",
     "iopub.status.busy": "2024-04-07T21:39:45.660486Z",
     "iopub.status.idle": "2024-04-07T21:39:45.672263Z",
     "shell.execute_reply": "2024-04-07T21:39:45.670995Z"
    },
    "papermill": {
     "duration": 0.047966,
     "end_time": "2024-04-07T21:39:45.675855",
     "exception": false,
     "start_time": "2024-04-07T21:39:45.627889",
     "status": "completed"
    },
    "tags": []
   },
   "outputs": [
    {
     "data": {
      "text/plain": [
       "price                    0\n",
       "bath                     0\n",
       "balcony                  0\n",
       "bhk                      0\n",
       "Type                     0\n",
       "location_freq            0\n",
       "status_Furnished         0\n",
       "status_Semi-Furnished    0\n",
       "status_Unfurnished       0\n",
       "dtype: int64"
      ]
     },
     "execution_count": 51,
     "metadata": {},
     "output_type": "execute_result"
    }
   ],
   "source": [
    "df.isna().sum()"
   ]
  },
  {
   "cell_type": "code",
   "execution_count": 52,
   "id": "6a932016",
   "metadata": {
    "execution": {
     "iopub.execute_input": "2024-04-07T21:39:45.745651Z",
     "iopub.status.busy": "2024-04-07T21:39:45.745112Z",
     "iopub.status.idle": "2024-04-07T21:39:45.755555Z",
     "shell.execute_reply": "2024-04-07T21:39:45.754656Z"
    },
    "papermill": {
     "duration": 0.049035,
     "end_time": "2024-04-07T21:39:45.758345",
     "exception": false,
     "start_time": "2024-04-07T21:39:45.709310",
     "status": "completed"
    },
    "tags": []
   },
   "outputs": [],
   "source": [
    "df['Type'] = df['Type'].astype('category')\n",
    "df = pd.get_dummies(df, columns=['Type'], prefix='Type')"
   ]
  },
  {
   "cell_type": "code",
   "execution_count": 53,
   "id": "5b67b1d8",
   "metadata": {
    "execution": {
     "iopub.execute_input": "2024-04-07T21:39:45.826877Z",
     "iopub.status.busy": "2024-04-07T21:39:45.825651Z",
     "iopub.status.idle": "2024-04-07T21:39:45.845148Z",
     "shell.execute_reply": "2024-04-07T21:39:45.844251Z"
    },
    "papermill": {
     "duration": 0.055601,
     "end_time": "2024-04-07T21:39:45.847569",
     "exception": false,
     "start_time": "2024-04-07T21:39:45.791968",
     "status": "completed"
    },
    "tags": []
   },
   "outputs": [
    {
     "data": {
      "text/html": [
       "<div>\n",
       "<style scoped>\n",
       "    .dataframe tbody tr th:only-of-type {\n",
       "        vertical-align: middle;\n",
       "    }\n",
       "\n",
       "    .dataframe tbody tr th {\n",
       "        vertical-align: top;\n",
       "    }\n",
       "\n",
       "    .dataframe thead th {\n",
       "        text-align: right;\n",
       "    }\n",
       "</style>\n",
       "<table border=\"1\" class=\"dataframe\">\n",
       "  <thead>\n",
       "    <tr style=\"text-align: right;\">\n",
       "      <th></th>\n",
       "      <th>price</th>\n",
       "      <th>bath</th>\n",
       "      <th>balcony</th>\n",
       "      <th>bhk</th>\n",
       "      <th>location_freq</th>\n",
       "      <th>status_Furnished</th>\n",
       "      <th>status_Semi-Furnished</th>\n",
       "      <th>status_Unfurnished</th>\n",
       "      <th>Type_Apartment</th>\n",
       "      <th>Type_Floor</th>\n",
       "      <th>Type_House</th>\n",
       "      <th>Type_Villa</th>\n",
       "      <th>Type_penthouse</th>\n",
       "    </tr>\n",
       "  </thead>\n",
       "  <tbody>\n",
       "    <tr>\n",
       "      <th>0</th>\n",
       "      <td>0.027088</td>\n",
       "      <td>1.0</td>\n",
       "      <td>1.0</td>\n",
       "      <td>1</td>\n",
       "      <td>0.005621</td>\n",
       "      <td>True</td>\n",
       "      <td>False</td>\n",
       "      <td>False</td>\n",
       "      <td>True</td>\n",
       "      <td>False</td>\n",
       "      <td>False</td>\n",
       "      <td>False</td>\n",
       "      <td>False</td>\n",
       "    </tr>\n",
       "    <tr>\n",
       "      <th>1</th>\n",
       "      <td>0.024237</td>\n",
       "      <td>1.0</td>\n",
       "      <td>1.0</td>\n",
       "      <td>1</td>\n",
       "      <td>0.001874</td>\n",
       "      <td>True</td>\n",
       "      <td>False</td>\n",
       "      <td>False</td>\n",
       "      <td>True</td>\n",
       "      <td>False</td>\n",
       "      <td>False</td>\n",
       "      <td>False</td>\n",
       "      <td>False</td>\n",
       "    </tr>\n",
       "    <tr>\n",
       "      <th>2</th>\n",
       "      <td>0.007841</td>\n",
       "      <td>1.0</td>\n",
       "      <td>2.0</td>\n",
       "      <td>2</td>\n",
       "      <td>0.015615</td>\n",
       "      <td>False</td>\n",
       "      <td>True</td>\n",
       "      <td>False</td>\n",
       "      <td>False</td>\n",
       "      <td>True</td>\n",
       "      <td>False</td>\n",
       "      <td>False</td>\n",
       "      <td>False</td>\n",
       "    </tr>\n",
       "    <tr>\n",
       "      <th>3</th>\n",
       "      <td>0.064157</td>\n",
       "      <td>3.0</td>\n",
       "      <td>3.0</td>\n",
       "      <td>3</td>\n",
       "      <td>0.001874</td>\n",
       "      <td>True</td>\n",
       "      <td>False</td>\n",
       "      <td>False</td>\n",
       "      <td>False</td>\n",
       "      <td>False</td>\n",
       "      <td>True</td>\n",
       "      <td>False</td>\n",
       "      <td>False</td>\n",
       "    </tr>\n",
       "    <tr>\n",
       "      <th>4</th>\n",
       "      <td>0.024237</td>\n",
       "      <td>2.0</td>\n",
       "      <td>2.0</td>\n",
       "      <td>2</td>\n",
       "      <td>0.000833</td>\n",
       "      <td>False</td>\n",
       "      <td>False</td>\n",
       "      <td>True</td>\n",
       "      <td>True</td>\n",
       "      <td>False</td>\n",
       "      <td>False</td>\n",
       "      <td>False</td>\n",
       "      <td>False</td>\n",
       "    </tr>\n",
       "  </tbody>\n",
       "</table>\n",
       "</div>"
      ],
      "text/plain": [
       "      price  bath  balcony  bhk  location_freq  status_Furnished  \\\n",
       "0  0.027088   1.0      1.0    1       0.005621              True   \n",
       "1  0.024237   1.0      1.0    1       0.001874              True   \n",
       "2  0.007841   1.0      2.0    2       0.015615             False   \n",
       "3  0.064157   3.0      3.0    3       0.001874              True   \n",
       "4  0.024237   2.0      2.0    2       0.000833             False   \n",
       "\n",
       "   status_Semi-Furnished  status_Unfurnished  Type_Apartment  Type_Floor  \\\n",
       "0                  False               False            True       False   \n",
       "1                  False               False            True       False   \n",
       "2                   True               False           False        True   \n",
       "3                  False               False           False       False   \n",
       "4                  False                True            True       False   \n",
       "\n",
       "   Type_House  Type_Villa  Type_penthouse  \n",
       "0       False       False           False  \n",
       "1       False       False           False  \n",
       "2       False       False           False  \n",
       "3        True       False           False  \n",
       "4       False       False           False  "
      ]
     },
     "execution_count": 53,
     "metadata": {},
     "output_type": "execute_result"
    }
   ],
   "source": [
    "df.head()"
   ]
  },
  {
   "cell_type": "markdown",
   "id": "9f16500f",
   "metadata": {
    "papermill": {
     "duration": 0.035079,
     "end_time": "2024-04-07T21:39:45.915735",
     "exception": false,
     "start_time": "2024-04-07T21:39:45.880656",
     "status": "completed"
    },
    "tags": []
   },
   "source": [
    "# **Model building and Evaluation**"
   ]
  },
  {
   "cell_type": "markdown",
   "id": "7a7d2fab",
   "metadata": {
    "papermill": {
     "duration": 0.032964,
     "end_time": "2024-04-07T21:39:45.981134",
     "exception": false,
     "start_time": "2024-04-07T21:39:45.948170",
     "status": "completed"
    },
    "tags": []
   },
   "source": [
    "***I am using random Forest Regressor with no hyper parameter tuning as i have tried it and it makes no such difference , so to make it cleaner i didn't used it***"
   ]
  },
  {
   "cell_type": "code",
   "execution_count": 54,
   "id": "2145d331",
   "metadata": {
    "execution": {
     "iopub.execute_input": "2024-04-07T21:39:46.050592Z",
     "iopub.status.busy": "2024-04-07T21:39:46.049849Z",
     "iopub.status.idle": "2024-04-07T21:39:47.168747Z",
     "shell.execute_reply": "2024-04-07T21:39:47.167600Z"
    },
    "papermill": {
     "duration": 1.15677,
     "end_time": "2024-04-07T21:39:47.171390",
     "exception": false,
     "start_time": "2024-04-07T21:39:46.014620",
     "status": "completed"
    },
    "tags": []
   },
   "outputs": [
    {
     "name": "stdout",
     "output_type": "stream",
     "text": [
      "MSE: 0.006417794896526641, R2 Score: 0.8854431295721997\n"
     ]
    },
    {
     "data": {
      "image/png": "[encoded data removed]",
      "text/plain": [
       "<Figure size 1000x600 with 1 Axes>"
      ]
     },
     "metadata": {},
     "output_type": "display_data"
    }
   ],
   "source": [
    "X = df.drop(columns=['price'])\n",
    "y = df['price']\n",
    "X_train, X_test, y_train, y_test = train_test_split(X, y, test_size=0.2, random_state=42)\n",
    "\n",
    "rf = RandomForestRegressor(n_estimators=100, max_depth=10, random_state=42)\n",
    "\n",
    "rf.fit(X_train, y_train)\n",
    "\n",
    "y_pred = rf.predict(X_test)\n",
    "\n",
    "mse = mean_squared_error(y_test, y_pred)\n",
    "r2 = r2_score(y_test, y_pred)\n",
    "print(f\"MSE: {mse}, R2 Score: {r2}\")\n",
    "\n",
    "plt.figure(figsize=(10, 6))\n",
    "plt.scatter(y_test, y_pred, color='blue', label='Predicted')\n",
    "plt.plot([min(y_test), max(y_test)], [min(y_test), max(y_test)], color='red', linestyle='--', label='Actual')\n",
    "plt.title(\"Random Forest Regression - Actual vs. Predicted\")\n",
    "plt.xlabel(\"Actual Price\")\n",
    "plt.ylabel(\"Predicted Price\")\n",
    "plt.legend()\n",
    "plt.show()\n"
   ]
  }
 ],
 "metadata": {
  "kaggle": {
   "accelerator": "none",
   "dataSources": [
    {
     "datasetId": 4749485,
     "sourceId": 8053271,
     "sourceType": "datasetVersion"
    }
   ],
   "dockerImageVersionId": 30673,
   "isGpuEnabled": false,
   "isInternetEnabled": true,
   "language": "python",
   "sourceType": "notebook"
  },
  "kernelspec": {
   "display_name": "Python 3",
   "language": "python",
   "name": "python3"
  },
  "language_info": {
   "codemirror_mode": {
    "name": "ipython",
    "version": 3
   },
   "file_extension": ".py",
   "mimetype": "text/x-python",
   "name": "python",
   "nbconvert_exporter": "python",
   "pygments_lexer": "ipython3",
   "version": "3.10.13"
  },
  "papermill": {
   "default_parameters": {},
   "duration": 22.377902,
   "end_time": "2024-04-07T21:39:47.925426",
   "environment_variables": {},
   "exception": null,
   "input_path": "__notebook__.ipynb",
   "output_path": "__notebook__.ipynb",
   "parameters": {},
   "start_time": "2024-04-07T21:39:25.547524",
   "version": "2.5.0"
  }
 },
 "nbformat": 4,
 "nbformat_minor": 5
}
