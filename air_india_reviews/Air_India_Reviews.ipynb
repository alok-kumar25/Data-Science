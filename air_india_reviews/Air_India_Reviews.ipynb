{
 "cells": [
  {
   "cell_type": "code",
   "execution_count": 1,
   "id": "83e62fb6-355b-4f41-ba24-211b0fa61fab",
   "metadata": {},
   "outputs": [],
   "source": [
    "import pandas as pd\n",
    "import numpy as np\n",
    "from matplotlib import pyplot as plt\n",
    "import seaborn as sns\n",
    "import nltk\n",
    "from nltk.corpus import stopwords\n",
    "from nltk.stem.porter import PorterStemmer\n",
    "from sklearn.feature_extraction.text import TfidfVectorizer\n",
    "from sklearn.model_selection import train_test_split\n",
    "from sklearn.linear_model import LogisticRegression\n",
    "from sklearn.metrics import accuracy_score, mean_squared_error, r2_score\n",
    "from sklearn.linear_model import LogisticRegression, LinearRegression\n",
    "from sklearn.tree import DecisionTreeClassifier, DecisionTreeRegressor\n",
    "from sklearn.ensemble import RandomForestClassifier, RandomForestRegressor\n",
    "from sklearn.svm import SVC, SVR\n",
    "from sklearn.neighbors import KNeighborsClassifier, KNeighborsRegressor\n",
    "from sklearn.metrics import accuracy_score, f1_score, precision_score, recall_score, mean_squared_error, r2_score, mean_absolute_error"
   ]
  },
  {
   "cell_type": "code",
   "execution_count": 2,
   "id": "47b5330a-1c48-4191-b111-94d6c51a6b1a",
   "metadata": {},
   "outputs": [],
   "source": [
    "df=pd.read_csv('C:\\\\python\\\\air_india_reviews\\\\air_india_reviews.csv')"
   ]
  },
  {
   "cell_type": "code",
   "execution_count": 3,
   "id": "f35410d7-4e71-4bdf-8bc7-676fa2da816e",
   "metadata": {},
   "outputs": [
    {
     "data": {
      "text/html": [
       "<div>\n",
       "<style scoped>\n",
       "    .dataframe tbody tr th:only-of-type {\n",
       "        vertical-align: middle;\n",
       "    }\n",
       "\n",
       "    .dataframe tbody tr th {\n",
       "        vertical-align: top;\n",
       "    }\n",
       "\n",
       "    .dataframe thead th {\n",
       "        text-align: right;\n",
       "    }\n",
       "</style>\n",
       "<table border=\"1\" class=\"dataframe\">\n",
       "  <thead>\n",
       "    <tr style=\"text-align: right;\">\n",
       "      <th></th>\n",
       "      <th>published_date</th>\n",
       "      <th>rating</th>\n",
       "      <th>type</th>\n",
       "      <th>helpful_votes</th>\n",
       "      <th>title</th>\n",
       "      <th>text</th>\n",
       "    </tr>\n",
       "  </thead>\n",
       "  <tbody>\n",
       "    <tr>\n",
       "      <th>0</th>\n",
       "      <td>2024-03-28T17:44:04-04:00</td>\n",
       "      <td>1</td>\n",
       "      <td>review</td>\n",
       "      <td>0</td>\n",
       "      <td>BAD SERVICE AND BAD HOSPITALITY</td>\n",
       "      <td>From their side my baggage is broken but still...</td>\n",
       "    </tr>\n",
       "    <tr>\n",
       "      <th>1</th>\n",
       "      <td>2024-03-28T17:24:01-04:00</td>\n",
       "      <td>1</td>\n",
       "      <td>review</td>\n",
       "      <td>0</td>\n",
       "      <td>AI 188 and AI 187 flight nightmare !</td>\n",
       "      <td>I took AI 188 noon -9th March 2024 - it was de...</td>\n",
       "    </tr>\n",
       "    <tr>\n",
       "      <th>2</th>\n",
       "      <td>2024-03-28T16:31:49-04:00</td>\n",
       "      <td>1</td>\n",
       "      <td>review</td>\n",
       "      <td>0</td>\n",
       "      <td>worst airline to travel dont waste ur money</td>\n",
       "      <td>one of worst flight to fly with book one way l...</td>\n",
       "    </tr>\n",
       "    <tr>\n",
       "      <th>3</th>\n",
       "      <td>2024-03-27T22:43:53-04:00</td>\n",
       "      <td>3</td>\n",
       "      <td>review</td>\n",
       "      <td>0</td>\n",
       "      <td>Good, Can be Better!</td>\n",
       "      <td>The positive aspects on my flight were: punctu...</td>\n",
       "    </tr>\n",
       "    <tr>\n",
       "      <th>4</th>\n",
       "      <td>2024-03-27T08:12:41-04:00</td>\n",
       "      <td>1</td>\n",
       "      <td>review</td>\n",
       "      <td>0</td>\n",
       "      <td>Poor airlines and services</td>\n",
       "      <td>Extremally poor services in flight, aircraft i...</td>\n",
       "    </tr>\n",
       "  </tbody>\n",
       "</table>\n",
       "</div>"
      ],
      "text/plain": [
       "              published_date  rating    type  helpful_votes  \\\n",
       "0  2024-03-28T17:44:04-04:00       1  review              0   \n",
       "1  2024-03-28T17:24:01-04:00       1  review              0   \n",
       "2  2024-03-28T16:31:49-04:00       1  review              0   \n",
       "3  2024-03-27T22:43:53-04:00       3  review              0   \n",
       "4  2024-03-27T08:12:41-04:00       1  review              0   \n",
       "\n",
       "                                         title  \\\n",
       "0              BAD SERVICE AND BAD HOSPITALITY   \n",
       "1         AI 188 and AI 187 flight nightmare !   \n",
       "2  worst airline to travel dont waste ur money   \n",
       "3                         Good, Can be Better!   \n",
       "4                   Poor airlines and services   \n",
       "\n",
       "                                                text  \n",
       "0  From their side my baggage is broken but still...  \n",
       "1  I took AI 188 noon -9th March 2024 - it was de...  \n",
       "2  one of worst flight to fly with book one way l...  \n",
       "3  The positive aspects on my flight were: punctu...  \n",
       "4  Extremally poor services in flight, aircraft i...  "
      ]
     },
     "execution_count": 3,
     "metadata": {},
     "output_type": "execute_result"
    }
   ],
   "source": [
    "df.head()"
   ]
  },
  {
   "cell_type": "code",
   "execution_count": 4,
   "id": "bd9db894-8537-45e1-9cc6-9b395279d091",
   "metadata": {},
   "outputs": [],
   "source": [
    "df.drop(columns=['published_date'], inplace = True)"
   ]
  },
  {
   "cell_type": "code",
   "execution_count": 5,
   "id": "e7161fc4-93b7-4020-b818-d34c66cbb304",
   "metadata": {},
   "outputs": [
    {
     "data": {
      "text/html": [
       "<div>\n",
       "<style scoped>\n",
       "    .dataframe tbody tr th:only-of-type {\n",
       "        vertical-align: middle;\n",
       "    }\n",
       "\n",
       "    .dataframe tbody tr th {\n",
       "        vertical-align: top;\n",
       "    }\n",
       "\n",
       "    .dataframe thead th {\n",
       "        text-align: right;\n",
       "    }\n",
       "</style>\n",
       "<table border=\"1\" class=\"dataframe\">\n",
       "  <thead>\n",
       "    <tr style=\"text-align: right;\">\n",
       "      <th></th>\n",
       "      <th>rating</th>\n",
       "      <th>type</th>\n",
       "      <th>helpful_votes</th>\n",
       "      <th>title</th>\n",
       "      <th>text</th>\n",
       "    </tr>\n",
       "  </thead>\n",
       "  <tbody>\n",
       "    <tr>\n",
       "      <th>0</th>\n",
       "      <td>1</td>\n",
       "      <td>review</td>\n",
       "      <td>0</td>\n",
       "      <td>BAD SERVICE AND BAD HOSPITALITY</td>\n",
       "      <td>From their side my baggage is broken but still...</td>\n",
       "    </tr>\n",
       "    <tr>\n",
       "      <th>1</th>\n",
       "      <td>1</td>\n",
       "      <td>review</td>\n",
       "      <td>0</td>\n",
       "      <td>AI 188 and AI 187 flight nightmare !</td>\n",
       "      <td>I took AI 188 noon -9th March 2024 - it was de...</td>\n",
       "    </tr>\n",
       "    <tr>\n",
       "      <th>2</th>\n",
       "      <td>1</td>\n",
       "      <td>review</td>\n",
       "      <td>0</td>\n",
       "      <td>worst airline to travel dont waste ur money</td>\n",
       "      <td>one of worst flight to fly with book one way l...</td>\n",
       "    </tr>\n",
       "    <tr>\n",
       "      <th>3</th>\n",
       "      <td>3</td>\n",
       "      <td>review</td>\n",
       "      <td>0</td>\n",
       "      <td>Good, Can be Better!</td>\n",
       "      <td>The positive aspects on my flight were: punctu...</td>\n",
       "    </tr>\n",
       "    <tr>\n",
       "      <th>4</th>\n",
       "      <td>1</td>\n",
       "      <td>review</td>\n",
       "      <td>0</td>\n",
       "      <td>Poor airlines and services</td>\n",
       "      <td>Extremally poor services in flight, aircraft i...</td>\n",
       "    </tr>\n",
       "  </tbody>\n",
       "</table>\n",
       "</div>"
      ],
      "text/plain": [
       "   rating    type  helpful_votes                                        title  \\\n",
       "0       1  review              0              BAD SERVICE AND BAD HOSPITALITY   \n",
       "1       1  review              0         AI 188 and AI 187 flight nightmare !   \n",
       "2       1  review              0  worst airline to travel dont waste ur money   \n",
       "3       3  review              0                         Good, Can be Better!   \n",
       "4       1  review              0                   Poor airlines and services   \n",
       "\n",
       "                                                text  \n",
       "0  From their side my baggage is broken but still...  \n",
       "1  I took AI 188 noon -9th March 2024 - it was de...  \n",
       "2  one of worst flight to fly with book one way l...  \n",
       "3  The positive aspects on my flight were: punctu...  \n",
       "4  Extremally poor services in flight, aircraft i...  "
      ]
     },
     "execution_count": 5,
     "metadata": {},
     "output_type": "execute_result"
    }
   ],
   "source": [
    "df.head()"
   ]
  },
  {
   "cell_type": "code",
   "execution_count": 6,
   "id": "de341eb8-c500-40a8-9bca-fe77afcc5602",
   "metadata": {},
   "outputs": [
    {
     "data": {
      "text/plain": [
       "<Axes: ylabel='Density'>"
      ]
     },
     "execution_count": 6,
     "metadata": {},
     "output_type": "execute_result"
    },
    {
     "data": {
      "image/png": "[encoded data removed]",
      "text/plain": [
       "<Figure size 640x480 with 1 Axes>"
      ]
     },
     "metadata": {},
     "output_type": "display_data"
    }
   ],
   "source": [
    "df['helpful_votes'].plot(kind=\"kde\")"
   ]
  },
  {
   "cell_type": "code",
   "execution_count": 7,
   "id": "bc4987c3-3032-4ced-abb9-4de6a33b66c6",
   "metadata": {},
   "outputs": [
    {
     "data": {
      "text/plain": [
       "type\n",
       "review    4840\n",
       "Name: count, dtype: int64"
      ]
     },
     "execution_count": 7,
     "metadata": {},
     "output_type": "execute_result"
    }
   ],
   "source": [
    "df[\"type\"].value_counts()"
   ]
  },
  {
   "cell_type": "code",
   "execution_count": 8,
   "id": "41fec0f6-fdc1-4d8b-b8d4-a8a75c9838e9",
   "metadata": {},
   "outputs": [],
   "source": [
    "# Droping the helpful_votes and type column "
   ]
  },
  {
   "cell_type": "code",
   "execution_count": 9,
   "id": "16ddca41-8319-45c7-b09e-480b34e203be",
   "metadata": {},
   "outputs": [],
   "source": [
    "df.drop(columns=['helpful_votes','type'], inplace = True)"
   ]
  },
  {
   "cell_type": "code",
   "execution_count": 10,
   "id": "7d846e4c-6f7a-4175-8db9-4ee0ee195bf7",
   "metadata": {},
   "outputs": [
    {
     "data": {
      "text/html": [
       "<div>\n",
       "<style scoped>\n",
       "    .dataframe tbody tr th:only-of-type {\n",
       "        vertical-align: middle;\n",
       "    }\n",
       "\n",
       "    .dataframe tbody tr th {\n",
       "        vertical-align: top;\n",
       "    }\n",
       "\n",
       "    .dataframe thead th {\n",
       "        text-align: right;\n",
       "    }\n",
       "</style>\n",
       "<table border=\"1\" class=\"dataframe\">\n",
       "  <thead>\n",
       "    <tr style=\"text-align: right;\">\n",
       "      <th></th>\n",
       "      <th>rating</th>\n",
       "      <th>title</th>\n",
       "      <th>text</th>\n",
       "    </tr>\n",
       "  </thead>\n",
       "  <tbody>\n",
       "    <tr>\n",
       "      <th>0</th>\n",
       "      <td>1</td>\n",
       "      <td>BAD SERVICE AND BAD HOSPITALITY</td>\n",
       "      <td>From their side my baggage is broken but still...</td>\n",
       "    </tr>\n",
       "    <tr>\n",
       "      <th>1</th>\n",
       "      <td>1</td>\n",
       "      <td>AI 188 and AI 187 flight nightmare !</td>\n",
       "      <td>I took AI 188 noon -9th March 2024 - it was de...</td>\n",
       "    </tr>\n",
       "    <tr>\n",
       "      <th>2</th>\n",
       "      <td>1</td>\n",
       "      <td>worst airline to travel dont waste ur money</td>\n",
       "      <td>one of worst flight to fly with book one way l...</td>\n",
       "    </tr>\n",
       "    <tr>\n",
       "      <th>3</th>\n",
       "      <td>3</td>\n",
       "      <td>Good, Can be Better!</td>\n",
       "      <td>The positive aspects on my flight were: punctu...</td>\n",
       "    </tr>\n",
       "    <tr>\n",
       "      <th>4</th>\n",
       "      <td>1</td>\n",
       "      <td>Poor airlines and services</td>\n",
       "      <td>Extremally poor services in flight, aircraft i...</td>\n",
       "    </tr>\n",
       "  </tbody>\n",
       "</table>\n",
       "</div>"
      ],
      "text/plain": [
       "   rating                                        title  \\\n",
       "0       1              BAD SERVICE AND BAD HOSPITALITY   \n",
       "1       1         AI 188 and AI 187 flight nightmare !   \n",
       "2       1  worst airline to travel dont waste ur money   \n",
       "3       3                         Good, Can be Better!   \n",
       "4       1                   Poor airlines and services   \n",
       "\n",
       "                                                text  \n",
       "0  From their side my baggage is broken but still...  \n",
       "1  I took AI 188 noon -9th March 2024 - it was de...  \n",
       "2  one of worst flight to fly with book one way l...  \n",
       "3  The positive aspects on my flight were: punctu...  \n",
       "4  Extremally poor services in flight, aircraft i...  "
      ]
     },
     "execution_count": 10,
     "metadata": {},
     "output_type": "execute_result"
    }
   ],
   "source": [
    "df.head()"
   ]
  },
  {
   "cell_type": "code",
   "execution_count": 11,
   "id": "6db4da40-9ab7-4a70-89c5-7e5aa45e82aa",
   "metadata": {},
   "outputs": [
    {
     "data": {
      "text/plain": [
       "rating\n",
       "1    2049\n",
       "4     922\n",
       "5     739\n",
       "3     615\n",
       "2     515\n",
       "Name: count, dtype: int64"
      ]
     },
     "execution_count": 11,
     "metadata": {},
     "output_type": "execute_result"
    }
   ],
   "source": [
    "df['rating'].value_counts()"
   ]
  },
  {
   "cell_type": "code",
   "execution_count": 12,
   "id": "47b4e09e-48a8-486d-a63d-586a99de44ff",
   "metadata": {},
   "outputs": [
    {
     "data": {
      "text/plain": [
       "0"
      ]
     },
     "execution_count": 12,
     "metadata": {},
     "output_type": "execute_result"
    }
   ],
   "source": [
    "df.duplicated().sum()"
   ]
  },
  {
   "cell_type": "code",
   "execution_count": 13,
   "id": "bff9289a-1e21-4c71-bcf0-7bd019a55be1",
   "metadata": {},
   "outputs": [
    {
     "data": {
      "text/plain": [
       "rating    0\n",
       "title     0\n",
       "text      0\n",
       "dtype: int64"
      ]
     },
     "execution_count": 13,
     "metadata": {},
     "output_type": "execute_result"
    }
   ],
   "source": [
    "df.isna().sum()"
   ]
  },
  {
   "cell_type": "code",
   "execution_count": 14,
   "id": "32cd62a9-4ad9-4d6b-94d3-3163c870a5a6",
   "metadata": {},
   "outputs": [
    {
     "name": "stderr",
     "output_type": "stream",
     "text": [
      "[nltk_data] Downloading package stopwords to\n",
      "[nltk_data]     C:\\Users\\HP\\AppData\\Roaming\\nltk_data...\n",
      "[nltk_data]   Package stopwords is already up-to-date!\n"
     ]
    },
    {
     "data": {
      "text/plain": [
       "True"
      ]
     },
     "execution_count": 14,
     "metadata": {},
     "output_type": "execute_result"
    }
   ],
   "source": [
    "nltk.download('stopwords')"
   ]
  },
  {
   "cell_type": "code",
   "execution_count": 15,
   "id": "ceda90f6-e09b-4802-a87e-eeed344ff0f1",
   "metadata": {},
   "outputs": [
    {
     "data": {
      "text/plain": [
       "['i',\n",
       " 'me',\n",
       " 'my',\n",
       " 'myself',\n",
       " 'we',\n",
       " 'our',\n",
       " 'ours',\n",
       " 'ourselves',\n",
       " 'you',\n",
       " \"you're\",\n",
       " \"you've\",\n",
       " \"you'll\",\n",
       " \"you'd\",\n",
       " 'your',\n",
       " 'yours',\n",
       " 'yourself',\n",
       " 'yourselves',\n",
       " 'he',\n",
       " 'him',\n",
       " 'his',\n",
       " 'himself',\n",
       " 'she',\n",
       " \"she's\",\n",
       " 'her',\n",
       " 'hers',\n",
       " 'herself',\n",
       " 'it',\n",
       " \"it's\",\n",
       " 'its',\n",
       " 'itself',\n",
       " 'they',\n",
       " 'them',\n",
       " 'their',\n",
       " 'theirs',\n",
       " 'themselves',\n",
       " 'what',\n",
       " 'which',\n",
       " 'who',\n",
       " 'whom',\n",
       " 'this',\n",
       " 'that',\n",
       " \"that'll\",\n",
       " 'these',\n",
       " 'those',\n",
       " 'am',\n",
       " 'is',\n",
       " 'are',\n",
       " 'was',\n",
       " 'were',\n",
       " 'be',\n",
       " 'been',\n",
       " 'being',\n",
       " 'have',\n",
       " 'has',\n",
       " 'had',\n",
       " 'having',\n",
       " 'do',\n",
       " 'does',\n",
       " 'did',\n",
       " 'doing',\n",
       " 'a',\n",
       " 'an',\n",
       " 'the',\n",
       " 'and',\n",
       " 'but',\n",
       " 'if',\n",
       " 'or',\n",
       " 'because',\n",
       " 'as',\n",
       " 'until',\n",
       " 'while',\n",
       " 'of',\n",
       " 'at',\n",
       " 'by',\n",
       " 'for',\n",
       " 'with',\n",
       " 'about',\n",
       " 'against',\n",
       " 'between',\n",
       " 'into',\n",
       " 'through',\n",
       " 'during',\n",
       " 'before',\n",
       " 'after',\n",
       " 'above',\n",
       " 'below',\n",
       " 'to',\n",
       " 'from',\n",
       " 'up',\n",
       " 'down',\n",
       " 'in',\n",
       " 'out',\n",
       " 'on',\n",
       " 'off',\n",
       " 'over',\n",
       " 'under',\n",
       " 'again',\n",
       " 'further',\n",
       " 'then',\n",
       " 'once',\n",
       " 'here',\n",
       " 'there',\n",
       " 'when',\n",
       " 'where',\n",
       " 'why',\n",
       " 'how',\n",
       " 'all',\n",
       " 'any',\n",
       " 'both',\n",
       " 'each',\n",
       " 'few',\n",
       " 'more',\n",
       " 'most',\n",
       " 'other',\n",
       " 'some',\n",
       " 'such',\n",
       " 'no',\n",
       " 'nor',\n",
       " 'not',\n",
       " 'only',\n",
       " 'own',\n",
       " 'same',\n",
       " 'so',\n",
       " 'than',\n",
       " 'too',\n",
       " 'very',\n",
       " 's',\n",
       " 't',\n",
       " 'can',\n",
       " 'will',\n",
       " 'just',\n",
       " 'don',\n",
       " \"don't\",\n",
       " 'should',\n",
       " \"should've\",\n",
       " 'now',\n",
       " 'd',\n",
       " 'll',\n",
       " 'm',\n",
       " 'o',\n",
       " 're',\n",
       " 've',\n",
       " 'y',\n",
       " 'ain',\n",
       " 'aren',\n",
       " \"aren't\",\n",
       " 'couldn',\n",
       " \"couldn't\",\n",
       " 'didn',\n",
       " \"didn't\",\n",
       " 'doesn',\n",
       " \"doesn't\",\n",
       " 'hadn',\n",
       " \"hadn't\",\n",
       " 'hasn',\n",
       " \"hasn't\",\n",
       " 'haven',\n",
       " \"haven't\",\n",
       " 'isn',\n",
       " \"isn't\",\n",
       " 'ma',\n",
       " 'mightn',\n",
       " \"mightn't\",\n",
       " 'mustn',\n",
       " \"mustn't\",\n",
       " 'needn',\n",
       " \"needn't\",\n",
       " 'shan',\n",
       " \"shan't\",\n",
       " 'shouldn',\n",
       " \"shouldn't\",\n",
       " 'wasn',\n",
       " \"wasn't\",\n",
       " 'weren',\n",
       " \"weren't\",\n",
       " 'won',\n",
       " \"won't\",\n",
       " 'wouldn',\n",
       " \"wouldn't\"]"
      ]
     },
     "execution_count": 15,
     "metadata": {},
     "output_type": "execute_result"
    }
   ],
   "source": [
    "stopwords.words('english')"
   ]
  },
  {
   "cell_type": "code",
   "execution_count": 16,
   "id": "8d5af716-a3d4-4e0f-a153-ea23079ff4b0",
   "metadata": {},
   "outputs": [],
   "source": [
    "ps = PorterStemmer()"
   ]
  },
  {
   "cell_type": "code",
   "execution_count": 17,
   "id": "5d28defe-0f78-4c97-bbb9-e80c8e9d9d73",
   "metadata": {},
   "outputs": [],
   "source": [
    "import re"
   ]
  },
  {
   "cell_type": "code",
   "execution_count": 18,
   "id": "d77bf927-23be-4c29-8803-84aa350f8182",
   "metadata": {},
   "outputs": [],
   "source": [
    "def stemming(content):\n",
    "    stemmed_content = re.sub('[^a-zA-Z]',' ',content)\n",
    "    stemmed_content = stemmed_content.lower()\n",
    "    stemmed_content = stemmed_content.split()\n",
    "    stemmed_content = [ps.stem(word) for word in stemmed_content if not word in stopwords.words('english')]\n",
    "    stemmed_content = \" \".join(stemmed_content)\n",
    "    return stemmed_content\n"
   ]
  },
  {
   "cell_type": "code",
   "execution_count": 19,
   "id": "fe53535a-6578-428b-9d05-860438670c35",
   "metadata": {},
   "outputs": [],
   "source": [
    "df['text'] = df['text'].apply(stemming)"
   ]
  },
  {
   "cell_type": "code",
   "execution_count": 20,
   "id": "0e5dd6a8-a985-4ad2-9385-1323c32302b0",
   "metadata": {},
   "outputs": [
    {
     "data": {
      "text/html": [
       "<div>\n",
       "<style scoped>\n",
       "    .dataframe tbody tr th:only-of-type {\n",
       "        vertical-align: middle;\n",
       "    }\n",
       "\n",
       "    .dataframe tbody tr th {\n",
       "        vertical-align: top;\n",
       "    }\n",
       "\n",
       "    .dataframe thead th {\n",
       "        text-align: right;\n",
       "    }\n",
       "</style>\n",
       "<table border=\"1\" class=\"dataframe\">\n",
       "  <thead>\n",
       "    <tr style=\"text-align: right;\">\n",
       "      <th></th>\n",
       "      <th>rating</th>\n",
       "      <th>title</th>\n",
       "      <th>text</th>\n",
       "    </tr>\n",
       "  </thead>\n",
       "  <tbody>\n",
       "    <tr>\n",
       "      <th>0</th>\n",
       "      <td>1</td>\n",
       "      <td>BAD SERVICE AND BAD HOSPITALITY</td>\n",
       "      <td>side baggag broken still get baggag claim alre...</td>\n",
       "    </tr>\n",
       "    <tr>\n",
       "      <th>1</th>\n",
       "      <td>1</td>\n",
       "      <td>AI 188 and AI 187 flight nightmare !</td>\n",
       "      <td>took ai noon th march delay left pm miss conne...</td>\n",
       "    </tr>\n",
       "    <tr>\n",
       "      <th>2</th>\n",
       "      <td>1</td>\n",
       "      <td>worst airline to travel dont waste ur money</td>\n",
       "      <td>one worst flight fli book one way last minut t...</td>\n",
       "    </tr>\n",
       "    <tr>\n",
       "      <th>3</th>\n",
       "      <td>3</td>\n",
       "      <td>Good, Can be Better!</td>\n",
       "      <td>posit aspect flight punctual polit effici infl...</td>\n",
       "    </tr>\n",
       "    <tr>\n",
       "      <th>4</th>\n",
       "      <td>1</td>\n",
       "      <td>Poor airlines and services</td>\n",
       "      <td>extrem poor servic flight aircraft old broken ...</td>\n",
       "    </tr>\n",
       "  </tbody>\n",
       "</table>\n",
       "</div>"
      ],
      "text/plain": [
       "   rating                                        title  \\\n",
       "0       1              BAD SERVICE AND BAD HOSPITALITY   \n",
       "1       1         AI 188 and AI 187 flight nightmare !   \n",
       "2       1  worst airline to travel dont waste ur money   \n",
       "3       3                         Good, Can be Better!   \n",
       "4       1                   Poor airlines and services   \n",
       "\n",
       "                                                text  \n",
       "0  side baggag broken still get baggag claim alre...  \n",
       "1  took ai noon th march delay left pm miss conne...  \n",
       "2  one worst flight fli book one way last minut t...  \n",
       "3  posit aspect flight punctual polit effici infl...  \n",
       "4  extrem poor servic flight aircraft old broken ...  "
      ]
     },
     "execution_count": 20,
     "metadata": {},
     "output_type": "execute_result"
    }
   ],
   "source": [
    "df.head()"
   ]
  },
  {
   "cell_type": "code",
   "execution_count": 21,
   "id": "1c2f7cf7-302b-422d-86f9-2da2d0ce3dbc",
   "metadata": {},
   "outputs": [],
   "source": [
    "df['title'] = df['title'].apply(stemming)"
   ]
  },
  {
   "cell_type": "code",
   "execution_count": 22,
   "id": "2da6a2a0-32df-475f-afdc-c40c3b5c2ed2",
   "metadata": {},
   "outputs": [
    {
     "data": {
      "text/html": [
       "<div>\n",
       "<style scoped>\n",
       "    .dataframe tbody tr th:only-of-type {\n",
       "        vertical-align: middle;\n",
       "    }\n",
       "\n",
       "    .dataframe tbody tr th {\n",
       "        vertical-align: top;\n",
       "    }\n",
       "\n",
       "    .dataframe thead th {\n",
       "        text-align: right;\n",
       "    }\n",
       "</style>\n",
       "<table border=\"1\" class=\"dataframe\">\n",
       "  <thead>\n",
       "    <tr style=\"text-align: right;\">\n",
       "      <th></th>\n",
       "      <th>rating</th>\n",
       "      <th>title</th>\n",
       "      <th>text</th>\n",
       "    </tr>\n",
       "  </thead>\n",
       "  <tbody>\n",
       "    <tr>\n",
       "      <th>0</th>\n",
       "      <td>1</td>\n",
       "      <td>bad servic bad hospit</td>\n",
       "      <td>side baggag broken still get baggag claim alre...</td>\n",
       "    </tr>\n",
       "    <tr>\n",
       "      <th>1</th>\n",
       "      <td>1</td>\n",
       "      <td>ai ai flight nightmar</td>\n",
       "      <td>took ai noon th march delay left pm miss conne...</td>\n",
       "    </tr>\n",
       "    <tr>\n",
       "      <th>2</th>\n",
       "      <td>1</td>\n",
       "      <td>worst airlin travel dont wast ur money</td>\n",
       "      <td>one worst flight fli book one way last minut t...</td>\n",
       "    </tr>\n",
       "    <tr>\n",
       "      <th>3</th>\n",
       "      <td>3</td>\n",
       "      <td>good better</td>\n",
       "      <td>posit aspect flight punctual polit effici infl...</td>\n",
       "    </tr>\n",
       "    <tr>\n",
       "      <th>4</th>\n",
       "      <td>1</td>\n",
       "      <td>poor airlin servic</td>\n",
       "      <td>extrem poor servic flight aircraft old broken ...</td>\n",
       "    </tr>\n",
       "  </tbody>\n",
       "</table>\n",
       "</div>"
      ],
      "text/plain": [
       "   rating                                   title  \\\n",
       "0       1                   bad servic bad hospit   \n",
       "1       1                   ai ai flight nightmar   \n",
       "2       1  worst airlin travel dont wast ur money   \n",
       "3       3                             good better   \n",
       "4       1                      poor airlin servic   \n",
       "\n",
       "                                                text  \n",
       "0  side baggag broken still get baggag claim alre...  \n",
       "1  took ai noon th march delay left pm miss conne...  \n",
       "2  one worst flight fli book one way last minut t...  \n",
       "3  posit aspect flight punctual polit effici infl...  \n",
       "4  extrem poor servic flight aircraft old broken ...  "
      ]
     },
     "execution_count": 22,
     "metadata": {},
     "output_type": "execute_result"
    }
   ],
   "source": [
    "df.head()"
   ]
  },
  {
   "cell_type": "code",
   "execution_count": 23,
   "id": "69e9c6cb-3f1d-4d67-8e22-7dad2ff2efde",
   "metadata": {},
   "outputs": [],
   "source": [
    "# joining the title and text columns"
   ]
  },
  {
   "cell_type": "code",
   "execution_count": 24,
   "id": "1b2b9c14-af05-4750-9429-f8c4b881bb6d",
   "metadata": {},
   "outputs": [],
   "source": [
    "df[\"Text\"] = df['title'] + \" \" + df['text']"
   ]
  },
  {
   "cell_type": "code",
   "execution_count": 25,
   "id": "270d4caa-affa-429e-95fd-7818a733e120",
   "metadata": {},
   "outputs": [
    {
     "data": {
      "text/html": [
       "<div>\n",
       "<style scoped>\n",
       "    .dataframe tbody tr th:only-of-type {\n",
       "        vertical-align: middle;\n",
       "    }\n",
       "\n",
       "    .dataframe tbody tr th {\n",
       "        vertical-align: top;\n",
       "    }\n",
       "\n",
       "    .dataframe thead th {\n",
       "        text-align: right;\n",
       "    }\n",
       "</style>\n",
       "<table border=\"1\" class=\"dataframe\">\n",
       "  <thead>\n",
       "    <tr style=\"text-align: right;\">\n",
       "      <th></th>\n",
       "      <th>rating</th>\n",
       "      <th>title</th>\n",
       "      <th>text</th>\n",
       "      <th>Text</th>\n",
       "    </tr>\n",
       "  </thead>\n",
       "  <tbody>\n",
       "    <tr>\n",
       "      <th>0</th>\n",
       "      <td>1</td>\n",
       "      <td>bad servic bad hospit</td>\n",
       "      <td>side baggag broken still get baggag claim alre...</td>\n",
       "      <td>bad servic bad hospit side baggag broken still...</td>\n",
       "    </tr>\n",
       "    <tr>\n",
       "      <th>1</th>\n",
       "      <td>1</td>\n",
       "      <td>ai ai flight nightmar</td>\n",
       "      <td>took ai noon th march delay left pm miss conne...</td>\n",
       "      <td>ai ai flight nightmar took ai noon th march de...</td>\n",
       "    </tr>\n",
       "    <tr>\n",
       "      <th>2</th>\n",
       "      <td>1</td>\n",
       "      <td>worst airlin travel dont wast ur money</td>\n",
       "      <td>one worst flight fli book one way last minut t...</td>\n",
       "      <td>worst airlin travel dont wast ur money one wor...</td>\n",
       "    </tr>\n",
       "    <tr>\n",
       "      <th>3</th>\n",
       "      <td>3</td>\n",
       "      <td>good better</td>\n",
       "      <td>posit aspect flight punctual polit effici infl...</td>\n",
       "      <td>good better posit aspect flight punctual polit...</td>\n",
       "    </tr>\n",
       "    <tr>\n",
       "      <th>4</th>\n",
       "      <td>1</td>\n",
       "      <td>poor airlin servic</td>\n",
       "      <td>extrem poor servic flight aircraft old broken ...</td>\n",
       "      <td>poor airlin servic extrem poor servic flight a...</td>\n",
       "    </tr>\n",
       "  </tbody>\n",
       "</table>\n",
       "</div>"
      ],
      "text/plain": [
       "   rating                                   title  \\\n",
       "0       1                   bad servic bad hospit   \n",
       "1       1                   ai ai flight nightmar   \n",
       "2       1  worst airlin travel dont wast ur money   \n",
       "3       3                             good better   \n",
       "4       1                      poor airlin servic   \n",
       "\n",
       "                                                text  \\\n",
       "0  side baggag broken still get baggag claim alre...   \n",
       "1  took ai noon th march delay left pm miss conne...   \n",
       "2  one worst flight fli book one way last minut t...   \n",
       "3  posit aspect flight punctual polit effici infl...   \n",
       "4  extrem poor servic flight aircraft old broken ...   \n",
       "\n",
       "                                                Text  \n",
       "0  bad servic bad hospit side baggag broken still...  \n",
       "1  ai ai flight nightmar took ai noon th march de...  \n",
       "2  worst airlin travel dont wast ur money one wor...  \n",
       "3  good better posit aspect flight punctual polit...  \n",
       "4  poor airlin servic extrem poor servic flight a...  "
      ]
     },
     "execution_count": 25,
     "metadata": {},
     "output_type": "execute_result"
    }
   ],
   "source": [
    "df.head()"
   ]
  },
  {
   "cell_type": "code",
   "execution_count": 26,
   "id": "2e275bd8-b3e3-45e4-befc-cd8cf1c08e55",
   "metadata": {},
   "outputs": [],
   "source": [
    "df.drop(columns=['text','title'],inplace=True)"
   ]
  },
  {
   "cell_type": "code",
   "execution_count": 27,
   "id": "8f5b3d8e-5ef8-49ff-9342-a30a4508a024",
   "metadata": {},
   "outputs": [
    {
     "data": {
      "text/html": [
       "<div>\n",
       "<style scoped>\n",
       "    .dataframe tbody tr th:only-of-type {\n",
       "        vertical-align: middle;\n",
       "    }\n",
       "\n",
       "    .dataframe tbody tr th {\n",
       "        vertical-align: top;\n",
       "    }\n",
       "\n",
       "    .dataframe thead th {\n",
       "        text-align: right;\n",
       "    }\n",
       "</style>\n",
       "<table border=\"1\" class=\"dataframe\">\n",
       "  <thead>\n",
       "    <tr style=\"text-align: right;\">\n",
       "      <th></th>\n",
       "      <th>rating</th>\n",
       "      <th>Text</th>\n",
       "    </tr>\n",
       "  </thead>\n",
       "  <tbody>\n",
       "    <tr>\n",
       "      <th>0</th>\n",
       "      <td>1</td>\n",
       "      <td>bad servic bad hospit side baggag broken still...</td>\n",
       "    </tr>\n",
       "    <tr>\n",
       "      <th>1</th>\n",
       "      <td>1</td>\n",
       "      <td>ai ai flight nightmar took ai noon th march de...</td>\n",
       "    </tr>\n",
       "    <tr>\n",
       "      <th>2</th>\n",
       "      <td>1</td>\n",
       "      <td>worst airlin travel dont wast ur money one wor...</td>\n",
       "    </tr>\n",
       "    <tr>\n",
       "      <th>3</th>\n",
       "      <td>3</td>\n",
       "      <td>good better posit aspect flight punctual polit...</td>\n",
       "    </tr>\n",
       "    <tr>\n",
       "      <th>4</th>\n",
       "      <td>1</td>\n",
       "      <td>poor airlin servic extrem poor servic flight a...</td>\n",
       "    </tr>\n",
       "  </tbody>\n",
       "</table>\n",
       "</div>"
      ],
      "text/plain": [
       "   rating                                               Text\n",
       "0       1  bad servic bad hospit side baggag broken still...\n",
       "1       1  ai ai flight nightmar took ai noon th march de...\n",
       "2       1  worst airlin travel dont wast ur money one wor...\n",
       "3       3  good better posit aspect flight punctual polit...\n",
       "4       1  poor airlin servic extrem poor servic flight a..."
      ]
     },
     "execution_count": 27,
     "metadata": {},
     "output_type": "execute_result"
    }
   ],
   "source": [
    "df.head()"
   ]
  },
  {
   "cell_type": "code",
   "execution_count": 52,
   "id": "34ae3bad-75c3-4259-aba3-7b1af6f3139d",
   "metadata": {},
   "outputs": [
    {
     "data": {
      "text/plain": [
       "(4840, 2)"
      ]
     },
     "execution_count": 52,
     "metadata": {},
     "output_type": "execute_result"
    }
   ],
   "source": [
    "df.shape"
   ]
  },
  {
   "cell_type": "code",
   "execution_count": 44,
   "id": "9ece4601-e34f-4481-88f4-6a6ad9da165d",
   "metadata": {},
   "outputs": [],
   "source": [
    "X = df['Text']\n",
    "Y = df['rating']"
   ]
  },
  {
   "cell_type": "code",
   "execution_count": 53,
   "id": "34db68e4-e71e-4cdd-ba5b-25458acf6c08",
   "metadata": {},
   "outputs": [],
   "source": [
    "X_train , X_test , Y_train , Y_test  = train_test_split(X, Y, test_size = 0.2 , stratify = Y , random_state = 42)"
   ]
  },
  {
   "cell_type": "code",
   "execution_count": 54,
   "id": "7115e92e-33b6-4e86-82f4-7304341bb412",
   "metadata": {},
   "outputs": [
    {
     "data": {
      "text/plain": [
       "(3872,)"
      ]
     },
     "execution_count": 54,
     "metadata": {},
     "output_type": "execute_result"
    }
   ],
   "source": [
    "X_train.shape"
   ]
  },
  {
   "cell_type": "code",
   "execution_count": 55,
   "id": "9c67708c-cc73-4210-97d0-a059ac2c6252",
   "metadata": {},
   "outputs": [
    {
     "data": {
      "text/plain": [
       "(968,)"
      ]
     },
     "execution_count": 55,
     "metadata": {},
     "output_type": "execute_result"
    }
   ],
   "source": [
    "X_test.shape"
   ]
  },
  {
   "cell_type": "code",
   "execution_count": 56,
   "id": "b64cec0a-e69a-4660-bd79-566a14efa0ed",
   "metadata": {},
   "outputs": [],
   "source": [
    "# Vectorization "
   ]
  },
  {
   "cell_type": "code",
   "execution_count": 57,
   "id": "1f80e3bb-1ae2-458c-8b35-0a9cfd9d4256",
   "metadata": {},
   "outputs": [],
   "source": [
    "vc = TfidfVectorizer()\n",
    "X_train = vc.fit_transform(X_train)\n",
    "X_test = vc.transform(X_test)"
   ]
  },
  {
   "cell_type": "code",
   "execution_count": 58,
   "id": "230f6cef-70af-4b87-a064-738db0dba780",
   "metadata": {},
   "outputs": [
    {
     "data": {
      "text/plain": [
       "<3872x8722 sparse matrix of type '<class 'numpy.float64'>'\n",
       "\twith 166778 stored elements in Compressed Sparse Row format>"
      ]
     },
     "execution_count": 58,
     "metadata": {},
     "output_type": "execute_result"
    }
   ],
   "source": [
    "X_train"
   ]
  },
  {
   "cell_type": "code",
   "execution_count": 75,
   "id": "e80e9d71-2bb0-4c5e-aac5-212a2aa000a5",
   "metadata": {},
   "outputs": [
    {
     "name": "stdout",
     "output_type": "stream",
     "text": [
      "Best Model R-squared = 0.71, MAE = 0.59\n"
     ]
    }
   ],
   "source": [
    "from sklearn.ensemble import RandomForestRegressor\n",
    "from sklearn.metrics import r2_score, mean_absolute_error\n",
    "\n",
    "# Best parameters that i have found using GridSearchCV\n",
    "best_params = {'max_depth': None, 'min_samples_leaf': 1, 'min_samples_split': 10, 'n_estimators': 200}\n",
    "\n",
    "# Initialize the Random Forest regressor with best parameters\n",
    "best_rf = RandomForestRegressor(random_state=42, **best_params)\n",
    "\n",
    "# Fit the model on the training data\n",
    "best_rf.fit(X_train, Y_train)\n",
    "\n",
    "# Evaluate the model on the test set\n",
    "y_pred_test = best_rf.predict(X_test)\n",
    "r2 = r2_score(Y_test, y_pred_test)\n",
    "mae = mean_absolute_error(Y_test, y_pred_test)\n",
    "print(f\"Best Model R-squared = {r2:.2f}, MAE = {mae:.2f}\")\n"
   ]
  },
  {
   "cell_type": "code",
   "execution_count": 89,
   "id": "0404a965-877f-40b3-af7b-590f7f34dc9d",
   "metadata": {},
   "outputs": [],
   "source": [
    "def predict_review(x):\n",
    "    x=stemming(x)\n",
    "    x=vc.transform([x])\n",
    "    print(int(best_rf.predict(x)[0]))"
   ]
  },
  {
   "cell_type": "code",
   "execution_count": 90,
   "id": "9952f286-52fa-4a65-be93-908169b87420",
   "metadata": {},
   "outputs": [
    {
     "name": "stdout",
     "output_type": "stream",
     "text": [
      "4\n"
     ]
    }
   ],
   "source": [
    "predict_review(\"this is a very good airline\")"
   ]
  },
  {
   "cell_type": "code",
   "execution_count": 91,
   "id": "3afb4ad9-4c64-4e5c-9572-687050d7bb7a",
   "metadata": {},
   "outputs": [
    {
     "name": "stdout",
     "output_type": "stream",
     "text": [
      "1\n"
     ]
    }
   ],
   "source": [
    "predict_review(\"the worst airline in the world very bad experince\")"
   ]
  },
  {
   "cell_type": "code",
   "execution_count": 94,
   "id": "974d2b74-af95-46d9-8f85-f495131989c9",
   "metadata": {},
   "outputs": [
    {
     "name": "stdout",
     "output_type": "stream",
     "text": [
      "2\n"
     ]
    }
   ],
   "source": [
    "predict_review(\"the airline did a fair job lots of scope for improvement\")"
   ]
  }
 ],
 "metadata": {
  "kernelspec": {
   "display_name": "Python 3 (ipykernel)",
   "language": "python",
   "name": "python3"
  },
  "language_info": {
   "codemirror_mode": {
    "name": "ipython",
    "version": 3
   },
   "file_extension": ".py",
   "mimetype": "text/x-python",
   "name": "python",
   "nbconvert_exporter": "python",
   "pygments_lexer": "ipython3",
   "version": "3.12.2"
  }
 },
 "nbformat": 4,
 "nbformat_minor": 5
}
